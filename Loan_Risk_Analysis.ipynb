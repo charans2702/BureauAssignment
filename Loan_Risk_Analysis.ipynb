{
 "cells": [
  {
   "cell_type": "markdown",
   "metadata": {},
   "source": [
    "# LOAN RISK ANALYSIS"
   ]
  },
  {
   "cell_type": "code",
   "execution_count": 1,
   "metadata": {},
   "outputs": [],
   "source": [
    "import pandas as pd\n",
    "import numpy as np"
   ]
  },
  {
   "cell_type": "markdown",
   "metadata": {},
   "source": [
    "### Loading the train Dataset"
   ]
  },
  {
   "cell_type": "code",
   "execution_count": 2,
   "metadata": {},
   "outputs": [],
   "source": [
    "df_train=pd.read_csv('Assignment_Train.csv')"
   ]
  },
  {
   "cell_type": "code",
   "execution_count": 3,
   "metadata": {},
   "outputs": [
    {
     "data": {
      "text/html": [
       "<div>\n",
       "<style scoped>\n",
       "    .dataframe tbody tr th:only-of-type {\n",
       "        vertical-align: middle;\n",
       "    }\n",
       "\n",
       "    .dataframe tbody tr th {\n",
       "        vertical-align: top;\n",
       "    }\n",
       "\n",
       "    .dataframe thead th {\n",
       "        text-align: right;\n",
       "    }\n",
       "</style>\n",
       "<table border=\"1\" class=\"dataframe\">\n",
       "  <thead>\n",
       "    <tr style=\"text-align: right;\">\n",
       "      <th></th>\n",
       "      <th>DEALER ID</th>\n",
       "      <th>APPLICATION LOGIN DATE</th>\n",
       "      <th>HDB BRANCH NAME</th>\n",
       "      <th>HDB BRANCH STATE</th>\n",
       "      <th>FIRST NAME</th>\n",
       "      <th>MIDDLE NAME</th>\n",
       "      <th>LAST NAME</th>\n",
       "      <th>mobile</th>\n",
       "      <th>AADHAR VERIFIED</th>\n",
       "      <th>Cibil Score</th>\n",
       "      <th>...</th>\n",
       "      <th>Phone Social Premium.shaadi</th>\n",
       "      <th>Phone Social Premium.skype</th>\n",
       "      <th>Phone Social Premium.toi</th>\n",
       "      <th>Phone Social Premium.whatsapp</th>\n",
       "      <th>Phone Social Premium.yatra</th>\n",
       "      <th>Phone Social Premium.zoho</th>\n",
       "      <th>phone_digitalage</th>\n",
       "      <th>phone_nameMatchScore</th>\n",
       "      <th>phone_phoneFootprintStrengthOverall</th>\n",
       "      <th>Application Status</th>\n",
       "    </tr>\n",
       "  </thead>\n",
       "  <tbody>\n",
       "    <tr>\n",
       "      <th>0</th>\n",
       "      <td>106989</td>\n",
       "      <td>07/20/2022</td>\n",
       "      <td>DELHI-SF</td>\n",
       "      <td>DELHI</td>\n",
       "      <td>SUNIL</td>\n",
       "      <td>NaN</td>\n",
       "      <td>CHANDER</td>\n",
       "      <td>9210574080</td>\n",
       "      <td>NO</td>\n",
       "      <td>726</td>\n",
       "      <td>...</td>\n",
       "      <td>0.0</td>\n",
       "      <td>0.0</td>\n",
       "      <td>1.0</td>\n",
       "      <td>NaN</td>\n",
       "      <td>NaN</td>\n",
       "      <td>0.0</td>\n",
       "      <td>5324.0</td>\n",
       "      <td>67.222222</td>\n",
       "      <td>High</td>\n",
       "      <td>APPROVED</td>\n",
       "    </tr>\n",
       "    <tr>\n",
       "      <th>1</th>\n",
       "      <td>108975</td>\n",
       "      <td>07/28/2022</td>\n",
       "      <td>PATNA-SF</td>\n",
       "      <td>BIHAR</td>\n",
       "      <td>AMRIT</td>\n",
       "      <td>NaN</td>\n",
       "      <td>KUMAR</td>\n",
       "      <td>8877987018</td>\n",
       "      <td>NO</td>\n",
       "      <td>NaN</td>\n",
       "      <td>...</td>\n",
       "      <td>0.0</td>\n",
       "      <td>0.0</td>\n",
       "      <td>0.0</td>\n",
       "      <td>NaN</td>\n",
       "      <td>NaN</td>\n",
       "      <td>0.0</td>\n",
       "      <td>1998.0</td>\n",
       "      <td>100.000000</td>\n",
       "      <td>High</td>\n",
       "      <td>APPROVED</td>\n",
       "    </tr>\n",
       "    <tr>\n",
       "      <th>2</th>\n",
       "      <td>111004</td>\n",
       "      <td>07/15/2022</td>\n",
       "      <td>DARJEELING-SF</td>\n",
       "      <td>WEST BENGAL</td>\n",
       "      <td>ANIMESH</td>\n",
       "      <td>NaN</td>\n",
       "      <td>THAPA</td>\n",
       "      <td>8910862135</td>\n",
       "      <td>NO</td>\n",
       "      <td>737</td>\n",
       "      <td>...</td>\n",
       "      <td>0.0</td>\n",
       "      <td>0.0</td>\n",
       "      <td>0.0</td>\n",
       "      <td>NaN</td>\n",
       "      <td>NaN</td>\n",
       "      <td>0.0</td>\n",
       "      <td>-1.0</td>\n",
       "      <td>-1.000000</td>\n",
       "      <td>Low</td>\n",
       "      <td>APPROVED</td>\n",
       "    </tr>\n",
       "    <tr>\n",
       "      <th>3</th>\n",
       "      <td>192020</td>\n",
       "      <td>07/04/22</td>\n",
       "      <td>SAHARANPUR-SF</td>\n",
       "      <td>UTTAR PRADESH</td>\n",
       "      <td>ADITYA</td>\n",
       "      <td>NaN</td>\n",
       "      <td>SINGH</td>\n",
       "      <td>9758428017</td>\n",
       "      <td>NO</td>\n",
       "      <td>713</td>\n",
       "      <td>...</td>\n",
       "      <td>0.0</td>\n",
       "      <td>0.0</td>\n",
       "      <td>1.0</td>\n",
       "      <td>NaN</td>\n",
       "      <td>NaN</td>\n",
       "      <td>0.0</td>\n",
       "      <td>1998.0</td>\n",
       "      <td>72.777778</td>\n",
       "      <td>High</td>\n",
       "      <td>APPROVED</td>\n",
       "    </tr>\n",
       "    <tr>\n",
       "      <th>4</th>\n",
       "      <td>55095</td>\n",
       "      <td>07/15/2022</td>\n",
       "      <td>MODASA-SF</td>\n",
       "      <td>GUJARAT</td>\n",
       "      <td>PARMAR</td>\n",
       "      <td>HARESHBHAI</td>\n",
       "      <td>AMRUTBHAI</td>\n",
       "      <td>9687028486</td>\n",
       "      <td>NO</td>\n",
       "      <td>669</td>\n",
       "      <td>...</td>\n",
       "      <td>0.0</td>\n",
       "      <td>0.0</td>\n",
       "      <td>1.0</td>\n",
       "      <td>NaN</td>\n",
       "      <td>NaN</td>\n",
       "      <td>0.0</td>\n",
       "      <td>1998.0</td>\n",
       "      <td>68.095238</td>\n",
       "      <td>High</td>\n",
       "      <td>DECLINED</td>\n",
       "    </tr>\n",
       "  </tbody>\n",
       "</table>\n",
       "<p>5 rows × 55 columns</p>\n",
       "</div>"
      ],
      "text/plain": [
       "   DEALER ID APPLICATION LOGIN DATE HDB BRANCH NAME HDB BRANCH STATE  \\\n",
       "0     106989             07/20/2022        DELHI-SF            DELHI   \n",
       "1     108975             07/28/2022        PATNA-SF            BIHAR   \n",
       "2     111004             07/15/2022   DARJEELING-SF      WEST BENGAL   \n",
       "3     192020               07/04/22   SAHARANPUR-SF    UTTAR PRADESH   \n",
       "4      55095             07/15/2022       MODASA-SF          GUJARAT   \n",
       "\n",
       "  FIRST NAME MIDDLE NAME  LAST NAME      mobile AADHAR VERIFIED Cibil Score  \\\n",
       "0      SUNIL         NaN    CHANDER  9210574080              NO         726   \n",
       "1      AMRIT         NaN      KUMAR  8877987018              NO         NaN   \n",
       "2    ANIMESH         NaN      THAPA  8910862135              NO         737   \n",
       "3     ADITYA         NaN      SINGH  9758428017              NO         713   \n",
       "4     PARMAR  HARESHBHAI  AMRUTBHAI  9687028486              NO         669   \n",
       "\n",
       "   ...  Phone Social Premium.shaadi Phone Social Premium.skype  \\\n",
       "0  ...                          0.0                        0.0   \n",
       "1  ...                          0.0                        0.0   \n",
       "2  ...                          0.0                        0.0   \n",
       "3  ...                          0.0                        0.0   \n",
       "4  ...                          0.0                        0.0   \n",
       "\n",
       "   Phone Social Premium.toi Phone Social Premium.whatsapp  \\\n",
       "0                       1.0                           NaN   \n",
       "1                       0.0                           NaN   \n",
       "2                       0.0                           NaN   \n",
       "3                       1.0                           NaN   \n",
       "4                       1.0                           NaN   \n",
       "\n",
       "   Phone Social Premium.yatra  Phone Social Premium.zoho phone_digitalage  \\\n",
       "0                         NaN                        0.0           5324.0   \n",
       "1                         NaN                        0.0           1998.0   \n",
       "2                         NaN                        0.0             -1.0   \n",
       "3                         NaN                        0.0           1998.0   \n",
       "4                         NaN                        0.0           1998.0   \n",
       "\n",
       "  phone_nameMatchScore phone_phoneFootprintStrengthOverall Application Status  \n",
       "0            67.222222                                High           APPROVED  \n",
       "1           100.000000                                High           APPROVED  \n",
       "2            -1.000000                                 Low           APPROVED  \n",
       "3            72.777778                                High           APPROVED  \n",
       "4            68.095238                                High           DECLINED  \n",
       "\n",
       "[5 rows x 55 columns]"
      ]
     },
     "execution_count": 3,
     "metadata": {},
     "output_type": "execute_result"
    }
   ],
   "source": [
    "df_train.head()"
   ]
  },
  {
   "cell_type": "code",
   "execution_count": 4,
   "metadata": {},
   "outputs": [],
   "source": [
    "target='Application Status'"
   ]
  },
  {
   "cell_type": "markdown",
   "metadata": {},
   "source": [
    "### Droping the target Variable"
   ]
  },
  {
   "cell_type": "code",
   "execution_count": 5,
   "metadata": {},
   "outputs": [],
   "source": [
    "df1=df_train.drop(columns=[target])\n"
   ]
  },
  {
   "cell_type": "code",
   "execution_count": 6,
   "metadata": {},
   "outputs": [
    {
     "data": {
      "text/plain": [
       "(10000, 54)"
      ]
     },
     "execution_count": 6,
     "metadata": {},
     "output_type": "execute_result"
    }
   ],
   "source": [
    "df1.shape"
   ]
  },
  {
   "cell_type": "markdown",
   "metadata": {},
   "source": [
    "### Loading the test dataset"
   ]
  },
  {
   "cell_type": "code",
   "execution_count": 7,
   "metadata": {},
   "outputs": [],
   "source": [
    "df_test=pd.read_csv('Assignment_Test.csv')"
   ]
  },
  {
   "cell_type": "code",
   "execution_count": 8,
   "metadata": {},
   "outputs": [
    {
     "data": {
      "text/html": [
       "<div>\n",
       "<style scoped>\n",
       "    .dataframe tbody tr th:only-of-type {\n",
       "        vertical-align: middle;\n",
       "    }\n",
       "\n",
       "    .dataframe tbody tr th {\n",
       "        vertical-align: top;\n",
       "    }\n",
       "\n",
       "    .dataframe thead th {\n",
       "        text-align: right;\n",
       "    }\n",
       "</style>\n",
       "<table border=\"1\" class=\"dataframe\">\n",
       "  <thead>\n",
       "    <tr style=\"text-align: right;\">\n",
       "      <th></th>\n",
       "      <th>UID</th>\n",
       "      <th>DEALER ID</th>\n",
       "      <th>APPLICATION LOGIN DATE</th>\n",
       "      <th>HDB BRANCH NAME</th>\n",
       "      <th>HDB BRANCH STATE</th>\n",
       "      <th>FIRST NAME</th>\n",
       "      <th>MIDDLE NAME</th>\n",
       "      <th>LAST NAME</th>\n",
       "      <th>mobile</th>\n",
       "      <th>AADHAR VERIFIED</th>\n",
       "      <th>...</th>\n",
       "      <th>Phone Social Premium.rummycircle</th>\n",
       "      <th>Phone Social Premium.shaadi</th>\n",
       "      <th>Phone Social Premium.skype</th>\n",
       "      <th>Phone Social Premium.toi</th>\n",
       "      <th>Phone Social Premium.whatsapp</th>\n",
       "      <th>Phone Social Premium.yatra</th>\n",
       "      <th>Phone Social Premium.zoho</th>\n",
       "      <th>phone_digitalage</th>\n",
       "      <th>phone_nameMatchScore</th>\n",
       "      <th>phone_phoneFootprintStrengthOverall</th>\n",
       "    </tr>\n",
       "  </thead>\n",
       "  <tbody>\n",
       "    <tr>\n",
       "      <th>0</th>\n",
       "      <td>1844045271814558464</td>\n",
       "      <td>105615</td>\n",
       "      <td>07/12/22</td>\n",
       "      <td>HUBLI-SF</td>\n",
       "      <td>NaN</td>\n",
       "      <td>VENUGOPAL</td>\n",
       "      <td>H</td>\n",
       "      <td>BHARADHVAJ</td>\n",
       "      <td>7019759674</td>\n",
       "      <td>NO</td>\n",
       "      <td>...</td>\n",
       "      <td>NaN</td>\n",
       "      <td>0.0</td>\n",
       "      <td>0.0</td>\n",
       "      <td>0.0</td>\n",
       "      <td>0.0</td>\n",
       "      <td>NaN</td>\n",
       "      <td>0.0</td>\n",
       "      <td>676</td>\n",
       "      <td>100.0</td>\n",
       "      <td>Medium</td>\n",
       "    </tr>\n",
       "    <tr>\n",
       "      <th>1</th>\n",
       "      <td>1840349097823778816</td>\n",
       "      <td>91593</td>\n",
       "      <td>07/14/2022</td>\n",
       "      <td>SATNA-SF</td>\n",
       "      <td>MADHYA PRADESH</td>\n",
       "      <td>SHIVDHAR</td>\n",
       "      <td>NaN</td>\n",
       "      <td>CHAUDHARY</td>\n",
       "      <td>7697884828</td>\n",
       "      <td>NO</td>\n",
       "      <td>...</td>\n",
       "      <td>NaN</td>\n",
       "      <td>0.0</td>\n",
       "      <td>0.0</td>\n",
       "      <td>NaN</td>\n",
       "      <td>0.0</td>\n",
       "      <td>NaN</td>\n",
       "      <td>0.0</td>\n",
       "      <td>897</td>\n",
       "      <td>-1.0</td>\n",
       "      <td>Low</td>\n",
       "    </tr>\n",
       "    <tr>\n",
       "      <th>2</th>\n",
       "      <td>1488102613362294272</td>\n",
       "      <td>74152</td>\n",
       "      <td>07/07/22</td>\n",
       "      <td>LUCKNOW-SF</td>\n",
       "      <td>UTTAR PRADESH</td>\n",
       "      <td>MANISH</td>\n",
       "      <td>NaN</td>\n",
       "      <td>VERMA</td>\n",
       "      <td>8840079825</td>\n",
       "      <td>NO</td>\n",
       "      <td>...</td>\n",
       "      <td>NaN</td>\n",
       "      <td>0.0</td>\n",
       "      <td>1.0</td>\n",
       "      <td>0.0</td>\n",
       "      <td>1.0</td>\n",
       "      <td>NaN</td>\n",
       "      <td>0.0</td>\n",
       "      <td>839</td>\n",
       "      <td>100.0</td>\n",
       "      <td>Medium</td>\n",
       "    </tr>\n",
       "    <tr>\n",
       "      <th>3</th>\n",
       "      <td>555529923942874624</td>\n",
       "      <td>110164</td>\n",
       "      <td>07/13/2022</td>\n",
       "      <td>KOLLAM-SF</td>\n",
       "      <td>KERALA</td>\n",
       "      <td>DEEPU</td>\n",
       "      <td>RAVEENDRAN</td>\n",
       "      <td>RAVEENDRAN</td>\n",
       "      <td>8089276854</td>\n",
       "      <td>NO</td>\n",
       "      <td>...</td>\n",
       "      <td>NaN</td>\n",
       "      <td>0.0</td>\n",
       "      <td>0.0</td>\n",
       "      <td>0.0</td>\n",
       "      <td>NaN</td>\n",
       "      <td>NaN</td>\n",
       "      <td>0.0</td>\n",
       "      <td>2050</td>\n",
       "      <td>-1.0</td>\n",
       "      <td>Low</td>\n",
       "    </tr>\n",
       "    <tr>\n",
       "      <th>4</th>\n",
       "      <td>1010213070486150912</td>\n",
       "      <td>113037</td>\n",
       "      <td>07/08/22</td>\n",
       "      <td>PURI-SF</td>\n",
       "      <td>ORISSA</td>\n",
       "      <td>AKASHA</td>\n",
       "      <td>NaN</td>\n",
       "      <td>PRADHAN</td>\n",
       "      <td>9337511958</td>\n",
       "      <td>NO</td>\n",
       "      <td>...</td>\n",
       "      <td>NaN</td>\n",
       "      <td>0.0</td>\n",
       "      <td>0.0</td>\n",
       "      <td>0.0</td>\n",
       "      <td>NaN</td>\n",
       "      <td>NaN</td>\n",
       "      <td>0.0</td>\n",
       "      <td>-1</td>\n",
       "      <td>-1.0</td>\n",
       "      <td>Very Low</td>\n",
       "    </tr>\n",
       "  </tbody>\n",
       "</table>\n",
       "<p>5 rows × 55 columns</p>\n",
       "</div>"
      ],
      "text/plain": [
       "                   UID  DEALER ID APPLICATION LOGIN DATE HDB BRANCH NAME  \\\n",
       "0  1844045271814558464     105615               07/12/22        HUBLI-SF   \n",
       "1  1840349097823778816      91593             07/14/2022        SATNA-SF   \n",
       "2  1488102613362294272      74152               07/07/22      LUCKNOW-SF   \n",
       "3   555529923942874624     110164             07/13/2022       KOLLAM-SF   \n",
       "4  1010213070486150912     113037               07/08/22         PURI-SF   \n",
       "\n",
       "  HDB BRANCH STATE FIRST NAME MIDDLE NAME   LAST NAME      mobile  \\\n",
       "0              NaN  VENUGOPAL           H  BHARADHVAJ  7019759674   \n",
       "1   MADHYA PRADESH   SHIVDHAR         NaN   CHAUDHARY  7697884828   \n",
       "2    UTTAR PRADESH     MANISH         NaN       VERMA  8840079825   \n",
       "3           KERALA      DEEPU  RAVEENDRAN  RAVEENDRAN  8089276854   \n",
       "4           ORISSA     AKASHA         NaN     PRADHAN  9337511958   \n",
       "\n",
       "  AADHAR VERIFIED  ... Phone Social Premium.rummycircle  \\\n",
       "0              NO  ...                              NaN   \n",
       "1              NO  ...                              NaN   \n",
       "2              NO  ...                              NaN   \n",
       "3              NO  ...                              NaN   \n",
       "4              NO  ...                              NaN   \n",
       "\n",
       "   Phone Social Premium.shaadi Phone Social Premium.skype  \\\n",
       "0                          0.0                        0.0   \n",
       "1                          0.0                        0.0   \n",
       "2                          0.0                        1.0   \n",
       "3                          0.0                        0.0   \n",
       "4                          0.0                        0.0   \n",
       "\n",
       "   Phone Social Premium.toi Phone Social Premium.whatsapp  \\\n",
       "0                       0.0                           0.0   \n",
       "1                       NaN                           0.0   \n",
       "2                       0.0                           1.0   \n",
       "3                       0.0                           NaN   \n",
       "4                       0.0                           NaN   \n",
       "\n",
       "   Phone Social Premium.yatra  Phone Social Premium.zoho phone_digitalage  \\\n",
       "0                         NaN                        0.0              676   \n",
       "1                         NaN                        0.0              897   \n",
       "2                         NaN                        0.0              839   \n",
       "3                         NaN                        0.0             2050   \n",
       "4                         NaN                        0.0               -1   \n",
       "\n",
       "  phone_nameMatchScore phone_phoneFootprintStrengthOverall  \n",
       "0                100.0                              Medium  \n",
       "1                 -1.0                                 Low  \n",
       "2                100.0                              Medium  \n",
       "3                 -1.0                                 Low  \n",
       "4                 -1.0                            Very Low  \n",
       "\n",
       "[5 rows x 55 columns]"
      ]
     },
     "execution_count": 8,
     "metadata": {},
     "output_type": "execute_result"
    }
   ],
   "source": [
    "df_test.head()"
   ]
  },
  {
   "cell_type": "markdown",
   "metadata": {},
   "source": [
    "### Droping the UID column"
   ]
  },
  {
   "cell_type": "code",
   "execution_count": 9,
   "metadata": {},
   "outputs": [],
   "source": [
    "df2=df_test.drop(columns=['UID'])"
   ]
  },
  {
   "cell_type": "code",
   "execution_count": 10,
   "metadata": {},
   "outputs": [
    {
     "data": {
      "text/plain": [
       "(2000, 54)"
      ]
     },
     "execution_count": 10,
     "metadata": {},
     "output_type": "execute_result"
    }
   ],
   "source": [
    "df2.shape"
   ]
  },
  {
   "cell_type": "markdown",
   "metadata": {},
   "source": [
    "### Concatinating the train and test data for Data Preprocessing"
   ]
  },
  {
   "cell_type": "code",
   "execution_count": 11,
   "metadata": {},
   "outputs": [],
   "source": [
    "df= pd.concat([df1, df2], ignore_index=True)"
   ]
  },
  {
   "cell_type": "code",
   "execution_count": 12,
   "metadata": {},
   "outputs": [
    {
     "data": {
      "text/plain": [
       "(12000, 54)"
      ]
     },
     "execution_count": 12,
     "metadata": {},
     "output_type": "execute_result"
    }
   ],
   "source": [
    "df.shape"
   ]
  },
  {
   "cell_type": "code",
   "execution_count": 13,
   "metadata": {},
   "outputs": [
    {
     "name": "stdout",
     "output_type": "stream",
     "text": [
      "<class 'pandas.core.frame.DataFrame'>\n",
      "RangeIndex: 12000 entries, 0 to 11999\n",
      "Data columns (total 54 columns):\n",
      " #   Column                               Non-Null Count  Dtype  \n",
      "---  ------                               --------------  -----  \n",
      " 0   DEALER ID                            12000 non-null  int64  \n",
      " 1   APPLICATION LOGIN DATE               12000 non-null  object \n",
      " 2   HDB BRANCH NAME                      11999 non-null  object \n",
      " 3   HDB BRANCH STATE                     10974 non-null  object \n",
      " 4   FIRST NAME                           12000 non-null  object \n",
      " 5   MIDDLE NAME                          3450 non-null   object \n",
      " 6   LAST NAME                            11188 non-null  object \n",
      " 7   mobile                               12000 non-null  int64  \n",
      " 8   AADHAR VERIFIED                      12000 non-null  object \n",
      " 9   Cibil Score                          6861 non-null   object \n",
      " 10  MOBILE VERIFICATION                  12000 non-null  bool   \n",
      " 11  DEALER NAME                          11996 non-null  object \n",
      " 12  TOTAL ASSET COST                     5870 non-null   float64\n",
      " 13  ASSET CTG                            5870 non-null   object \n",
      " 14  ASSET MODEL NO                       12000 non-null  int64  \n",
      " 15  APPLIED AMOUNT                       12000 non-null  int64  \n",
      " 16  PRIMARY ASSET MAKE                   12000 non-null  object \n",
      " 17  Primary Asset Model No               12000 non-null  object \n",
      " 18  Personal Email Address               12000 non-null  object \n",
      " 19  MARITAL STATUS                       6125 non-null   object \n",
      " 20  GENDER                               12000 non-null  object \n",
      " 21  DOB                                  12000 non-null  int64  \n",
      " 22  AGE                                  12000 non-null  int64  \n",
      " 23  ADDRESS TYPE                         8053 non-null   object \n",
      " 24  EMPLOY CONSTITUTION                  6008 non-null   object \n",
      " 25  EMPLOYER NAME                        5995 non-null   object \n",
      " 26  EMPLOYER TYPE                        6008 non-null   object \n",
      " 27  Pan Name                             10738 non-null  object \n",
      " 28  name                                 12000 non-null  object \n",
      " 29  vpa                                  8659 non-null   object \n",
      " 30  upi_name                             8656 non-null   object \n",
      " 31  Phone Social Premium.a23games        1 non-null      float64\n",
      " 32  Phone Social Premium.amazon          9967 non-null   float64\n",
      " 33  Phone Social Premium.byjus           10029 non-null  float64\n",
      " 34  Phone Social Premium.flipkart        10123 non-null  float64\n",
      " 35  Phone Social Premium.housing         10201 non-null  float64\n",
      " 36  Phone Social Premium.indiamart       10202 non-null  float64\n",
      " 37  Phone Social Premium.instagram       3982 non-null   float64\n",
      " 38  Phone Social Premium.isWABusiness    1835 non-null   float64\n",
      " 39  Phone Social Premium.jeevansaathi    10133 non-null  float64\n",
      " 40  Phone Social Premium.jiomart         453 non-null    float64\n",
      " 41  Phone Social Premium.microsoft       10099 non-null  float64\n",
      " 42  Phone Social Premium.my11            2 non-null      float64\n",
      " 43  Phone Social Premium.paytm           10218 non-null  float64\n",
      " 44  Phone Social Premium.rummycircle     1 non-null      float64\n",
      " 45  Phone Social Premium.shaadi          10195 non-null  float64\n",
      " 46  Phone Social Premium.skype           10189 non-null  float64\n",
      " 47  Phone Social Premium.toi             9993 non-null   float64\n",
      " 48  Phone Social Premium.whatsapp        1835 non-null   float64\n",
      " 49  Phone Social Premium.yatra           9 non-null      float64\n",
      " 50  Phone Social Premium.zoho            10195 non-null  float64\n",
      " 51  phone_digitalage                     11996 non-null  float64\n",
      " 52  phone_nameMatchScore                 11996 non-null  float64\n",
      " 53  phone_phoneFootprintStrengthOverall  11993 non-null  object \n",
      "dtypes: bool(1), float64(23), int64(6), object(24)\n",
      "memory usage: 4.9+ MB\n"
     ]
    }
   ],
   "source": [
    "df.info()"
   ]
  },
  {
   "cell_type": "markdown",
   "metadata": {},
   "source": [
    "### Checking for the null Values"
   ]
  },
  {
   "cell_type": "code",
   "execution_count": 14,
   "metadata": {},
   "outputs": [
    {
     "data": {
      "text/plain": [
       "DEALER ID                    0\n",
       "APPLICATION LOGIN DATE       0\n",
       "HDB BRANCH NAME              1\n",
       "HDB BRANCH STATE          1026\n",
       "FIRST NAME                   0\n",
       "MIDDLE NAME               8550\n",
       "LAST NAME                  812\n",
       "mobile                       0\n",
       "AADHAR VERIFIED              0\n",
       "Cibil Score               5139\n",
       "MOBILE VERIFICATION          0\n",
       "DEALER NAME                  4\n",
       "TOTAL ASSET COST          6130\n",
       "ASSET CTG                 6130\n",
       "ASSET MODEL NO               0\n",
       "APPLIED AMOUNT               0\n",
       "PRIMARY ASSET MAKE           0\n",
       "Primary Asset Model No       0\n",
       "Personal Email Address       0\n",
       "MARITAL STATUS            5875\n",
       "GENDER                       0\n",
       "DOB                          0\n",
       "AGE                          0\n",
       "ADDRESS TYPE              3947\n",
       "EMPLOY CONSTITUTION       5992\n",
       "EMPLOYER NAME             6005\n",
       "EMPLOYER TYPE             5992\n",
       "Pan Name                  1262\n",
       "dtype: int64"
      ]
     },
     "execution_count": 14,
     "metadata": {},
     "output_type": "execute_result"
    }
   ],
   "source": [
    "df.isnull().sum()[:28]"
   ]
  },
  {
   "cell_type": "code",
   "execution_count": 15,
   "metadata": {},
   "outputs": [
    {
     "data": {
      "text/plain": [
       "name                                       0\n",
       "vpa                                     3341\n",
       "upi_name                                3344\n",
       "Phone Social Premium.a23games          11999\n",
       "Phone Social Premium.amazon             2033\n",
       "Phone Social Premium.byjus              1971\n",
       "Phone Social Premium.flipkart           1877\n",
       "Phone Social Premium.housing            1799\n",
       "Phone Social Premium.indiamart          1798\n",
       "Phone Social Premium.instagram          8018\n",
       "Phone Social Premium.isWABusiness      10165\n",
       "Phone Social Premium.jeevansaathi       1867\n",
       "Phone Social Premium.jiomart           11547\n",
       "Phone Social Premium.microsoft          1901\n",
       "Phone Social Premium.my11              11998\n",
       "Phone Social Premium.paytm              1782\n",
       "Phone Social Premium.rummycircle       11999\n",
       "Phone Social Premium.shaadi             1805\n",
       "Phone Social Premium.skype              1811\n",
       "Phone Social Premium.toi                2007\n",
       "Phone Social Premium.whatsapp          10165\n",
       "Phone Social Premium.yatra             11991\n",
       "Phone Social Premium.zoho               1805\n",
       "phone_digitalage                           4\n",
       "phone_nameMatchScore                       4\n",
       "phone_phoneFootprintStrengthOverall        7\n",
       "dtype: int64"
      ]
     },
     "execution_count": 15,
     "metadata": {},
     "output_type": "execute_result"
    }
   ],
   "source": [
    "df.isnull().sum()[28:]"
   ]
  },
  {
   "cell_type": "markdown",
   "metadata": {},
   "source": [
    "#### Some of the Phone Social Premium columns cantains about 95% of the null values So I am Droping them"
   ]
  },
  {
   "cell_type": "code",
   "execution_count": 16,
   "metadata": {},
   "outputs": [],
   "source": [
    "df = df.drop(columns=['Phone Social Premium.a23games', 'Phone Social Premium.isWABusiness', 'Phone Social Premium.jiomart',\n",
    "                      'Phone Social Premium.my11','Phone Social Premium.rummycircle','Phone Social Premium.whatsapp','Phone Social Premium.yatra'])"
   ]
  },
  {
   "cell_type": "markdown",
   "metadata": {},
   "source": [
    "### Droping the features which are not so important"
   ]
  },
  {
   "cell_type": "code",
   "execution_count": 17,
   "metadata": {},
   "outputs": [],
   "source": [
    "features_to_exclude = ['APPLICATION LOGIN DATE','DEALER ID','FIRST NAME', 'MIDDLE NAME', 'LAST NAME', 'Personal Email Address', 'mobile',  'DEALER NAME',\n",
    "      'HDB BRANCH NAME', 'EMPLOYER NAME','HDB BRANCH STATE']"
   ]
  },
  {
   "cell_type": "code",
   "execution_count": 18,
   "metadata": {},
   "outputs": [],
   "source": [
    "df = df.drop(columns=features_to_exclude)"
   ]
  },
  {
   "cell_type": "code",
   "execution_count": 19,
   "metadata": {},
   "outputs": [
    {
     "data": {
      "text/plain": [
       "Index(['AADHAR VERIFIED', 'Cibil Score', 'MOBILE VERIFICATION',\n",
       "       'TOTAL ASSET COST', 'ASSET CTG', 'ASSET MODEL NO', 'APPLIED AMOUNT',\n",
       "       'PRIMARY ASSET MAKE', 'Primary Asset Model No', 'MARITAL STATUS',\n",
       "       'GENDER', 'DOB', 'AGE', 'ADDRESS TYPE', 'EMPLOY CONSTITUTION',\n",
       "       'EMPLOYER TYPE', 'Pan Name', 'name', 'vpa', 'upi_name',\n",
       "       'Phone Social Premium.amazon', 'Phone Social Premium.byjus',\n",
       "       'Phone Social Premium.flipkart', 'Phone Social Premium.housing',\n",
       "       'Phone Social Premium.indiamart', 'Phone Social Premium.instagram',\n",
       "       'Phone Social Premium.jeevansaathi', 'Phone Social Premium.microsoft',\n",
       "       'Phone Social Premium.paytm', 'Phone Social Premium.shaadi',\n",
       "       'Phone Social Premium.skype', 'Phone Social Premium.toi',\n",
       "       'Phone Social Premium.zoho', 'phone_digitalage', 'phone_nameMatchScore',\n",
       "       'phone_phoneFootprintStrengthOverall'],\n",
       "      dtype='object')"
      ]
     },
     "execution_count": 19,
     "metadata": {},
     "output_type": "execute_result"
    }
   ],
   "source": [
    "df.columns"
   ]
  },
  {
   "cell_type": "code",
   "execution_count": 20,
   "metadata": {},
   "outputs": [],
   "source": [
    "df=df.drop(columns=['vpa','Pan Name','name','upi_name'])"
   ]
  },
  {
   "cell_type": "markdown",
   "metadata": {},
   "source": [
    "### Creating another feature for social meadia count"
   ]
  },
  {
   "cell_type": "code",
   "execution_count": 21,
   "metadata": {},
   "outputs": [],
   "source": [
    "social_media_columns = [col for col in df.columns if col.startswith('Phone Social Premium')]\n",
    "df['SOCIAL_MEDIA_COUNT'] = df[social_media_columns].sum(axis=1)"
   ]
  },
  {
   "cell_type": "code",
   "execution_count": 22,
   "metadata": {},
   "outputs": [
    {
     "data": {
      "text/plain": [
       "0    5.0\n",
       "1    5.0\n",
       "2    2.0\n",
       "3    6.0\n",
       "4    5.0\n",
       "Name: SOCIAL_MEDIA_COUNT, dtype: float64"
      ]
     },
     "execution_count": 22,
     "metadata": {},
     "output_type": "execute_result"
    }
   ],
   "source": [
    "df['SOCIAL_MEDIA_COUNT'].head()"
   ]
  },
  {
   "cell_type": "code",
   "execution_count": 23,
   "metadata": {},
   "outputs": [
    {
     "data": {
      "text/plain": [
       "AADHAR VERIFIED                           0\n",
       "Cibil Score                            5139\n",
       "MOBILE VERIFICATION                       0\n",
       "TOTAL ASSET COST                       6130\n",
       "ASSET CTG                              6130\n",
       "ASSET MODEL NO                            0\n",
       "APPLIED AMOUNT                            0\n",
       "PRIMARY ASSET MAKE                        0\n",
       "Primary Asset Model No                    0\n",
       "MARITAL STATUS                         5875\n",
       "GENDER                                    0\n",
       "DOB                                       0\n",
       "AGE                                       0\n",
       "ADDRESS TYPE                           3947\n",
       "EMPLOY CONSTITUTION                    5992\n",
       "EMPLOYER TYPE                          5992\n",
       "Phone Social Premium.amazon            2033\n",
       "Phone Social Premium.byjus             1971\n",
       "Phone Social Premium.flipkart          1877\n",
       "Phone Social Premium.housing           1799\n",
       "Phone Social Premium.indiamart         1798\n",
       "Phone Social Premium.instagram         8018\n",
       "Phone Social Premium.jeevansaathi      1867\n",
       "Phone Social Premium.microsoft         1901\n",
       "Phone Social Premium.paytm             1782\n",
       "Phone Social Premium.shaadi            1805\n",
       "Phone Social Premium.skype             1811\n",
       "Phone Social Premium.toi               2007\n",
       "Phone Social Premium.zoho              1805\n",
       "phone_digitalage                          4\n",
       "phone_nameMatchScore                      4\n",
       "phone_phoneFootprintStrengthOverall       7\n",
       "SOCIAL_MEDIA_COUNT                        0\n",
       "dtype: int64"
      ]
     },
     "execution_count": 23,
     "metadata": {},
     "output_type": "execute_result"
    }
   ],
   "source": [
    "df.isnull().sum()"
   ]
  },
  {
   "cell_type": "code",
   "execution_count": 24,
   "metadata": {},
   "outputs": [],
   "source": [
    "import seaborn as sns"
   ]
  },
  {
   "cell_type": "markdown",
   "metadata": {},
   "source": [
    "### ploting the data distribution for TOTAL ASSET COSR"
   ]
  },
  {
   "cell_type": "code",
   "execution_count": 25,
   "metadata": {},
   "outputs": [
    {
     "data": {
      "text/plain": [
       "<Axes: xlabel='TOTAL ASSET COST', ylabel='Count'>"
      ]
     },
     "execution_count": 25,
     "metadata": {},
     "output_type": "execute_result"
    },
    {
     "data": {
      "image/png": "[encoded data removed]",
      "text/plain": [
       "<Figure size 640x480 with 1 Axes>"
      ]
     },
     "metadata": {},
     "output_type": "display_data"
    }
   ],
   "source": [
    "sns.histplot(df['TOTAL ASSET COST'],kde=True)"
   ]
  },
  {
   "cell_type": "markdown",
   "metadata": {},
   "source": [
    "### data is skewed towerds left and is not best idea filling the nan values with mean and also is not a best idea for droping the data points as it contains around 50% of the data so I am filling it with median"
   ]
  },
  {
   "cell_type": "code",
   "execution_count": 26,
   "metadata": {},
   "outputs": [],
   "source": [
    "df['TOTAL ASSET COST'].fillna(df['TOTAL ASSET COST'].median(), inplace=True)"
   ]
  },
  {
   "cell_type": "code",
   "execution_count": 27,
   "metadata": {},
   "outputs": [
    {
     "data": {
      "text/plain": [
       "0    MCEXA\n",
       "1      NaN\n",
       "2    SCEXA\n",
       "3    MCECA\n",
       "4      NaN\n",
       "Name: ASSET CTG, dtype: object"
      ]
     },
     "execution_count": 27,
     "metadata": {},
     "output_type": "execute_result"
    }
   ],
   "source": [
    "df['ASSET CTG'].head()"
   ]
  },
  {
   "cell_type": "markdown",
   "metadata": {},
   "source": [
    "### ploting the data distribution for ASSET Catogory"
   ]
  },
  {
   "cell_type": "code",
   "execution_count": 28,
   "metadata": {},
   "outputs": [
    {
     "data": {
      "text/plain": [
       "<Axes: xlabel='ASSET CTG', ylabel='Count'>"
      ]
     },
     "execution_count": 28,
     "metadata": {},
     "output_type": "execute_result"
    },
    {
     "data": {
      "image/png": "[encoded data removed]",
      "text/plain": [
       "<Figure size 1000x500 with 1 Axes>"
      ]
     },
     "metadata": {},
     "output_type": "display_data"
    }
   ],
   "source": [
    "import matplotlib.pyplot as plt\n",
    "plt.figure(figsize=(10,5))\n",
    "sns.histplot(df['ASSET CTG'],kde=True)"
   ]
  },
  {
   "cell_type": "markdown",
   "metadata": {},
   "source": [
    "### from the above plot i decided to fill the nan values with mode"
   ]
  },
  {
   "cell_type": "code",
   "execution_count": 29,
   "metadata": {},
   "outputs": [],
   "source": [
    "\n",
    "df['ASSET CTG'].fillna(df['ASSET CTG'].mode()[0], inplace=True)"
   ]
  },
  {
   "cell_type": "code",
   "execution_count": 30,
   "metadata": {},
   "outputs": [
    {
     "data": {
      "text/plain": [
       "5992"
      ]
     },
     "execution_count": 30,
     "metadata": {},
     "output_type": "execute_result"
    }
   ],
   "source": [
    "df['EMPLOY CONSTITUTION'].isnull().sum()"
   ]
  },
  {
   "cell_type": "code",
   "execution_count": 31,
   "metadata": {},
   "outputs": [
    {
     "data": {
      "text/plain": [
       "EMPLOY CONSTITUTION\n",
       "SELF-EMPLOYED    4180\n",
       "SALARIED         1828\n",
       "Name: count, dtype: int64"
      ]
     },
     "execution_count": 31,
     "metadata": {},
     "output_type": "execute_result"
    }
   ],
   "source": [
    "df['EMPLOY CONSTITUTION'].value_counts()"
   ]
  },
  {
   "cell_type": "markdown",
   "metadata": {},
   "source": [
    "### I filled nan values for EMPLOY CONSTITUTION as 'Unknown'"
   ]
  },
  {
   "cell_type": "code",
   "execution_count": 32,
   "metadata": {},
   "outputs": [],
   "source": [
    "df['EMPLOY CONSTITUTION'].fillna('Unknown', inplace=True)"
   ]
  },
  {
   "cell_type": "code",
   "execution_count": 33,
   "metadata": {},
   "outputs": [
    {
     "data": {
      "text/plain": [
       "5875"
      ]
     },
     "execution_count": 33,
     "metadata": {},
     "output_type": "execute_result"
    }
   ],
   "source": [
    "df['MARITAL STATUS'].isnull().sum()"
   ]
  },
  {
   "cell_type": "code",
   "execution_count": 34,
   "metadata": {},
   "outputs": [
    {
     "data": {
      "text/plain": [
       "MARITAL STATUS\n",
       "Married    4597\n",
       "Single     1528\n",
       "Name: count, dtype: int64"
      ]
     },
     "execution_count": 34,
     "metadata": {},
     "output_type": "execute_result"
    }
   ],
   "source": [
    "df['MARITAL STATUS'].value_counts()"
   ]
  },
  {
   "cell_type": "markdown",
   "metadata": {},
   "source": [
    "### I filled nan values for MARITAL STATUS as 'Unknown'"
   ]
  },
  {
   "cell_type": "code",
   "execution_count": 35,
   "metadata": {},
   "outputs": [],
   "source": [
    "df['MARITAL STATUS'].fillna(df['MARITAL STATUS'].mode()[0], inplace=True)"
   ]
  },
  {
   "cell_type": "markdown",
   "metadata": {},
   "source": [
    "### ploting the data distribution for cibil score"
   ]
  },
  {
   "cell_type": "code",
   "execution_count": 36,
   "metadata": {},
   "outputs": [
    {
     "data": {
      "text/plain": [
       "<Axes: xlabel='Cibil Score', ylabel='Count'>"
      ]
     },
     "execution_count": 36,
     "metadata": {},
     "output_type": "execute_result"
    },
    {
     "data": {
      "image/png": "[encoded data removed]",
      "text/plain": [
       "<Figure size 1000x500 with 1 Axes>"
      ]
     },
     "metadata": {},
     "output_type": "display_data"
    }
   ],
   "source": [
    "plt.figure(figsize=(10,5))\n",
    "sns.histplot(df['Cibil Score'],kde=True)"
   ]
  },
  {
   "cell_type": "code",
   "execution_count": 37,
   "metadata": {},
   "outputs": [
    {
     "data": {
      "text/plain": [
       "5139"
      ]
     },
     "execution_count": 37,
     "metadata": {},
     "output_type": "execute_result"
    }
   ],
   "source": [
    "df['Cibil Score'].isnull().sum()"
   ]
  },
  {
   "cell_type": "markdown",
   "metadata": {},
   "source": [
    "### I used KNNImputer for cibil score column for filling the nan values"
   ]
  },
  {
   "cell_type": "code",
   "execution_count": 38,
   "metadata": {},
   "outputs": [],
   "source": [
    "from sklearn.impute import KNNImputer\n",
    "imputer = KNNImputer(n_neighbors=5)\n",
    "df['Cibil Score'] = pd.to_numeric(df['Cibil Score'], errors='coerce')\n",
    "df['Cibil Score'] = imputer.fit_transform(df[['Cibil Score']])"
   ]
  },
  {
   "cell_type": "markdown",
   "metadata": {},
   "source": [
    "### ploting the data distribution for ADDRESS TYPE"
   ]
  },
  {
   "cell_type": "code",
   "execution_count": 39,
   "metadata": {},
   "outputs": [
    {
     "data": {
      "text/plain": [
       "<Axes: xlabel='ADDRESS TYPE', ylabel='Count'>"
      ]
     },
     "execution_count": 39,
     "metadata": {},
     "output_type": "execute_result"
    },
    {
     "data": {
      "image/png": "[encoded data removed]",
      "text/plain": [
       "<Figure size 3000x800 with 1 Axes>"
      ]
     },
     "metadata": {},
     "output_type": "display_data"
    }
   ],
   "source": [
    "plt.figure(figsize=(30,8))\n",
    "sns.histplot(df['ADDRESS TYPE'],kde=True)"
   ]
  },
  {
   "cell_type": "code",
   "execution_count": 40,
   "metadata": {},
   "outputs": [
    {
     "data": {
      "text/plain": [
       "3947"
      ]
     },
     "execution_count": 40,
     "metadata": {},
     "output_type": "execute_result"
    }
   ],
   "source": [
    "df['ADDRESS TYPE'].isnull().sum()"
   ]
  },
  {
   "cell_type": "code",
   "execution_count": 41,
   "metadata": {},
   "outputs": [
    {
     "data": {
      "text/plain": [
       "ADDRESS TYPE\n",
       "Self/Spouse Owned     2750\n",
       "RESIDENCE             2629\n",
       "Parental              2134\n",
       "Rented                 502\n",
       "Company Provided        12\n",
       "PARENT OWNED-HOUSE       9\n",
       "OWNED-PENTHOUSE          5\n",
       "OWNED-BUNGLOW            5\n",
       "OWNDED-FLAT              3\n",
       "OWNED-ROWHOUSE           1\n",
       "PARENT OWNED-FLAT        1\n",
       "RENTED-ROWHOUSE          1\n",
       "OTHERS                   1\n",
       "Name: count, dtype: int64"
      ]
     },
     "execution_count": 41,
     "metadata": {},
     "output_type": "execute_result"
    }
   ],
   "source": [
    "df['ADDRESS TYPE'].value_counts()"
   ]
  },
  {
   "cell_type": "markdown",
   "metadata": {},
   "source": [
    "### I have categorized ADDRES TYPE IN FIVE CATEGORIES BY USING THE BELOW METHOD"
   ]
  },
  {
   "cell_type": "code",
   "execution_count": 42,
   "metadata": {},
   "outputs": [],
   "source": [
    "address_type_map = {\n",
    "    'Self/Spouse Owned': 'OWNED',\n",
    "    'OWNED-PENTHOUSE': 'OWNED',\n",
    "    'OWNED-BUNGLOW': 'OWNED',\n",
    "    'OWNDED-FLAT': 'OWNED',\n",
    "    'OWNED-ROWHOUSE': 'OWNED',\n",
    "    'RESIDENCE': 'RESIDENCE',\n",
    "    'Parental': 'PARENTAL',\n",
    "    'PARENT OWNED-HOUSE': 'PARENTAL',\n",
    "    'PARENT OWNED-FLAT': 'PARENTAL',\n",
    "    'Rented': 'RENTED',\n",
    "    'RENTED-ROWHOUSE': 'RENTED',\n",
    "    'Company Provided': 'COMPANY_PROVIDED',\n",
    "    'OTHERS': 'COMPANY_PROVIDED'\n",
    "}"
   ]
  },
  {
   "cell_type": "code",
   "execution_count": 43,
   "metadata": {},
   "outputs": [],
   "source": [
    "df['ADDRESS TYPE'] = df['ADDRESS TYPE'].map(address_type_map)"
   ]
  },
  {
   "cell_type": "code",
   "execution_count": 44,
   "metadata": {},
   "outputs": [
    {
     "data": {
      "text/plain": [
       "ADDRESS TYPE\n",
       "OWNED               2764\n",
       "RESIDENCE           2629\n",
       "PARENTAL            2144\n",
       "RENTED               503\n",
       "COMPANY_PROVIDED      13\n",
       "Name: count, dtype: int64"
      ]
     },
     "execution_count": 44,
     "metadata": {},
     "output_type": "execute_result"
    }
   ],
   "source": [
    "df['ADDRESS TYPE'].value_counts()"
   ]
  },
  {
   "cell_type": "code",
   "execution_count": 45,
   "metadata": {},
   "outputs": [
    {
     "data": {
      "text/plain": [
       "<Axes: ylabel='ADDRESS TYPE'>"
      ]
     },
     "execution_count": 45,
     "metadata": {},
     "output_type": "execute_result"
    },
    {
     "data": {
      "image/png": "[encoded data removed]",
      "text/plain": [
       "<Figure size 640x480 with 1 Axes>"
      ]
     },
     "metadata": {},
     "output_type": "display_data"
    }
   ],
   "source": [
    "sns.boxenplot(df['ADDRESS TYPE'])"
   ]
  },
  {
   "cell_type": "code",
   "execution_count": 46,
   "metadata": {},
   "outputs": [
    {
     "data": {
      "text/plain": [
       "3947"
      ]
     },
     "execution_count": 46,
     "metadata": {},
     "output_type": "execute_result"
    }
   ],
   "source": [
    "df['ADDRESS TYPE'].isnull().sum()"
   ]
  },
  {
   "cell_type": "markdown",
   "metadata": {},
   "source": [
    "### I have filled the nan values of address type with mode"
   ]
  },
  {
   "cell_type": "code",
   "execution_count": 47,
   "metadata": {},
   "outputs": [],
   "source": [
    "df['ADDRESS TYPE'].fillna(df['ADDRESS TYPE'].mode()[0],inplace=True)"
   ]
  },
  {
   "cell_type": "code",
   "execution_count": 48,
   "metadata": {},
   "outputs": [
    {
     "data": {
      "text/plain": [
       "0         SALARIED\n",
       "1              NaN\n",
       "2    SELF-EMPLOYED\n",
       "3    SELF-EMPLOYED\n",
       "4              NaN\n",
       "Name: EMPLOYER TYPE, dtype: object"
      ]
     },
     "execution_count": 48,
     "metadata": {},
     "output_type": "execute_result"
    }
   ],
   "source": [
    "df['EMPLOYER TYPE'].head()"
   ]
  },
  {
   "cell_type": "code",
   "execution_count": 49,
   "metadata": {},
   "outputs": [
    {
     "data": {
      "text/html": [
       "<div>\n",
       "<style scoped>\n",
       "    .dataframe tbody tr th:only-of-type {\n",
       "        vertical-align: middle;\n",
       "    }\n",
       "\n",
       "    .dataframe tbody tr th {\n",
       "        vertical-align: top;\n",
       "    }\n",
       "\n",
       "    .dataframe thead th {\n",
       "        text-align: right;\n",
       "    }\n",
       "</style>\n",
       "<table border=\"1\" class=\"dataframe\">\n",
       "  <thead>\n",
       "    <tr style=\"text-align: right;\">\n",
       "      <th></th>\n",
       "      <th>EMPLOYER TYPE</th>\n",
       "      <th>EMPLOY CONSTITUTION</th>\n",
       "    </tr>\n",
       "  </thead>\n",
       "  <tbody>\n",
       "    <tr>\n",
       "      <th>0</th>\n",
       "      <td>SALARIED</td>\n",
       "      <td>SALARIED</td>\n",
       "    </tr>\n",
       "    <tr>\n",
       "      <th>1</th>\n",
       "      <td>NaN</td>\n",
       "      <td>Unknown</td>\n",
       "    </tr>\n",
       "    <tr>\n",
       "      <th>2</th>\n",
       "      <td>SELF-EMPLOYED</td>\n",
       "      <td>SELF-EMPLOYED</td>\n",
       "    </tr>\n",
       "    <tr>\n",
       "      <th>3</th>\n",
       "      <td>SELF-EMPLOYED</td>\n",
       "      <td>SELF-EMPLOYED</td>\n",
       "    </tr>\n",
       "    <tr>\n",
       "      <th>4</th>\n",
       "      <td>NaN</td>\n",
       "      <td>Unknown</td>\n",
       "    </tr>\n",
       "  </tbody>\n",
       "</table>\n",
       "</div>"
      ],
      "text/plain": [
       "   EMPLOYER TYPE EMPLOY CONSTITUTION\n",
       "0       SALARIED            SALARIED\n",
       "1            NaN             Unknown\n",
       "2  SELF-EMPLOYED       SELF-EMPLOYED\n",
       "3  SELF-EMPLOYED       SELF-EMPLOYED\n",
       "4            NaN             Unknown"
      ]
     },
     "execution_count": 49,
     "metadata": {},
     "output_type": "execute_result"
    }
   ],
   "source": [
    "df[['EMPLOYER TYPE','EMPLOY CONSTITUTION']].head()"
   ]
  },
  {
   "cell_type": "markdown",
   "metadata": {},
   "source": [
    "### As EMPLOYER TYPE and EMPLOY CONSTITUTION are same so I am droping the EMPLOYER TYPE Column"
   ]
  },
  {
   "cell_type": "code",
   "execution_count": 50,
   "metadata": {},
   "outputs": [],
   "source": [
    "df=df.drop(columns=['EMPLOYER TYPE'])"
   ]
  },
  {
   "cell_type": "code",
   "execution_count": 51,
   "metadata": {},
   "outputs": [],
   "source": [
    "social_columns = ['Phone Social Premium.amazon', 'Phone Social Premium.byjus', 'Phone Social Premium.flipkart', 'Phone Social Premium.housing',\n",
    "    'Phone Social Premium.indiamart', 'Phone Social Premium.instagram','Phone Social Premium.jeevansaathi', 'Phone Social Premium.microsoft',\n",
    "    'Phone Social Premium.paytm', 'Phone Social Premium.shaadi','Phone Social Premium.skype', 'Phone Social Premium.toi',\n",
    "    'Phone Social Premium.zoho']"
   ]
  },
  {
   "cell_type": "code",
   "execution_count": 52,
   "metadata": {},
   "outputs": [
    {
     "data": {
      "text/plain": [
       "Phone Social Premium.amazon          2033\n",
       "Phone Social Premium.byjus           1971\n",
       "Phone Social Premium.flipkart        1877\n",
       "Phone Social Premium.housing         1799\n",
       "Phone Social Premium.indiamart       1798\n",
       "Phone Social Premium.instagram       8018\n",
       "Phone Social Premium.jeevansaathi    1867\n",
       "Phone Social Premium.microsoft       1901\n",
       "Phone Social Premium.paytm           1782\n",
       "Phone Social Premium.shaadi          1805\n",
       "Phone Social Premium.skype           1811\n",
       "Phone Social Premium.toi             2007\n",
       "Phone Social Premium.zoho            1805\n",
       "dtype: int64"
      ]
     },
     "execution_count": 52,
     "metadata": {},
     "output_type": "execute_result"
    }
   ],
   "source": [
    "df[social_columns].isnull().sum()"
   ]
  },
  {
   "cell_type": "markdown",
   "metadata": {},
   "source": [
    "### for the above social columns i considerd they dont have the accounts and filling the nan values with 0"
   ]
  },
  {
   "cell_type": "code",
   "execution_count": 53,
   "metadata": {},
   "outputs": [],
   "source": [
    "for col in social_columns:\n",
    "    df[col].fillna(0, inplace=True)\n"
   ]
  },
  {
   "cell_type": "code",
   "execution_count": 54,
   "metadata": {},
   "outputs": [
    {
     "data": {
      "text/plain": [
       "GENDER                                 0\n",
       "DOB                                    0\n",
       "AGE                                    0\n",
       "ADDRESS TYPE                           0\n",
       "EMPLOY CONSTITUTION                    0\n",
       "Phone Social Premium.amazon            0\n",
       "Phone Social Premium.byjus             0\n",
       "Phone Social Premium.flipkart          0\n",
       "Phone Social Premium.housing           0\n",
       "Phone Social Premium.indiamart         0\n",
       "Phone Social Premium.instagram         0\n",
       "Phone Social Premium.jeevansaathi      0\n",
       "Phone Social Premium.microsoft         0\n",
       "Phone Social Premium.paytm             0\n",
       "Phone Social Premium.shaadi            0\n",
       "Phone Social Premium.skype             0\n",
       "Phone Social Premium.toi               0\n",
       "Phone Social Premium.zoho              0\n",
       "phone_digitalage                       4\n",
       "phone_nameMatchScore                   4\n",
       "phone_phoneFootprintStrengthOverall    7\n",
       "SOCIAL_MEDIA_COUNT                     0\n",
       "dtype: int64"
      ]
     },
     "execution_count": 54,
     "metadata": {},
     "output_type": "execute_result"
    }
   ],
   "source": [
    "df.isnull().sum()[10:]"
   ]
  },
  {
   "cell_type": "markdown",
   "metadata": {},
   "source": [
    "### ploting a data distribution for Phone_digitalage"
   ]
  },
  {
   "cell_type": "code",
   "execution_count": 55,
   "metadata": {},
   "outputs": [
    {
     "data": {
      "text/plain": [
       "<Axes: xlabel='phone_digitalage', ylabel='Count'>"
      ]
     },
     "execution_count": 55,
     "metadata": {},
     "output_type": "execute_result"
    },
    {
     "data": {
      "image/png": "[encoded data removed]",
      "text/plain": [
       "<Figure size 640x480 with 1 Axes>"
      ]
     },
     "metadata": {},
     "output_type": "display_data"
    }
   ],
   "source": [
    "sns.histplot(df['phone_digitalage'],kde=True)"
   ]
  },
  {
   "cell_type": "markdown",
   "metadata": {},
   "source": [
    "### Looking for Outliers"
   ]
  },
  {
   "cell_type": "code",
   "execution_count": 56,
   "metadata": {},
   "outputs": [
    {
     "data": {
      "text/plain": [
       "<Axes: ylabel='phone_digitalage'>"
      ]
     },
     "execution_count": 56,
     "metadata": {},
     "output_type": "execute_result"
    },
    {
     "data": {
      "image/png": "[encoded data removed]",
      "text/plain": [
       "<Figure size 640x480 with 1 Axes>"
      ]
     },
     "metadata": {},
     "output_type": "display_data"
    }
   ],
   "source": [
    "sns.boxenplot(df['phone_digitalage'])"
   ]
  },
  {
   "cell_type": "code",
   "execution_count": 57,
   "metadata": {},
   "outputs": [],
   "source": [
    "df['phone_digitalage'].fillna(df['phone_digitalage'].median(),inplace=True)"
   ]
  },
  {
   "cell_type": "markdown",
   "metadata": {},
   "source": [
    "### Handling the outliers"
   ]
  },
  {
   "cell_type": "code",
   "execution_count": 58,
   "metadata": {},
   "outputs": [],
   "source": [
    "Q1 = df['phone_digitalage'].quantile(0.25)\n",
    "Q3 = df['phone_digitalage'].quantile(0.75)\n",
    "IQR = Q3 - Q1\n",
    "lower_bound = Q1 - 1.5 * IQR\n",
    "upper_bound = Q3 + 1.5 * IQR\n",
    "outliers = df[(df['phone_digitalage'] < lower_bound) | (df['phone_digitalage'] > upper_bound)]\n",
    "median=df['phone_digitalage'].median()"
   ]
  },
  {
   "cell_type": "code",
   "execution_count": 59,
   "metadata": {},
   "outputs": [
    {
     "data": {
      "text/plain": [
       "(281, 32)"
      ]
     },
     "execution_count": 59,
     "metadata": {},
     "output_type": "execute_result"
    }
   ],
   "source": [
    "outliers.shape"
   ]
  },
  {
   "cell_type": "code",
   "execution_count": 60,
   "metadata": {},
   "outputs": [],
   "source": [
    "df.loc[(df['phone_digitalage'] < lower_bound) | (df['phone_digitalage'] > upper_bound), 'phone_digitalage'] = median\n"
   ]
  },
  {
   "cell_type": "code",
   "execution_count": 61,
   "metadata": {},
   "outputs": [
    {
     "data": {
      "text/plain": [
       "(12000, 32)"
      ]
     },
     "execution_count": 61,
     "metadata": {},
     "output_type": "execute_result"
    }
   ],
   "source": [
    "df.shape"
   ]
  },
  {
   "cell_type": "code",
   "execution_count": 62,
   "metadata": {},
   "outputs": [
    {
     "data": {
      "text/plain": [
       "<Axes: ylabel='phone_digitalage'>"
      ]
     },
     "execution_count": 62,
     "metadata": {},
     "output_type": "execute_result"
    },
    {
     "data": {
      "image/png": "[encoded data removed]",
      "text/plain": [
       "<Figure size 640x480 with 1 Axes>"
      ]
     },
     "metadata": {},
     "output_type": "display_data"
    }
   ],
   "source": [
    "sns.boxplot(df['phone_digitalage'])"
   ]
  },
  {
   "cell_type": "markdown",
   "metadata": {},
   "source": [
    "### ploting the data distribution for Phone_nameMatchScore"
   ]
  },
  {
   "cell_type": "code",
   "execution_count": 63,
   "metadata": {},
   "outputs": [
    {
     "data": {
      "text/plain": [
       "<Axes: xlabel='phone_nameMatchScore', ylabel='Count'>"
      ]
     },
     "execution_count": 63,
     "metadata": {},
     "output_type": "execute_result"
    },
    {
     "data": {
      "image/png": "[encoded data removed]",
      "text/plain": [
       "<Figure size 640x480 with 1 Axes>"
      ]
     },
     "metadata": {},
     "output_type": "display_data"
    }
   ],
   "source": [
    "sns.histplot(df['phone_nameMatchScore'],kde=True)"
   ]
  },
  {
   "cell_type": "code",
   "execution_count": 64,
   "metadata": {},
   "outputs": [
    {
     "data": {
      "text/plain": [
       "<Axes: ylabel='phone_nameMatchScore'>"
      ]
     },
     "execution_count": 64,
     "metadata": {},
     "output_type": "execute_result"
    },
    {
     "data": {
      "image/png": "[encoded data removed]",
      "text/plain": [
       "<Figure size 640x480 with 1 Axes>"
      ]
     },
     "metadata": {},
     "output_type": "display_data"
    }
   ],
   "source": [
    "sns.boxplot(df['phone_nameMatchScore'])"
   ]
  },
  {
   "cell_type": "code",
   "execution_count": 65,
   "metadata": {},
   "outputs": [
    {
     "data": {
      "text/plain": [
       "4"
      ]
     },
     "execution_count": 65,
     "metadata": {},
     "output_type": "execute_result"
    }
   ],
   "source": [
    "df['phone_nameMatchScore'].isnull().sum()"
   ]
  },
  {
   "cell_type": "code",
   "execution_count": 66,
   "metadata": {},
   "outputs": [],
   "source": [
    "df['phone_nameMatchScore'].fillna(df['phone_nameMatchScore'].median(),inplace=True)"
   ]
  },
  {
   "cell_type": "code",
   "execution_count": 67,
   "metadata": {},
   "outputs": [
    {
     "data": {
      "text/plain": [
       "phone_phoneFootprintStrengthOverall\n",
       "Medium       5278\n",
       "High         4258\n",
       "Low          2308\n",
       "Very Low      102\n",
       "Very High      47\n",
       "Name: count, dtype: int64"
      ]
     },
     "execution_count": 67,
     "metadata": {},
     "output_type": "execute_result"
    }
   ],
   "source": [
    "df['phone_phoneFootprintStrengthOverall'].value_counts()"
   ]
  },
  {
   "cell_type": "code",
   "execution_count": 68,
   "metadata": {},
   "outputs": [],
   "source": [
    "df['phone_phoneFootprintStrengthOverall'].fillna(df['phone_phoneFootprintStrengthOverall'].mode()[0],inplace=True)"
   ]
  },
  {
   "cell_type": "code",
   "execution_count": 69,
   "metadata": {},
   "outputs": [
    {
     "data": {
      "text/plain": [
       "AADHAR VERIFIED                        0\n",
       "Cibil Score                            0\n",
       "MOBILE VERIFICATION                    0\n",
       "TOTAL ASSET COST                       0\n",
       "ASSET CTG                              0\n",
       "ASSET MODEL NO                         0\n",
       "APPLIED AMOUNT                         0\n",
       "PRIMARY ASSET MAKE                     0\n",
       "Primary Asset Model No                 0\n",
       "MARITAL STATUS                         0\n",
       "GENDER                                 0\n",
       "DOB                                    0\n",
       "AGE                                    0\n",
       "ADDRESS TYPE                           0\n",
       "EMPLOY CONSTITUTION                    0\n",
       "Phone Social Premium.amazon            0\n",
       "Phone Social Premium.byjus             0\n",
       "Phone Social Premium.flipkart          0\n",
       "Phone Social Premium.housing           0\n",
       "Phone Social Premium.indiamart         0\n",
       "Phone Social Premium.instagram         0\n",
       "Phone Social Premium.jeevansaathi      0\n",
       "Phone Social Premium.microsoft         0\n",
       "Phone Social Premium.paytm             0\n",
       "Phone Social Premium.shaadi            0\n",
       "Phone Social Premium.skype             0\n",
       "Phone Social Premium.toi               0\n",
       "Phone Social Premium.zoho              0\n",
       "phone_digitalage                       0\n",
       "phone_nameMatchScore                   0\n",
       "phone_phoneFootprintStrengthOverall    0\n",
       "SOCIAL_MEDIA_COUNT                     0\n",
       "dtype: int64"
      ]
     },
     "execution_count": 69,
     "metadata": {},
     "output_type": "execute_result"
    }
   ],
   "source": [
    "df.isnull().sum()"
   ]
  },
  {
   "cell_type": "markdown",
   "metadata": {},
   "source": [
    "### looking for outliers"
   ]
  },
  {
   "cell_type": "code",
   "execution_count": 70,
   "metadata": {},
   "outputs": [
    {
     "data": {
      "text/plain": [
       "<Axes: ylabel='APPLIED AMOUNT'>"
      ]
     },
     "execution_count": 70,
     "metadata": {},
     "output_type": "execute_result"
    },
    {
     "data": {
      "image/png": "[encoded data removed]",
      "text/plain": [
       "<Figure size 640x480 with 1 Axes>"
      ]
     },
     "metadata": {},
     "output_type": "display_data"
    }
   ],
   "source": [
    "sns.boxenplot(df['APPLIED AMOUNT'])"
   ]
  },
  {
   "cell_type": "markdown",
   "metadata": {},
   "source": [
    "### ploting data distribution for Applied amount"
   ]
  },
  {
   "cell_type": "code",
   "execution_count": 71,
   "metadata": {},
   "outputs": [
    {
     "data": {
      "text/plain": [
       "<Axes: xlabel='APPLIED AMOUNT', ylabel='Count'>"
      ]
     },
     "execution_count": 71,
     "metadata": {},
     "output_type": "execute_result"
    },
    {
     "data": {
      "image/png": "[encoded data removed]",
      "text/plain": [
       "<Figure size 640x480 with 1 Axes>"
      ]
     },
     "metadata": {},
     "output_type": "display_data"
    }
   ],
   "source": [
    "sns.histplot(df['APPLIED AMOUNT'],kde=True)"
   ]
  },
  {
   "cell_type": "markdown",
   "metadata": {},
   "source": [
    "### handling the outliers"
   ]
  },
  {
   "cell_type": "code",
   "execution_count": 72,
   "metadata": {},
   "outputs": [],
   "source": [
    "Q1 = df['APPLIED AMOUNT'].quantile(0.25)\n",
    "Q3 = df['APPLIED AMOUNT'].quantile(0.85)\n",
    "IQR = Q3 - Q1\n",
    "lower_bound = Q1 - 1.5 * IQR\n",
    "upper_bound = Q3 + 1.5 * IQR\n",
    "outliers = df[(df['APPLIED AMOUNT'] < lower_bound) | (df['APPLIED AMOUNT'] > upper_bound)]\n",
    "median = df['APPLIED AMOUNT'].median()\n"
   ]
  },
  {
   "cell_type": "code",
   "execution_count": 73,
   "metadata": {},
   "outputs": [
    {
     "data": {
      "text/plain": [
       "(499, 32)"
      ]
     },
     "execution_count": 73,
     "metadata": {},
     "output_type": "execute_result"
    }
   ],
   "source": [
    "outliers.shape"
   ]
  },
  {
   "cell_type": "code",
   "execution_count": 74,
   "metadata": {},
   "outputs": [
    {
     "data": {
      "text/plain": [
       "1420000"
      ]
     },
     "execution_count": 74,
     "metadata": {},
     "output_type": "execute_result"
    }
   ],
   "source": [
    "outliers['APPLIED AMOUNT'].max()"
   ]
  },
  {
   "cell_type": "code",
   "execution_count": 75,
   "metadata": {},
   "outputs": [
    {
     "data": {
      "text/plain": [
       "90000.0"
      ]
     },
     "execution_count": 75,
     "metadata": {},
     "output_type": "execute_result"
    }
   ],
   "source": [
    "median"
   ]
  },
  {
   "cell_type": "code",
   "execution_count": 76,
   "metadata": {},
   "outputs": [],
   "source": [
    "df.loc[(df['APPLIED AMOUNT'] < lower_bound) | (df['APPLIED AMOUNT'] > upper_bound), 'APPLIED AMOUNT'] = median"
   ]
  },
  {
   "cell_type": "code",
   "execution_count": 77,
   "metadata": {},
   "outputs": [
    {
     "data": {
      "text/plain": [
       "<Axes: ylabel='APPLIED AMOUNT'>"
      ]
     },
     "execution_count": 77,
     "metadata": {},
     "output_type": "execute_result"
    },
    {
     "data": {
      "image/png": "[encoded data removed]",
      "text/plain": [
       "<Figure size 640x480 with 1 Axes>"
      ]
     },
     "metadata": {},
     "output_type": "display_data"
    }
   ],
   "source": [
    "sns.boxenplot(df['APPLIED AMOUNT'])"
   ]
  },
  {
   "cell_type": "code",
   "execution_count": 78,
   "metadata": {},
   "outputs": [
    {
     "data": {
      "text/plain": [
       "0    HONDA MOTORS\n",
       "1     HERO MOTORS\n",
       "2    TVS MOTOR CO\n",
       "3     HERO MOTORS\n",
       "4    HONDA MOTORS\n",
       "Name: PRIMARY ASSET MAKE, dtype: object"
      ]
     },
     "execution_count": 78,
     "metadata": {},
     "output_type": "execute_result"
    }
   ],
   "source": [
    "df['PRIMARY ASSET MAKE'].head()"
   ]
  },
  {
   "cell_type": "code",
   "execution_count": 79,
   "metadata": {},
   "outputs": [
    {
     "data": {
      "text/plain": [
       "Primary Asset Model No\n",
       "ACTIVA 6G DLX BSVI                    855\n",
       "SPLENDOR PLUS SELF DRUM BSVI I3S      826\n",
       "SPLENDOR PLUS XTEC BSVI               635\n",
       "SPLENDOR PLUS SELF START DRUM BSVI    630\n",
       "SP 125 DISC BS VI                     530\n",
       "                                     ... \n",
       "VESPA SXL 125 BSVI                      1\n",
       "VESPA VXL 125 BSVI                      1\n",
       "JAWA DUAL CHANNEL ABS BSVI              1\n",
       "BULLET 350 EFI BLACK BSVI               1\n",
       "GRAZIA SPORTS EDITION BSVI              1\n",
       "Name: count, Length: 276, dtype: int64"
      ]
     },
     "execution_count": 79,
     "metadata": {},
     "output_type": "execute_result"
    }
   ],
   "source": [
    "df['Primary Asset Model No'].value_counts()"
   ]
  },
  {
   "cell_type": "code",
   "execution_count": 80,
   "metadata": {},
   "outputs": [
    {
     "name": "stdout",
     "output_type": "stream",
     "text": [
      "<class 'pandas.core.frame.DataFrame'>\n",
      "RangeIndex: 12000 entries, 0 to 11999\n",
      "Data columns (total 15 columns):\n",
      " #   Column                  Non-Null Count  Dtype  \n",
      "---  ------                  --------------  -----  \n",
      " 0   AADHAR VERIFIED         12000 non-null  object \n",
      " 1   Cibil Score             12000 non-null  float64\n",
      " 2   MOBILE VERIFICATION     12000 non-null  bool   \n",
      " 3   TOTAL ASSET COST        12000 non-null  float64\n",
      " 4   ASSET CTG               12000 non-null  object \n",
      " 5   ASSET MODEL NO          12000 non-null  int64  \n",
      " 6   APPLIED AMOUNT          12000 non-null  int64  \n",
      " 7   PRIMARY ASSET MAKE      12000 non-null  object \n",
      " 8   Primary Asset Model No  12000 non-null  object \n",
      " 9   MARITAL STATUS          12000 non-null  object \n",
      " 10  GENDER                  12000 non-null  object \n",
      " 11  DOB                     12000 non-null  int64  \n",
      " 12  AGE                     12000 non-null  int64  \n",
      " 13  ADDRESS TYPE            12000 non-null  object \n",
      " 14  EMPLOY CONSTITUTION     12000 non-null  object \n",
      "dtypes: bool(1), float64(2), int64(4), object(8)\n",
      "memory usage: 1.3+ MB\n"
     ]
    }
   ],
   "source": [
    "df.iloc[:,:15].info()"
   ]
  },
  {
   "cell_type": "code",
   "execution_count": 81,
   "metadata": {},
   "outputs": [
    {
     "name": "stdout",
     "output_type": "stream",
     "text": [
      "<class 'pandas.core.frame.DataFrame'>\n",
      "RangeIndex: 12000 entries, 0 to 11999\n",
      "Data columns (total 17 columns):\n",
      " #   Column                               Non-Null Count  Dtype  \n",
      "---  ------                               --------------  -----  \n",
      " 0   Phone Social Premium.amazon          12000 non-null  float64\n",
      " 1   Phone Social Premium.byjus           12000 non-null  float64\n",
      " 2   Phone Social Premium.flipkart        12000 non-null  float64\n",
      " 3   Phone Social Premium.housing         12000 non-null  float64\n",
      " 4   Phone Social Premium.indiamart       12000 non-null  float64\n",
      " 5   Phone Social Premium.instagram       12000 non-null  float64\n",
      " 6   Phone Social Premium.jeevansaathi    12000 non-null  float64\n",
      " 7   Phone Social Premium.microsoft       12000 non-null  float64\n",
      " 8   Phone Social Premium.paytm           12000 non-null  float64\n",
      " 9   Phone Social Premium.shaadi          12000 non-null  float64\n",
      " 10  Phone Social Premium.skype           12000 non-null  float64\n",
      " 11  Phone Social Premium.toi             12000 non-null  float64\n",
      " 12  Phone Social Premium.zoho            12000 non-null  float64\n",
      " 13  phone_digitalage                     12000 non-null  float64\n",
      " 14  phone_nameMatchScore                 12000 non-null  float64\n",
      " 15  phone_phoneFootprintStrengthOverall  12000 non-null  object \n",
      " 16  SOCIAL_MEDIA_COUNT                   12000 non-null  float64\n",
      "dtypes: float64(16), object(1)\n",
      "memory usage: 1.6+ MB\n"
     ]
    }
   ],
   "source": [
    "df.iloc[:,15:].info()"
   ]
  },
  {
   "cell_type": "markdown",
   "metadata": {},
   "source": [
    "### Encoding the categorical variables"
   ]
  },
  {
   "cell_type": "code",
   "execution_count": 82,
   "metadata": {},
   "outputs": [],
   "source": [
    "from sklearn.preprocessing import LabelEncoder, OneHotEncoder"
   ]
  },
  {
   "cell_type": "code",
   "execution_count": 83,
   "metadata": {},
   "outputs": [],
   "source": [
    "onehot_categories = ['EMPLOY CONSTITUTION', 'ASSET CTG','PRIMARY ASSET MAKE','ADDRESS TYPE',\n",
    "                     'phone_phoneFootprintStrengthOverall']"
   ]
  },
  {
   "cell_type": "code",
   "execution_count": 84,
   "metadata": {},
   "outputs": [
    {
     "data": {
      "text/plain": [
       "ASSET CTG\n",
       "MCECA    8324\n",
       "SCECA    1488\n",
       "MCEXA    1415\n",
       "SCEXA     311\n",
       "MCPRA     150\n",
       "MCECB      81\n",
       "MOECA      78\n",
       "MCECC      50\n",
       "ESECB      34\n",
       "MCEXB      33\n",
       "ESNRC      24\n",
       "EMECA      11\n",
       "ESNRB       1\n",
       "Name: count, dtype: int64"
      ]
     },
     "execution_count": 84,
     "metadata": {},
     "output_type": "execute_result"
    }
   ],
   "source": [
    "df['ASSET CTG'].value_counts()"
   ]
  },
  {
   "cell_type": "code",
   "execution_count": 85,
   "metadata": {},
   "outputs": [
    {
     "data": {
      "text/plain": [
       "EMPLOY CONSTITUTION\n",
       "Unknown          5992\n",
       "SELF-EMPLOYED    4180\n",
       "SALARIED         1828\n",
       "Name: count, dtype: int64"
      ]
     },
     "execution_count": 85,
     "metadata": {},
     "output_type": "execute_result"
    }
   ],
   "source": [
    "df['EMPLOY CONSTITUTION'].value_counts()"
   ]
  },
  {
   "cell_type": "code",
   "execution_count": 86,
   "metadata": {},
   "outputs": [
    {
     "data": {
      "text/plain": [
       "ADDRESS TYPE\n",
       "OWNED               6711\n",
       "RESIDENCE           2629\n",
       "PARENTAL            2144\n",
       "RENTED               503\n",
       "COMPANY_PROVIDED      13\n",
       "Name: count, dtype: int64"
      ]
     },
     "execution_count": 86,
     "metadata": {},
     "output_type": "execute_result"
    }
   ],
   "source": [
    "df[\"ADDRESS TYPE\"].value_counts()"
   ]
  },
  {
   "cell_type": "code",
   "execution_count": 87,
   "metadata": {},
   "outputs": [],
   "source": [
    "label_categories = ['GENDER', 'MARITAL STATUS','AADHAR VERIFIED','MOBILE VERIFICATION']"
   ]
  },
  {
   "cell_type": "code",
   "execution_count": 88,
   "metadata": {},
   "outputs": [
    {
     "name": "stderr",
     "output_type": "stream",
     "text": [
      "c:\\Users\\Dell\\AppData\\Local\\Programs\\Python\\Python312\\Lib\\site-packages\\sklearn\\preprocessing\\_encoders.py:975: FutureWarning: `sparse` was renamed to `sparse_output` in version 1.2 and will be removed in 1.4. `sparse_output` is ignored unless you leave `sparse` to its default value.\n",
      "  warnings.warn(\n"
     ]
    }
   ],
   "source": [
    "onehot_encoder = OneHotEncoder(sparse=False,handle_unknown='ignore')\n",
    "onehot_encoded = onehot_encoder.fit_transform(df[onehot_categories])\n",
    "onehot_columns = onehot_encoder.get_feature_names_out(onehot_categories)\n",
    "df_onehot = pd.DataFrame(onehot_encoded, columns=onehot_columns, index=df.index)"
   ]
  },
  {
   "cell_type": "code",
   "execution_count": 89,
   "metadata": {},
   "outputs": [],
   "source": [
    "df= pd.concat([df.drop(columns=onehot_categories), df_onehot], axis=1)"
   ]
  },
  {
   "cell_type": "code",
   "execution_count": 90,
   "metadata": {},
   "outputs": [
    {
     "data": {
      "text/html": [
       "<div>\n",
       "<style scoped>\n",
       "    .dataframe tbody tr th:only-of-type {\n",
       "        vertical-align: middle;\n",
       "    }\n",
       "\n",
       "    .dataframe tbody tr th {\n",
       "        vertical-align: top;\n",
       "    }\n",
       "\n",
       "    .dataframe thead th {\n",
       "        text-align: right;\n",
       "    }\n",
       "</style>\n",
       "<table border=\"1\" class=\"dataframe\">\n",
       "  <thead>\n",
       "    <tr style=\"text-align: right;\">\n",
       "      <th></th>\n",
       "      <th>AADHAR VERIFIED</th>\n",
       "      <th>Cibil Score</th>\n",
       "      <th>MOBILE VERIFICATION</th>\n",
       "      <th>TOTAL ASSET COST</th>\n",
       "      <th>ASSET MODEL NO</th>\n",
       "      <th>APPLIED AMOUNT</th>\n",
       "      <th>Primary Asset Model No</th>\n",
       "      <th>MARITAL STATUS</th>\n",
       "      <th>GENDER</th>\n",
       "      <th>DOB</th>\n",
       "      <th>...</th>\n",
       "      <th>ADDRESS TYPE_COMPANY_PROVIDED</th>\n",
       "      <th>ADDRESS TYPE_OWNED</th>\n",
       "      <th>ADDRESS TYPE_PARENTAL</th>\n",
       "      <th>ADDRESS TYPE_RENTED</th>\n",
       "      <th>ADDRESS TYPE_RESIDENCE</th>\n",
       "      <th>phone_phoneFootprintStrengthOverall_High</th>\n",
       "      <th>phone_phoneFootprintStrengthOverall_Low</th>\n",
       "      <th>phone_phoneFootprintStrengthOverall_Medium</th>\n",
       "      <th>phone_phoneFootprintStrengthOverall_Very High</th>\n",
       "      <th>phone_phoneFootprintStrengthOverall_Very Low</th>\n",
       "    </tr>\n",
       "  </thead>\n",
       "  <tbody>\n",
       "    <tr>\n",
       "      <th>0</th>\n",
       "      <td>NO</td>\n",
       "      <td>726.000000</td>\n",
       "      <td>True</td>\n",
       "      <td>95041.0</td>\n",
       "      <td>139542</td>\n",
       "      <td>85000</td>\n",
       "      <td>SHINE DRUM BSVI</td>\n",
       "      <td>Married</td>\n",
       "      <td>Male</td>\n",
       "      <td>1041978</td>\n",
       "      <td>...</td>\n",
       "      <td>0.0</td>\n",
       "      <td>0.0</td>\n",
       "      <td>1.0</td>\n",
       "      <td>0.0</td>\n",
       "      <td>0.0</td>\n",
       "      <td>1.0</td>\n",
       "      <td>0.0</td>\n",
       "      <td>0.0</td>\n",
       "      <td>0.0</td>\n",
       "      <td>0.0</td>\n",
       "    </tr>\n",
       "    <tr>\n",
       "      <th>1</th>\n",
       "      <td>NO</td>\n",
       "      <td>706.409298</td>\n",
       "      <td>True</td>\n",
       "      <td>94423.0</td>\n",
       "      <td>140208</td>\n",
       "      <td>90000</td>\n",
       "      <td>SPLENDOR PLUS SELF DRUM BSVI I3S</td>\n",
       "      <td>Married</td>\n",
       "      <td>Male</td>\n",
       "      <td>1011997</td>\n",
       "      <td>...</td>\n",
       "      <td>0.0</td>\n",
       "      <td>1.0</td>\n",
       "      <td>0.0</td>\n",
       "      <td>0.0</td>\n",
       "      <td>0.0</td>\n",
       "      <td>1.0</td>\n",
       "      <td>0.0</td>\n",
       "      <td>0.0</td>\n",
       "      <td>0.0</td>\n",
       "      <td>0.0</td>\n",
       "    </tr>\n",
       "    <tr>\n",
       "      <th>2</th>\n",
       "      <td>NO</td>\n",
       "      <td>737.000000</td>\n",
       "      <td>True</td>\n",
       "      <td>119436.0</td>\n",
       "      <td>160001</td>\n",
       "      <td>75000</td>\n",
       "      <td>TVS NTORQ SUPER SQUAD EDITION BSVI</td>\n",
       "      <td>Single</td>\n",
       "      <td>Male</td>\n",
       "      <td>9081999</td>\n",
       "      <td>...</td>\n",
       "      <td>0.0</td>\n",
       "      <td>1.0</td>\n",
       "      <td>0.0</td>\n",
       "      <td>0.0</td>\n",
       "      <td>0.0</td>\n",
       "      <td>0.0</td>\n",
       "      <td>1.0</td>\n",
       "      <td>0.0</td>\n",
       "      <td>0.0</td>\n",
       "      <td>0.0</td>\n",
       "    </tr>\n",
       "    <tr>\n",
       "      <th>3</th>\n",
       "      <td>NO</td>\n",
       "      <td>713.000000</td>\n",
       "      <td>True</td>\n",
       "      <td>87000.0</td>\n",
       "      <td>160832</td>\n",
       "      <td>78500</td>\n",
       "      <td>SPLENDOR+ BLK ACCT SS DRUM I3S BSVI</td>\n",
       "      <td>Single</td>\n",
       "      <td>Male</td>\n",
       "      <td>3071998</td>\n",
       "      <td>...</td>\n",
       "      <td>0.0</td>\n",
       "      <td>0.0</td>\n",
       "      <td>1.0</td>\n",
       "      <td>0.0</td>\n",
       "      <td>0.0</td>\n",
       "      <td>1.0</td>\n",
       "      <td>0.0</td>\n",
       "      <td>0.0</td>\n",
       "      <td>0.0</td>\n",
       "      <td>0.0</td>\n",
       "    </tr>\n",
       "    <tr>\n",
       "      <th>4</th>\n",
       "      <td>NO</td>\n",
       "      <td>669.000000</td>\n",
       "      <td>True</td>\n",
       "      <td>94423.0</td>\n",
       "      <td>174641</td>\n",
       "      <td>70000</td>\n",
       "      <td>DIO STD BSVI</td>\n",
       "      <td>Married</td>\n",
       "      <td>Male</td>\n",
       "      <td>5071989</td>\n",
       "      <td>...</td>\n",
       "      <td>0.0</td>\n",
       "      <td>1.0</td>\n",
       "      <td>0.0</td>\n",
       "      <td>0.0</td>\n",
       "      <td>0.0</td>\n",
       "      <td>1.0</td>\n",
       "      <td>0.0</td>\n",
       "      <td>0.0</td>\n",
       "      <td>0.0</td>\n",
       "      <td>0.0</td>\n",
       "    </tr>\n",
       "  </tbody>\n",
       "</table>\n",
       "<p>5 rows × 70 columns</p>\n",
       "</div>"
      ],
      "text/plain": [
       "  AADHAR VERIFIED  Cibil Score  MOBILE VERIFICATION  TOTAL ASSET COST  \\\n",
       "0              NO   726.000000                 True           95041.0   \n",
       "1              NO   706.409298                 True           94423.0   \n",
       "2              NO   737.000000                 True          119436.0   \n",
       "3              NO   713.000000                 True           87000.0   \n",
       "4              NO   669.000000                 True           94423.0   \n",
       "\n",
       "   ASSET MODEL NO  APPLIED AMOUNT               Primary Asset Model No  \\\n",
       "0          139542           85000                      SHINE DRUM BSVI   \n",
       "1          140208           90000     SPLENDOR PLUS SELF DRUM BSVI I3S   \n",
       "2          160001           75000   TVS NTORQ SUPER SQUAD EDITION BSVI   \n",
       "3          160832           78500  SPLENDOR+ BLK ACCT SS DRUM I3S BSVI   \n",
       "4          174641           70000                         DIO STD BSVI   \n",
       "\n",
       "  MARITAL STATUS GENDER      DOB  ...  ADDRESS TYPE_COMPANY_PROVIDED  \\\n",
       "0        Married   Male  1041978  ...                            0.0   \n",
       "1        Married   Male  1011997  ...                            0.0   \n",
       "2         Single   Male  9081999  ...                            0.0   \n",
       "3         Single   Male  3071998  ...                            0.0   \n",
       "4        Married   Male  5071989  ...                            0.0   \n",
       "\n",
       "   ADDRESS TYPE_OWNED  ADDRESS TYPE_PARENTAL  ADDRESS TYPE_RENTED  \\\n",
       "0                 0.0                    1.0                  0.0   \n",
       "1                 1.0                    0.0                  0.0   \n",
       "2                 1.0                    0.0                  0.0   \n",
       "3                 0.0                    1.0                  0.0   \n",
       "4                 1.0                    0.0                  0.0   \n",
       "\n",
       "   ADDRESS TYPE_RESIDENCE  phone_phoneFootprintStrengthOverall_High  \\\n",
       "0                     0.0                                       1.0   \n",
       "1                     0.0                                       1.0   \n",
       "2                     0.0                                       0.0   \n",
       "3                     0.0                                       1.0   \n",
       "4                     0.0                                       1.0   \n",
       "\n",
       "   phone_phoneFootprintStrengthOverall_Low  \\\n",
       "0                                      0.0   \n",
       "1                                      0.0   \n",
       "2                                      1.0   \n",
       "3                                      0.0   \n",
       "4                                      0.0   \n",
       "\n",
       "   phone_phoneFootprintStrengthOverall_Medium  \\\n",
       "0                                         0.0   \n",
       "1                                         0.0   \n",
       "2                                         0.0   \n",
       "3                                         0.0   \n",
       "4                                         0.0   \n",
       "\n",
       "   phone_phoneFootprintStrengthOverall_Very High  \\\n",
       "0                                            0.0   \n",
       "1                                            0.0   \n",
       "2                                            0.0   \n",
       "3                                            0.0   \n",
       "4                                            0.0   \n",
       "\n",
       "   phone_phoneFootprintStrengthOverall_Very Low  \n",
       "0                                           0.0  \n",
       "1                                           0.0  \n",
       "2                                           0.0  \n",
       "3                                           0.0  \n",
       "4                                           0.0  \n",
       "\n",
       "[5 rows x 70 columns]"
      ]
     },
     "execution_count": 90,
     "metadata": {},
     "output_type": "execute_result"
    }
   ],
   "source": [
    "df.head()"
   ]
  },
  {
   "cell_type": "code",
   "execution_count": 91,
   "metadata": {},
   "outputs": [],
   "source": [
    "label_encoder = LabelEncoder()\n",
    "for col in label_categories:\n",
    "    df[col] = label_encoder.fit_transform(df[col].astype(str))\n",
    "    "
   ]
  },
  {
   "cell_type": "code",
   "execution_count": 92,
   "metadata": {},
   "outputs": [
    {
     "data": {
      "text/html": [
       "<div>\n",
       "<style scoped>\n",
       "    .dataframe tbody tr th:only-of-type {\n",
       "        vertical-align: middle;\n",
       "    }\n",
       "\n",
       "    .dataframe tbody tr th {\n",
       "        vertical-align: top;\n",
       "    }\n",
       "\n",
       "    .dataframe thead th {\n",
       "        text-align: right;\n",
       "    }\n",
       "</style>\n",
       "<table border=\"1\" class=\"dataframe\">\n",
       "  <thead>\n",
       "    <tr style=\"text-align: right;\">\n",
       "      <th></th>\n",
       "      <th>AADHAR VERIFIED</th>\n",
       "      <th>Cibil Score</th>\n",
       "      <th>MOBILE VERIFICATION</th>\n",
       "      <th>TOTAL ASSET COST</th>\n",
       "      <th>ASSET MODEL NO</th>\n",
       "      <th>APPLIED AMOUNT</th>\n",
       "      <th>Primary Asset Model No</th>\n",
       "      <th>MARITAL STATUS</th>\n",
       "      <th>GENDER</th>\n",
       "      <th>DOB</th>\n",
       "      <th>...</th>\n",
       "      <th>ADDRESS TYPE_COMPANY_PROVIDED</th>\n",
       "      <th>ADDRESS TYPE_OWNED</th>\n",
       "      <th>ADDRESS TYPE_PARENTAL</th>\n",
       "      <th>ADDRESS TYPE_RENTED</th>\n",
       "      <th>ADDRESS TYPE_RESIDENCE</th>\n",
       "      <th>phone_phoneFootprintStrengthOverall_High</th>\n",
       "      <th>phone_phoneFootprintStrengthOverall_Low</th>\n",
       "      <th>phone_phoneFootprintStrengthOverall_Medium</th>\n",
       "      <th>phone_phoneFootprintStrengthOverall_Very High</th>\n",
       "      <th>phone_phoneFootprintStrengthOverall_Very Low</th>\n",
       "    </tr>\n",
       "  </thead>\n",
       "  <tbody>\n",
       "    <tr>\n",
       "      <th>0</th>\n",
       "      <td>0</td>\n",
       "      <td>726.000000</td>\n",
       "      <td>0</td>\n",
       "      <td>95041.0</td>\n",
       "      <td>139542</td>\n",
       "      <td>85000</td>\n",
       "      <td>SHINE DRUM BSVI</td>\n",
       "      <td>0</td>\n",
       "      <td>1</td>\n",
       "      <td>1041978</td>\n",
       "      <td>...</td>\n",
       "      <td>0.0</td>\n",
       "      <td>0.0</td>\n",
       "      <td>1.0</td>\n",
       "      <td>0.0</td>\n",
       "      <td>0.0</td>\n",
       "      <td>1.0</td>\n",
       "      <td>0.0</td>\n",
       "      <td>0.0</td>\n",
       "      <td>0.0</td>\n",
       "      <td>0.0</td>\n",
       "    </tr>\n",
       "    <tr>\n",
       "      <th>1</th>\n",
       "      <td>0</td>\n",
       "      <td>706.409298</td>\n",
       "      <td>0</td>\n",
       "      <td>94423.0</td>\n",
       "      <td>140208</td>\n",
       "      <td>90000</td>\n",
       "      <td>SPLENDOR PLUS SELF DRUM BSVI I3S</td>\n",
       "      <td>0</td>\n",
       "      <td>1</td>\n",
       "      <td>1011997</td>\n",
       "      <td>...</td>\n",
       "      <td>0.0</td>\n",
       "      <td>1.0</td>\n",
       "      <td>0.0</td>\n",
       "      <td>0.0</td>\n",
       "      <td>0.0</td>\n",
       "      <td>1.0</td>\n",
       "      <td>0.0</td>\n",
       "      <td>0.0</td>\n",
       "      <td>0.0</td>\n",
       "      <td>0.0</td>\n",
       "    </tr>\n",
       "    <tr>\n",
       "      <th>2</th>\n",
       "      <td>0</td>\n",
       "      <td>737.000000</td>\n",
       "      <td>0</td>\n",
       "      <td>119436.0</td>\n",
       "      <td>160001</td>\n",
       "      <td>75000</td>\n",
       "      <td>TVS NTORQ SUPER SQUAD EDITION BSVI</td>\n",
       "      <td>1</td>\n",
       "      <td>1</td>\n",
       "      <td>9081999</td>\n",
       "      <td>...</td>\n",
       "      <td>0.0</td>\n",
       "      <td>1.0</td>\n",
       "      <td>0.0</td>\n",
       "      <td>0.0</td>\n",
       "      <td>0.0</td>\n",
       "      <td>0.0</td>\n",
       "      <td>1.0</td>\n",
       "      <td>0.0</td>\n",
       "      <td>0.0</td>\n",
       "      <td>0.0</td>\n",
       "    </tr>\n",
       "    <tr>\n",
       "      <th>3</th>\n",
       "      <td>0</td>\n",
       "      <td>713.000000</td>\n",
       "      <td>0</td>\n",
       "      <td>87000.0</td>\n",
       "      <td>160832</td>\n",
       "      <td>78500</td>\n",
       "      <td>SPLENDOR+ BLK ACCT SS DRUM I3S BSVI</td>\n",
       "      <td>1</td>\n",
       "      <td>1</td>\n",
       "      <td>3071998</td>\n",
       "      <td>...</td>\n",
       "      <td>0.0</td>\n",
       "      <td>0.0</td>\n",
       "      <td>1.0</td>\n",
       "      <td>0.0</td>\n",
       "      <td>0.0</td>\n",
       "      <td>1.0</td>\n",
       "      <td>0.0</td>\n",
       "      <td>0.0</td>\n",
       "      <td>0.0</td>\n",
       "      <td>0.0</td>\n",
       "    </tr>\n",
       "    <tr>\n",
       "      <th>4</th>\n",
       "      <td>0</td>\n",
       "      <td>669.000000</td>\n",
       "      <td>0</td>\n",
       "      <td>94423.0</td>\n",
       "      <td>174641</td>\n",
       "      <td>70000</td>\n",
       "      <td>DIO STD BSVI</td>\n",
       "      <td>0</td>\n",
       "      <td>1</td>\n",
       "      <td>5071989</td>\n",
       "      <td>...</td>\n",
       "      <td>0.0</td>\n",
       "      <td>1.0</td>\n",
       "      <td>0.0</td>\n",
       "      <td>0.0</td>\n",
       "      <td>0.0</td>\n",
       "      <td>1.0</td>\n",
       "      <td>0.0</td>\n",
       "      <td>0.0</td>\n",
       "      <td>0.0</td>\n",
       "      <td>0.0</td>\n",
       "    </tr>\n",
       "  </tbody>\n",
       "</table>\n",
       "<p>5 rows × 70 columns</p>\n",
       "</div>"
      ],
      "text/plain": [
       "   AADHAR VERIFIED  Cibil Score  MOBILE VERIFICATION  TOTAL ASSET COST  \\\n",
       "0                0   726.000000                    0           95041.0   \n",
       "1                0   706.409298                    0           94423.0   \n",
       "2                0   737.000000                    0          119436.0   \n",
       "3                0   713.000000                    0           87000.0   \n",
       "4                0   669.000000                    0           94423.0   \n",
       "\n",
       "   ASSET MODEL NO  APPLIED AMOUNT               Primary Asset Model No  \\\n",
       "0          139542           85000                      SHINE DRUM BSVI   \n",
       "1          140208           90000     SPLENDOR PLUS SELF DRUM BSVI I3S   \n",
       "2          160001           75000   TVS NTORQ SUPER SQUAD EDITION BSVI   \n",
       "3          160832           78500  SPLENDOR+ BLK ACCT SS DRUM I3S BSVI   \n",
       "4          174641           70000                         DIO STD BSVI   \n",
       "\n",
       "   MARITAL STATUS  GENDER      DOB  ...  ADDRESS TYPE_COMPANY_PROVIDED  \\\n",
       "0               0       1  1041978  ...                            0.0   \n",
       "1               0       1  1011997  ...                            0.0   \n",
       "2               1       1  9081999  ...                            0.0   \n",
       "3               1       1  3071998  ...                            0.0   \n",
       "4               0       1  5071989  ...                            0.0   \n",
       "\n",
       "   ADDRESS TYPE_OWNED  ADDRESS TYPE_PARENTAL  ADDRESS TYPE_RENTED  \\\n",
       "0                 0.0                    1.0                  0.0   \n",
       "1                 1.0                    0.0                  0.0   \n",
       "2                 1.0                    0.0                  0.0   \n",
       "3                 0.0                    1.0                  0.0   \n",
       "4                 1.0                    0.0                  0.0   \n",
       "\n",
       "   ADDRESS TYPE_RESIDENCE  phone_phoneFootprintStrengthOverall_High  \\\n",
       "0                     0.0                                       1.0   \n",
       "1                     0.0                                       1.0   \n",
       "2                     0.0                                       0.0   \n",
       "3                     0.0                                       1.0   \n",
       "4                     0.0                                       1.0   \n",
       "\n",
       "   phone_phoneFootprintStrengthOverall_Low  \\\n",
       "0                                      0.0   \n",
       "1                                      0.0   \n",
       "2                                      1.0   \n",
       "3                                      0.0   \n",
       "4                                      0.0   \n",
       "\n",
       "   phone_phoneFootprintStrengthOverall_Medium  \\\n",
       "0                                         0.0   \n",
       "1                                         0.0   \n",
       "2                                         0.0   \n",
       "3                                         0.0   \n",
       "4                                         0.0   \n",
       "\n",
       "   phone_phoneFootprintStrengthOverall_Very High  \\\n",
       "0                                            0.0   \n",
       "1                                            0.0   \n",
       "2                                            0.0   \n",
       "3                                            0.0   \n",
       "4                                            0.0   \n",
       "\n",
       "   phone_phoneFootprintStrengthOverall_Very Low  \n",
       "0                                           0.0  \n",
       "1                                           0.0  \n",
       "2                                           0.0  \n",
       "3                                           0.0  \n",
       "4                                           0.0  \n",
       "\n",
       "[5 rows x 70 columns]"
      ]
     },
     "execution_count": 92,
     "metadata": {},
     "output_type": "execute_result"
    }
   ],
   "source": [
    "df.head()"
   ]
  },
  {
   "cell_type": "code",
   "execution_count": 93,
   "metadata": {},
   "outputs": [
    {
     "data": {
      "text/plain": [
       "Index(['AADHAR VERIFIED', 'Cibil Score', 'MOBILE VERIFICATION',\n",
       "       'TOTAL ASSET COST', 'ASSET MODEL NO', 'APPLIED AMOUNT',\n",
       "       'Primary Asset Model No', 'MARITAL STATUS', 'GENDER', 'DOB', 'AGE',\n",
       "       'Phone Social Premium.amazon', 'Phone Social Premium.byjus',\n",
       "       'Phone Social Premium.flipkart', 'Phone Social Premium.housing',\n",
       "       'Phone Social Premium.indiamart', 'Phone Social Premium.instagram',\n",
       "       'Phone Social Premium.jeevansaathi', 'Phone Social Premium.microsoft',\n",
       "       'Phone Social Premium.paytm', 'Phone Social Premium.shaadi',\n",
       "       'Phone Social Premium.skype', 'Phone Social Premium.toi',\n",
       "       'Phone Social Premium.zoho', 'phone_digitalage', 'phone_nameMatchScore',\n",
       "       'SOCIAL_MEDIA_COUNT', 'EMPLOY CONSTITUTION_SALARIED',\n",
       "       'EMPLOY CONSTITUTION_SELF-EMPLOYED', 'EMPLOY CONSTITUTION_Unknown',\n",
       "       'ASSET CTG_EMECA', 'ASSET CTG_ESECB', 'ASSET CTG_ESNRB',\n",
       "       'ASSET CTG_ESNRC', 'ASSET CTG_MCECA', 'ASSET CTG_MCECB',\n",
       "       'ASSET CTG_MCECC', 'ASSET CTG_MCEXA', 'ASSET CTG_MCEXB',\n",
       "       'ASSET CTG_MCPRA', 'ASSET CTG_MOECA', 'ASSET CTG_SCECA',\n",
       "       'ASSET CTG_SCEXA', 'PRIMARY ASSET MAKE_AMO ELECTRIC',\n",
       "       'PRIMARY ASSET MAKE_AMPERE MOTORS', 'PRIMARY ASSET MAKE_ATHER ELECTRIC',\n",
       "       'PRIMARY ASSET MAKE_BAJAJ AUTO INDIA',\n",
       "       'PRIMARY ASSET MAKE_BENLING ELECTRIC',\n",
       "       'PRIMARY ASSET MAKE_HERO ELECTRIC VEHICLES P LTD',\n",
       "       'PRIMARY ASSET MAKE_HERO MOTORS', 'PRIMARY ASSET MAKE_HONDA MOTORS',\n",
       "       'PRIMARY ASSET MAKE_HOP ELECTRIC', 'PRIMARY ASSET MAKE_JAWA MOTORS',\n",
       "       'PRIMARY ASSET MAKE_OKAYA ELECTRIC',\n",
       "       'PRIMARY ASSET MAKE_OKINAWA ELECTRIC',\n",
       "       'PRIMARY ASSET MAKE_PIAGGIO INDIA',\n",
       "       'PRIMARY ASSET MAKE_ROYAL ENFIELD BIKES INDIA',\n",
       "       'PRIMARY ASSET MAKE_SUZUKI MOTORCYCLE',\n",
       "       'PRIMARY ASSET MAKE_TVS MOTOR CO', 'PRIMARY ASSET MAKE_YAMAHA MOTOR',\n",
       "       'ADDRESS TYPE_COMPANY_PROVIDED', 'ADDRESS TYPE_OWNED',\n",
       "       'ADDRESS TYPE_PARENTAL', 'ADDRESS TYPE_RENTED',\n",
       "       'ADDRESS TYPE_RESIDENCE', 'phone_phoneFootprintStrengthOverall_High',\n",
       "       'phone_phoneFootprintStrengthOverall_Low',\n",
       "       'phone_phoneFootprintStrengthOverall_Medium',\n",
       "       'phone_phoneFootprintStrengthOverall_Very High',\n",
       "       'phone_phoneFootprintStrengthOverall_Very Low'],\n",
       "      dtype='object')"
      ]
     },
     "execution_count": 93,
     "metadata": {},
     "output_type": "execute_result"
    }
   ],
   "source": [
    "df.columns"
   ]
  },
  {
   "cell_type": "code",
   "execution_count": 94,
   "metadata": {},
   "outputs": [
    {
     "data": {
      "text/plain": [
       "ASSET MODEL NO\n",
       "143240    855\n",
       "140208    826\n",
       "199546    635\n",
       "140212    630\n",
       "129101    530\n",
       "         ... \n",
       "143629      1\n",
       "142946      1\n",
       "156064      1\n",
       "145114      1\n",
       "166972      1\n",
       "Name: count, Length: 278, dtype: int64"
      ]
     },
     "execution_count": 94,
     "metadata": {},
     "output_type": "execute_result"
    }
   ],
   "source": [
    "df['ASSET MODEL NO'].value_counts()"
   ]
  },
  {
   "cell_type": "code",
   "execution_count": 95,
   "metadata": {},
   "outputs": [
    {
     "data": {
      "text/html": [
       "<div>\n",
       "<style scoped>\n",
       "    .dataframe tbody tr th:only-of-type {\n",
       "        vertical-align: middle;\n",
       "    }\n",
       "\n",
       "    .dataframe tbody tr th {\n",
       "        vertical-align: top;\n",
       "    }\n",
       "\n",
       "    .dataframe thead th {\n",
       "        text-align: right;\n",
       "    }\n",
       "</style>\n",
       "<table border=\"1\" class=\"dataframe\">\n",
       "  <thead>\n",
       "    <tr style=\"text-align: right;\">\n",
       "      <th></th>\n",
       "      <th>Primary Asset Model No</th>\n",
       "      <th>ASSET MODEL NO</th>\n",
       "    </tr>\n",
       "  </thead>\n",
       "  <tbody>\n",
       "    <tr>\n",
       "      <th>0</th>\n",
       "      <td>SHINE DRUM BSVI</td>\n",
       "      <td>139542</td>\n",
       "    </tr>\n",
       "    <tr>\n",
       "      <th>1</th>\n",
       "      <td>SPLENDOR PLUS SELF DRUM BSVI I3S</td>\n",
       "      <td>140208</td>\n",
       "    </tr>\n",
       "    <tr>\n",
       "      <th>2</th>\n",
       "      <td>TVS NTORQ SUPER SQUAD EDITION BSVI</td>\n",
       "      <td>160001</td>\n",
       "    </tr>\n",
       "    <tr>\n",
       "      <th>3</th>\n",
       "      <td>SPLENDOR+ BLK ACCT SS DRUM I3S BSVI</td>\n",
       "      <td>160832</td>\n",
       "    </tr>\n",
       "    <tr>\n",
       "      <th>4</th>\n",
       "      <td>DIO STD BSVI</td>\n",
       "      <td>174641</td>\n",
       "    </tr>\n",
       "    <tr>\n",
       "      <th>...</th>\n",
       "      <td>...</td>\n",
       "      <td>...</td>\n",
       "    </tr>\n",
       "    <tr>\n",
       "      <th>11995</th>\n",
       "      <td>STARCITY PLUS DUAL TONE BSVI</td>\n",
       "      <td>138469</td>\n",
       "    </tr>\n",
       "    <tr>\n",
       "      <th>11996</th>\n",
       "      <td>PLATINA 110 ES DRUM BSVI</td>\n",
       "      <td>180580</td>\n",
       "    </tr>\n",
       "    <tr>\n",
       "      <th>11997</th>\n",
       "      <td>SPORT KICK START LONG SEAT BSVI</td>\n",
       "      <td>143233</td>\n",
       "    </tr>\n",
       "    <tr>\n",
       "      <th>11998</th>\n",
       "      <td>SPLENDOR PLUS SELF DRUM BSVI I3S</td>\n",
       "      <td>140208</td>\n",
       "    </tr>\n",
       "    <tr>\n",
       "      <th>11999</th>\n",
       "      <td>SPLENDOR PLUS XTEC BSVI</td>\n",
       "      <td>199546</td>\n",
       "    </tr>\n",
       "  </tbody>\n",
       "</table>\n",
       "<p>12000 rows × 2 columns</p>\n",
       "</div>"
      ],
      "text/plain": [
       "                    Primary Asset Model No  ASSET MODEL NO\n",
       "0                          SHINE DRUM BSVI          139542\n",
       "1         SPLENDOR PLUS SELF DRUM BSVI I3S          140208\n",
       "2       TVS NTORQ SUPER SQUAD EDITION BSVI          160001\n",
       "3      SPLENDOR+ BLK ACCT SS DRUM I3S BSVI          160832\n",
       "4                             DIO STD BSVI          174641\n",
       "...                                    ...             ...\n",
       "11995         STARCITY PLUS DUAL TONE BSVI          138469\n",
       "11996             PLATINA 110 ES DRUM BSVI          180580\n",
       "11997      SPORT KICK START LONG SEAT BSVI          143233\n",
       "11998     SPLENDOR PLUS SELF DRUM BSVI I3S          140208\n",
       "11999              SPLENDOR PLUS XTEC BSVI          199546\n",
       "\n",
       "[12000 rows x 2 columns]"
      ]
     },
     "execution_count": 95,
     "metadata": {},
     "output_type": "execute_result"
    }
   ],
   "source": [
    "df[['Primary Asset Model No','ASSET MODEL NO']]"
   ]
  },
  {
   "cell_type": "markdown",
   "metadata": {},
   "source": [
    "### As Primary Asset model number and Asset model Number specifies the similar features so I am droping the Primary Asset model number"
   ]
  },
  {
   "cell_type": "code",
   "execution_count": 96,
   "metadata": {},
   "outputs": [],
   "source": [
    "df=df.drop(columns=['Primary Asset Model No'])"
   ]
  },
  {
   "cell_type": "markdown",
   "metadata": {},
   "source": [
    "### creating one more feature Loan amount to asset ratio for more betterment"
   ]
  },
  {
   "cell_type": "code",
   "execution_count": 97,
   "metadata": {},
   "outputs": [],
   "source": [
    "df['LOAN_TO_ASSET_RATIO'] = df['APPLIED AMOUNT'] / df['TOTAL ASSET COST']"
   ]
  },
  {
   "cell_type": "markdown",
   "metadata": {},
   "source": [
    "### I am droping the DOB column as it does not impact much and we have age feature to better understand this data"
   ]
  },
  {
   "cell_type": "code",
   "execution_count": 98,
   "metadata": {},
   "outputs": [],
   "source": [
    "df=df.drop(columns=['DOB'])"
   ]
  },
  {
   "cell_type": "markdown",
   "metadata": {},
   "source": [
    "### Standerdizing and normalizing the features"
   ]
  },
  {
   "cell_type": "code",
   "execution_count": 99,
   "metadata": {},
   "outputs": [],
   "source": [
    "from sklearn.preprocessing import StandardScaler, MinMaxScaler"
   ]
  },
  {
   "cell_type": "code",
   "execution_count": 100,
   "metadata": {},
   "outputs": [],
   "source": [
    "standardize_cols = ['Cibil Score', 'TOTAL ASSET COST', 'APPLIED AMOUNT','ASSET MODEL NO' ,'AGE', 'phone_digitalage', 'phone_nameMatchScore', 'LOAN_TO_ASSET_RATIO']\n",
    "normalize_cols = ['SOCIAL_MEDIA_COUNT']"
   ]
  },
  {
   "cell_type": "code",
   "execution_count": 101,
   "metadata": {},
   "outputs": [],
   "source": [
    "scaler=StandardScaler()\n",
    "df[standardize_cols]=scaler.fit_transform(df[standardize_cols])"
   ]
  },
  {
   "cell_type": "code",
   "execution_count": 102,
   "metadata": {},
   "outputs": [
    {
     "data": {
      "text/html": [
       "<div>\n",
       "<style scoped>\n",
       "    .dataframe tbody tr th:only-of-type {\n",
       "        vertical-align: middle;\n",
       "    }\n",
       "\n",
       "    .dataframe tbody tr th {\n",
       "        vertical-align: top;\n",
       "    }\n",
       "\n",
       "    .dataframe thead th {\n",
       "        text-align: right;\n",
       "    }\n",
       "</style>\n",
       "<table border=\"1\" class=\"dataframe\">\n",
       "  <thead>\n",
       "    <tr style=\"text-align: right;\">\n",
       "      <th></th>\n",
       "      <th>AADHAR VERIFIED</th>\n",
       "      <th>Cibil Score</th>\n",
       "      <th>MOBILE VERIFICATION</th>\n",
       "      <th>TOTAL ASSET COST</th>\n",
       "      <th>ASSET MODEL NO</th>\n",
       "      <th>APPLIED AMOUNT</th>\n",
       "      <th>MARITAL STATUS</th>\n",
       "      <th>GENDER</th>\n",
       "      <th>AGE</th>\n",
       "      <th>Phone Social Premium.amazon</th>\n",
       "      <th>...</th>\n",
       "      <th>ADDRESS TYPE_OWNED</th>\n",
       "      <th>ADDRESS TYPE_PARENTAL</th>\n",
       "      <th>ADDRESS TYPE_RENTED</th>\n",
       "      <th>ADDRESS TYPE_RESIDENCE</th>\n",
       "      <th>phone_phoneFootprintStrengthOverall_High</th>\n",
       "      <th>phone_phoneFootprintStrengthOverall_Low</th>\n",
       "      <th>phone_phoneFootprintStrengthOverall_Medium</th>\n",
       "      <th>phone_phoneFootprintStrengthOverall_Very High</th>\n",
       "      <th>phone_phoneFootprintStrengthOverall_Very Low</th>\n",
       "      <th>LOAN_TO_ASSET_RATIO</th>\n",
       "    </tr>\n",
       "  </thead>\n",
       "  <tbody>\n",
       "    <tr>\n",
       "      <th>0</th>\n",
       "      <td>0</td>\n",
       "      <td>4.233157e-01</td>\n",
       "      <td>0</td>\n",
       "      <td>-0.080491</td>\n",
       "      <td>-0.537447</td>\n",
       "      <td>-0.311477</td>\n",
       "      <td>0</td>\n",
       "      <td>1</td>\n",
       "      <td>1.084073</td>\n",
       "      <td>1.0</td>\n",
       "      <td>...</td>\n",
       "      <td>0.0</td>\n",
       "      <td>1.0</td>\n",
       "      <td>0.0</td>\n",
       "      <td>0.0</td>\n",
       "      <td>1.0</td>\n",
       "      <td>0.0</td>\n",
       "      <td>0.0</td>\n",
       "      <td>0.0</td>\n",
       "      <td>0.0</td>\n",
       "      <td>-0.295992</td>\n",
       "    </tr>\n",
       "    <tr>\n",
       "      <th>1</th>\n",
       "      <td>0</td>\n",
       "      <td>2.456544e-15</td>\n",
       "      <td>0</td>\n",
       "      <td>-0.132981</td>\n",
       "      <td>-0.505701</td>\n",
       "      <td>0.069654</td>\n",
       "      <td>0</td>\n",
       "      <td>1</td>\n",
       "      <td>-0.616749</td>\n",
       "      <td>1.0</td>\n",
       "      <td>...</td>\n",
       "      <td>1.0</td>\n",
       "      <td>0.0</td>\n",
       "      <td>0.0</td>\n",
       "      <td>0.0</td>\n",
       "      <td>1.0</td>\n",
       "      <td>0.0</td>\n",
       "      <td>0.0</td>\n",
       "      <td>0.0</td>\n",
       "      <td>0.0</td>\n",
       "      <td>0.151138</td>\n",
       "    </tr>\n",
       "    <tr>\n",
       "      <th>2</th>\n",
       "      <td>0</td>\n",
       "      <td>6.610036e-01</td>\n",
       "      <td>0</td>\n",
       "      <td>1.991511</td>\n",
       "      <td>0.437767</td>\n",
       "      <td>-1.073739</td>\n",
       "      <td>1</td>\n",
       "      <td>1</td>\n",
       "      <td>-0.885300</td>\n",
       "      <td>0.0</td>\n",
       "      <td>...</td>\n",
       "      <td>1.0</td>\n",
       "      <td>0.0</td>\n",
       "      <td>0.0</td>\n",
       "      <td>0.0</td>\n",
       "      <td>0.0</td>\n",
       "      <td>1.0</td>\n",
       "      <td>0.0</td>\n",
       "      <td>0.0</td>\n",
       "      <td>0.0</td>\n",
       "      <td>-2.321529</td>\n",
       "    </tr>\n",
       "    <tr>\n",
       "      <th>3</th>\n",
       "      <td>0</td>\n",
       "      <td>1.424118e-01</td>\n",
       "      <td>0</td>\n",
       "      <td>-0.763458</td>\n",
       "      <td>0.477379</td>\n",
       "      <td>-0.806948</td>\n",
       "      <td>1</td>\n",
       "      <td>1</td>\n",
       "      <td>-0.706266</td>\n",
       "      <td>0.0</td>\n",
       "      <td>...</td>\n",
       "      <td>0.0</td>\n",
       "      <td>1.0</td>\n",
       "      <td>0.0</td>\n",
       "      <td>0.0</td>\n",
       "      <td>1.0</td>\n",
       "      <td>0.0</td>\n",
       "      <td>0.0</td>\n",
       "      <td>0.0</td>\n",
       "      <td>0.0</td>\n",
       "      <td>-0.235561</td>\n",
       "    </tr>\n",
       "    <tr>\n",
       "      <th>4</th>\n",
       "      <td>0</td>\n",
       "      <td>-8.083397e-01</td>\n",
       "      <td>0</td>\n",
       "      <td>-0.132981</td>\n",
       "      <td>1.135609</td>\n",
       "      <td>-1.454871</td>\n",
       "      <td>0</td>\n",
       "      <td>1</td>\n",
       "      <td>0.099386</td>\n",
       "      <td>1.0</td>\n",
       "      <td>...</td>\n",
       "      <td>1.0</td>\n",
       "      <td>0.0</td>\n",
       "      <td>0.0</td>\n",
       "      <td>0.0</td>\n",
       "      <td>1.0</td>\n",
       "      <td>0.0</td>\n",
       "      <td>0.0</td>\n",
       "      <td>0.0</td>\n",
       "      <td>0.0</td>\n",
       "      <td>-1.459355</td>\n",
       "    </tr>\n",
       "  </tbody>\n",
       "</table>\n",
       "<p>5 rows × 69 columns</p>\n",
       "</div>"
      ],
      "text/plain": [
       "   AADHAR VERIFIED   Cibil Score  MOBILE VERIFICATION  TOTAL ASSET COST  \\\n",
       "0                0  4.233157e-01                    0         -0.080491   \n",
       "1                0  2.456544e-15                    0         -0.132981   \n",
       "2                0  6.610036e-01                    0          1.991511   \n",
       "3                0  1.424118e-01                    0         -0.763458   \n",
       "4                0 -8.083397e-01                    0         -0.132981   \n",
       "\n",
       "   ASSET MODEL NO  APPLIED AMOUNT  MARITAL STATUS  GENDER       AGE  \\\n",
       "0       -0.537447       -0.311477               0       1  1.084073   \n",
       "1       -0.505701        0.069654               0       1 -0.616749   \n",
       "2        0.437767       -1.073739               1       1 -0.885300   \n",
       "3        0.477379       -0.806948               1       1 -0.706266   \n",
       "4        1.135609       -1.454871               0       1  0.099386   \n",
       "\n",
       "   Phone Social Premium.amazon  ...  ADDRESS TYPE_OWNED  \\\n",
       "0                          1.0  ...                 0.0   \n",
       "1                          1.0  ...                 1.0   \n",
       "2                          0.0  ...                 1.0   \n",
       "3                          0.0  ...                 0.0   \n",
       "4                          1.0  ...                 1.0   \n",
       "\n",
       "   ADDRESS TYPE_PARENTAL  ADDRESS TYPE_RENTED  ADDRESS TYPE_RESIDENCE  \\\n",
       "0                    1.0                  0.0                     0.0   \n",
       "1                    0.0                  0.0                     0.0   \n",
       "2                    0.0                  0.0                     0.0   \n",
       "3                    1.0                  0.0                     0.0   \n",
       "4                    0.0                  0.0                     0.0   \n",
       "\n",
       "   phone_phoneFootprintStrengthOverall_High  \\\n",
       "0                                       1.0   \n",
       "1                                       1.0   \n",
       "2                                       0.0   \n",
       "3                                       1.0   \n",
       "4                                       1.0   \n",
       "\n",
       "   phone_phoneFootprintStrengthOverall_Low  \\\n",
       "0                                      0.0   \n",
       "1                                      0.0   \n",
       "2                                      1.0   \n",
       "3                                      0.0   \n",
       "4                                      0.0   \n",
       "\n",
       "   phone_phoneFootprintStrengthOverall_Medium  \\\n",
       "0                                         0.0   \n",
       "1                                         0.0   \n",
       "2                                         0.0   \n",
       "3                                         0.0   \n",
       "4                                         0.0   \n",
       "\n",
       "   phone_phoneFootprintStrengthOverall_Very High  \\\n",
       "0                                            0.0   \n",
       "1                                            0.0   \n",
       "2                                            0.0   \n",
       "3                                            0.0   \n",
       "4                                            0.0   \n",
       "\n",
       "   phone_phoneFootprintStrengthOverall_Very Low  LOAN_TO_ASSET_RATIO  \n",
       "0                                           0.0            -0.295992  \n",
       "1                                           0.0             0.151138  \n",
       "2                                           0.0            -2.321529  \n",
       "3                                           0.0            -0.235561  \n",
       "4                                           0.0            -1.459355  \n",
       "\n",
       "[5 rows x 69 columns]"
      ]
     },
     "execution_count": 102,
     "metadata": {},
     "output_type": "execute_result"
    }
   ],
   "source": [
    "df.head()"
   ]
  },
  {
   "cell_type": "code",
   "execution_count": 103,
   "metadata": {},
   "outputs": [],
   "source": [
    "scaler2=MinMaxScaler()"
   ]
  },
  {
   "cell_type": "code",
   "execution_count": 104,
   "metadata": {},
   "outputs": [],
   "source": [
    "df[normalize_cols]=scaler2.fit_transform(df[normalize_cols])"
   ]
  },
  {
   "cell_type": "markdown",
   "metadata": {},
   "source": [
    "### Dividing the test data and train data as i have concatinated at the first"
   ]
  },
  {
   "cell_type": "code",
   "execution_count": 105,
   "metadata": {},
   "outputs": [],
   "source": [
    "test_data= df.tail(2000)"
   ]
  },
  {
   "cell_type": "code",
   "execution_count": 106,
   "metadata": {},
   "outputs": [
    {
     "data": {
      "text/html": [
       "<div>\n",
       "<style scoped>\n",
       "    .dataframe tbody tr th:only-of-type {\n",
       "        vertical-align: middle;\n",
       "    }\n",
       "\n",
       "    .dataframe tbody tr th {\n",
       "        vertical-align: top;\n",
       "    }\n",
       "\n",
       "    .dataframe thead th {\n",
       "        text-align: right;\n",
       "    }\n",
       "</style>\n",
       "<table border=\"1\" class=\"dataframe\">\n",
       "  <thead>\n",
       "    <tr style=\"text-align: right;\">\n",
       "      <th></th>\n",
       "      <th>AADHAR VERIFIED</th>\n",
       "      <th>Cibil Score</th>\n",
       "      <th>MOBILE VERIFICATION</th>\n",
       "      <th>TOTAL ASSET COST</th>\n",
       "      <th>ASSET MODEL NO</th>\n",
       "      <th>APPLIED AMOUNT</th>\n",
       "      <th>MARITAL STATUS</th>\n",
       "      <th>GENDER</th>\n",
       "      <th>AGE</th>\n",
       "      <th>Phone Social Premium.amazon</th>\n",
       "      <th>...</th>\n",
       "      <th>ADDRESS TYPE_OWNED</th>\n",
       "      <th>ADDRESS TYPE_PARENTAL</th>\n",
       "      <th>ADDRESS TYPE_RENTED</th>\n",
       "      <th>ADDRESS TYPE_RESIDENCE</th>\n",
       "      <th>phone_phoneFootprintStrengthOverall_High</th>\n",
       "      <th>phone_phoneFootprintStrengthOverall_Low</th>\n",
       "      <th>phone_phoneFootprintStrengthOverall_Medium</th>\n",
       "      <th>phone_phoneFootprintStrengthOverall_Very High</th>\n",
       "      <th>phone_phoneFootprintStrengthOverall_Very Low</th>\n",
       "      <th>LOAN_TO_ASSET_RATIO</th>\n",
       "    </tr>\n",
       "  </thead>\n",
       "  <tbody>\n",
       "    <tr>\n",
       "      <th>10000</th>\n",
       "      <td>0</td>\n",
       "      <td>1.093163e+00</td>\n",
       "      <td>0</td>\n",
       "      <td>-0.054076</td>\n",
       "      <td>-0.361127</td>\n",
       "      <td>-0.082798</td>\n",
       "      <td>0</td>\n",
       "      <td>1</td>\n",
       "      <td>2.158276</td>\n",
       "      <td>0.0</td>\n",
       "      <td>...</td>\n",
       "      <td>1.0</td>\n",
       "      <td>0.0</td>\n",
       "      <td>0.0</td>\n",
       "      <td>0.0</td>\n",
       "      <td>0.0</td>\n",
       "      <td>0.0</td>\n",
       "      <td>1.0</td>\n",
       "      <td>0.0</td>\n",
       "      <td>0.0</td>\n",
       "      <td>-0.078951</td>\n",
       "    </tr>\n",
       "    <tr>\n",
       "      <th>10001</th>\n",
       "      <td>0</td>\n",
       "      <td>9.419075e-01</td>\n",
       "      <td>0</td>\n",
       "      <td>-1.751173</td>\n",
       "      <td>0.749270</td>\n",
       "      <td>-1.073739</td>\n",
       "      <td>0</td>\n",
       "      <td>1</td>\n",
       "      <td>0.905039</td>\n",
       "      <td>0.0</td>\n",
       "      <td>...</td>\n",
       "      <td>0.0</td>\n",
       "      <td>1.0</td>\n",
       "      <td>0.0</td>\n",
       "      <td>0.0</td>\n",
       "      <td>0.0</td>\n",
       "      <td>1.0</td>\n",
       "      <td>0.0</td>\n",
       "      <td>0.0</td>\n",
       "      <td>0.0</td>\n",
       "      <td>0.469872</td>\n",
       "    </tr>\n",
       "    <tr>\n",
       "      <th>10002</th>\n",
       "      <td>0</td>\n",
       "      <td>7.758786e-02</td>\n",
       "      <td>0</td>\n",
       "      <td>-0.085417</td>\n",
       "      <td>-0.795753</td>\n",
       "      <td>0.298333</td>\n",
       "      <td>1</td>\n",
       "      <td>1</td>\n",
       "      <td>-0.616749</td>\n",
       "      <td>1.0</td>\n",
       "      <td>...</td>\n",
       "      <td>1.0</td>\n",
       "      <td>0.0</td>\n",
       "      <td>0.0</td>\n",
       "      <td>0.0</td>\n",
       "      <td>0.0</td>\n",
       "      <td>0.0</td>\n",
       "      <td>1.0</td>\n",
       "      <td>0.0</td>\n",
       "      <td>0.0</td>\n",
       "      <td>0.348560</td>\n",
       "    </tr>\n",
       "    <tr>\n",
       "      <th>10003</th>\n",
       "      <td>0</td>\n",
       "      <td>-2.465320e-01</td>\n",
       "      <td>0</td>\n",
       "      <td>-0.132981</td>\n",
       "      <td>-0.342728</td>\n",
       "      <td>0.450785</td>\n",
       "      <td>0</td>\n",
       "      <td>1</td>\n",
       "      <td>0.188903</td>\n",
       "      <td>0.0</td>\n",
       "      <td>...</td>\n",
       "      <td>1.0</td>\n",
       "      <td>0.0</td>\n",
       "      <td>0.0</td>\n",
       "      <td>0.0</td>\n",
       "      <td>0.0</td>\n",
       "      <td>1.0</td>\n",
       "      <td>0.0</td>\n",
       "      <td>0.0</td>\n",
       "      <td>0.0</td>\n",
       "      <td>0.553761</td>\n",
       "    </tr>\n",
       "    <tr>\n",
       "      <th>10004</th>\n",
       "      <td>0</td>\n",
       "      <td>2.456544e-15</td>\n",
       "      <td>0</td>\n",
       "      <td>-0.485124</td>\n",
       "      <td>-0.327427</td>\n",
       "      <td>-0.463929</td>\n",
       "      <td>1</td>\n",
       "      <td>1</td>\n",
       "      <td>-0.706266</td>\n",
       "      <td>1.0</td>\n",
       "      <td>...</td>\n",
       "      <td>0.0</td>\n",
       "      <td>1.0</td>\n",
       "      <td>0.0</td>\n",
       "      <td>0.0</td>\n",
       "      <td>0.0</td>\n",
       "      <td>0.0</td>\n",
       "      <td>0.0</td>\n",
       "      <td>0.0</td>\n",
       "      <td>1.0</td>\n",
       "      <td>-0.105591</td>\n",
       "    </tr>\n",
       "  </tbody>\n",
       "</table>\n",
       "<p>5 rows × 69 columns</p>\n",
       "</div>"
      ],
      "text/plain": [
       "       AADHAR VERIFIED   Cibil Score  MOBILE VERIFICATION  TOTAL ASSET COST  \\\n",
       "10000                0  1.093163e+00                    0         -0.054076   \n",
       "10001                0  9.419075e-01                    0         -1.751173   \n",
       "10002                0  7.758786e-02                    0         -0.085417   \n",
       "10003                0 -2.465320e-01                    0         -0.132981   \n",
       "10004                0  2.456544e-15                    0         -0.485124   \n",
       "\n",
       "       ASSET MODEL NO  APPLIED AMOUNT  MARITAL STATUS  GENDER       AGE  \\\n",
       "10000       -0.361127       -0.082798               0       1  2.158276   \n",
       "10001        0.749270       -1.073739               0       1  0.905039   \n",
       "10002       -0.795753        0.298333               1       1 -0.616749   \n",
       "10003       -0.342728        0.450785               0       1  0.188903   \n",
       "10004       -0.327427       -0.463929               1       1 -0.706266   \n",
       "\n",
       "       Phone Social Premium.amazon  ...  ADDRESS TYPE_OWNED  \\\n",
       "10000                          0.0  ...                 1.0   \n",
       "10001                          0.0  ...                 0.0   \n",
       "10002                          1.0  ...                 1.0   \n",
       "10003                          0.0  ...                 1.0   \n",
       "10004                          1.0  ...                 0.0   \n",
       "\n",
       "       ADDRESS TYPE_PARENTAL  ADDRESS TYPE_RENTED  ADDRESS TYPE_RESIDENCE  \\\n",
       "10000                    0.0                  0.0                     0.0   \n",
       "10001                    1.0                  0.0                     0.0   \n",
       "10002                    0.0                  0.0                     0.0   \n",
       "10003                    0.0                  0.0                     0.0   \n",
       "10004                    1.0                  0.0                     0.0   \n",
       "\n",
       "       phone_phoneFootprintStrengthOverall_High  \\\n",
       "10000                                       0.0   \n",
       "10001                                       0.0   \n",
       "10002                                       0.0   \n",
       "10003                                       0.0   \n",
       "10004                                       0.0   \n",
       "\n",
       "       phone_phoneFootprintStrengthOverall_Low  \\\n",
       "10000                                      0.0   \n",
       "10001                                      1.0   \n",
       "10002                                      0.0   \n",
       "10003                                      1.0   \n",
       "10004                                      0.0   \n",
       "\n",
       "       phone_phoneFootprintStrengthOverall_Medium  \\\n",
       "10000                                         1.0   \n",
       "10001                                         0.0   \n",
       "10002                                         1.0   \n",
       "10003                                         0.0   \n",
       "10004                                         0.0   \n",
       "\n",
       "       phone_phoneFootprintStrengthOverall_Very High  \\\n",
       "10000                                            0.0   \n",
       "10001                                            0.0   \n",
       "10002                                            0.0   \n",
       "10003                                            0.0   \n",
       "10004                                            0.0   \n",
       "\n",
       "       phone_phoneFootprintStrengthOverall_Very Low  LOAN_TO_ASSET_RATIO  \n",
       "10000                                           0.0            -0.078951  \n",
       "10001                                           0.0             0.469872  \n",
       "10002                                           0.0             0.348560  \n",
       "10003                                           0.0             0.553761  \n",
       "10004                                           1.0            -0.105591  \n",
       "\n",
       "[5 rows x 69 columns]"
      ]
     },
     "execution_count": 106,
     "metadata": {},
     "output_type": "execute_result"
    }
   ],
   "source": [
    "test_data.head()"
   ]
  },
  {
   "cell_type": "code",
   "execution_count": 107,
   "metadata": {},
   "outputs": [
    {
     "data": {
      "text/plain": [
       "(2000, 69)"
      ]
     },
     "execution_count": 107,
     "metadata": {},
     "output_type": "execute_result"
    }
   ],
   "source": [
    "test_data.shape"
   ]
  },
  {
   "cell_type": "code",
   "execution_count": 108,
   "metadata": {},
   "outputs": [],
   "source": [
    "train_data= df.iloc[:-2000]"
   ]
  },
  {
   "cell_type": "code",
   "execution_count": 109,
   "metadata": {},
   "outputs": [
    {
     "data": {
      "text/html": [
       "<div>\n",
       "<style scoped>\n",
       "    .dataframe tbody tr th:only-of-type {\n",
       "        vertical-align: middle;\n",
       "    }\n",
       "\n",
       "    .dataframe tbody tr th {\n",
       "        vertical-align: top;\n",
       "    }\n",
       "\n",
       "    .dataframe thead th {\n",
       "        text-align: right;\n",
       "    }\n",
       "</style>\n",
       "<table border=\"1\" class=\"dataframe\">\n",
       "  <thead>\n",
       "    <tr style=\"text-align: right;\">\n",
       "      <th></th>\n",
       "      <th>AADHAR VERIFIED</th>\n",
       "      <th>Cibil Score</th>\n",
       "      <th>MOBILE VERIFICATION</th>\n",
       "      <th>TOTAL ASSET COST</th>\n",
       "      <th>ASSET MODEL NO</th>\n",
       "      <th>APPLIED AMOUNT</th>\n",
       "      <th>MARITAL STATUS</th>\n",
       "      <th>GENDER</th>\n",
       "      <th>AGE</th>\n",
       "      <th>Phone Social Premium.amazon</th>\n",
       "      <th>...</th>\n",
       "      <th>ADDRESS TYPE_OWNED</th>\n",
       "      <th>ADDRESS TYPE_PARENTAL</th>\n",
       "      <th>ADDRESS TYPE_RENTED</th>\n",
       "      <th>ADDRESS TYPE_RESIDENCE</th>\n",
       "      <th>phone_phoneFootprintStrengthOverall_High</th>\n",
       "      <th>phone_phoneFootprintStrengthOverall_Low</th>\n",
       "      <th>phone_phoneFootprintStrengthOverall_Medium</th>\n",
       "      <th>phone_phoneFootprintStrengthOverall_Very High</th>\n",
       "      <th>phone_phoneFootprintStrengthOverall_Very Low</th>\n",
       "      <th>LOAN_TO_ASSET_RATIO</th>\n",
       "    </tr>\n",
       "  </thead>\n",
       "  <tbody>\n",
       "    <tr>\n",
       "      <th>0</th>\n",
       "      <td>0</td>\n",
       "      <td>4.233157e-01</td>\n",
       "      <td>0</td>\n",
       "      <td>-0.080491</td>\n",
       "      <td>-0.537447</td>\n",
       "      <td>-0.311477</td>\n",
       "      <td>0</td>\n",
       "      <td>1</td>\n",
       "      <td>1.084073</td>\n",
       "      <td>1.0</td>\n",
       "      <td>...</td>\n",
       "      <td>0.0</td>\n",
       "      <td>1.0</td>\n",
       "      <td>0.0</td>\n",
       "      <td>0.0</td>\n",
       "      <td>1.0</td>\n",
       "      <td>0.0</td>\n",
       "      <td>0.0</td>\n",
       "      <td>0.0</td>\n",
       "      <td>0.0</td>\n",
       "      <td>-0.295992</td>\n",
       "    </tr>\n",
       "    <tr>\n",
       "      <th>1</th>\n",
       "      <td>0</td>\n",
       "      <td>2.456544e-15</td>\n",
       "      <td>0</td>\n",
       "      <td>-0.132981</td>\n",
       "      <td>-0.505701</td>\n",
       "      <td>0.069654</td>\n",
       "      <td>0</td>\n",
       "      <td>1</td>\n",
       "      <td>-0.616749</td>\n",
       "      <td>1.0</td>\n",
       "      <td>...</td>\n",
       "      <td>1.0</td>\n",
       "      <td>0.0</td>\n",
       "      <td>0.0</td>\n",
       "      <td>0.0</td>\n",
       "      <td>1.0</td>\n",
       "      <td>0.0</td>\n",
       "      <td>0.0</td>\n",
       "      <td>0.0</td>\n",
       "      <td>0.0</td>\n",
       "      <td>0.151138</td>\n",
       "    </tr>\n",
       "    <tr>\n",
       "      <th>2</th>\n",
       "      <td>0</td>\n",
       "      <td>6.610036e-01</td>\n",
       "      <td>0</td>\n",
       "      <td>1.991511</td>\n",
       "      <td>0.437767</td>\n",
       "      <td>-1.073739</td>\n",
       "      <td>1</td>\n",
       "      <td>1</td>\n",
       "      <td>-0.885300</td>\n",
       "      <td>0.0</td>\n",
       "      <td>...</td>\n",
       "      <td>1.0</td>\n",
       "      <td>0.0</td>\n",
       "      <td>0.0</td>\n",
       "      <td>0.0</td>\n",
       "      <td>0.0</td>\n",
       "      <td>1.0</td>\n",
       "      <td>0.0</td>\n",
       "      <td>0.0</td>\n",
       "      <td>0.0</td>\n",
       "      <td>-2.321529</td>\n",
       "    </tr>\n",
       "    <tr>\n",
       "      <th>3</th>\n",
       "      <td>0</td>\n",
       "      <td>1.424118e-01</td>\n",
       "      <td>0</td>\n",
       "      <td>-0.763458</td>\n",
       "      <td>0.477379</td>\n",
       "      <td>-0.806948</td>\n",
       "      <td>1</td>\n",
       "      <td>1</td>\n",
       "      <td>-0.706266</td>\n",
       "      <td>0.0</td>\n",
       "      <td>...</td>\n",
       "      <td>0.0</td>\n",
       "      <td>1.0</td>\n",
       "      <td>0.0</td>\n",
       "      <td>0.0</td>\n",
       "      <td>1.0</td>\n",
       "      <td>0.0</td>\n",
       "      <td>0.0</td>\n",
       "      <td>0.0</td>\n",
       "      <td>0.0</td>\n",
       "      <td>-0.235561</td>\n",
       "    </tr>\n",
       "    <tr>\n",
       "      <th>4</th>\n",
       "      <td>0</td>\n",
       "      <td>-8.083397e-01</td>\n",
       "      <td>0</td>\n",
       "      <td>-0.132981</td>\n",
       "      <td>1.135609</td>\n",
       "      <td>-1.454871</td>\n",
       "      <td>0</td>\n",
       "      <td>1</td>\n",
       "      <td>0.099386</td>\n",
       "      <td>1.0</td>\n",
       "      <td>...</td>\n",
       "      <td>1.0</td>\n",
       "      <td>0.0</td>\n",
       "      <td>0.0</td>\n",
       "      <td>0.0</td>\n",
       "      <td>1.0</td>\n",
       "      <td>0.0</td>\n",
       "      <td>0.0</td>\n",
       "      <td>0.0</td>\n",
       "      <td>0.0</td>\n",
       "      <td>-1.459355</td>\n",
       "    </tr>\n",
       "    <tr>\n",
       "      <th>...</th>\n",
       "      <td>...</td>\n",
       "      <td>...</td>\n",
       "      <td>...</td>\n",
       "      <td>...</td>\n",
       "      <td>...</td>\n",
       "      <td>...</td>\n",
       "      <td>...</td>\n",
       "      <td>...</td>\n",
       "      <td>...</td>\n",
       "      <td>...</td>\n",
       "      <td>...</td>\n",
       "      <td>...</td>\n",
       "      <td>...</td>\n",
       "      <td>...</td>\n",
       "      <td>...</td>\n",
       "      <td>...</td>\n",
       "      <td>...</td>\n",
       "      <td>...</td>\n",
       "      <td>...</td>\n",
       "      <td>...</td>\n",
       "      <td>...</td>\n",
       "    </tr>\n",
       "    <tr>\n",
       "      <th>9995</th>\n",
       "      <td>0</td>\n",
       "      <td>2.456544e-15</td>\n",
       "      <td>0</td>\n",
       "      <td>-0.596135</td>\n",
       "      <td>0.477379</td>\n",
       "      <td>-0.159025</td>\n",
       "      <td>0</td>\n",
       "      <td>1</td>\n",
       "      <td>-0.885300</td>\n",
       "      <td>1.0</td>\n",
       "      <td>...</td>\n",
       "      <td>0.0</td>\n",
       "      <td>1.0</td>\n",
       "      <td>0.0</td>\n",
       "      <td>0.0</td>\n",
       "      <td>0.0</td>\n",
       "      <td>0.0</td>\n",
       "      <td>1.0</td>\n",
       "      <td>0.0</td>\n",
       "      <td>0.0</td>\n",
       "      <td>0.338942</td>\n",
       "    </tr>\n",
       "    <tr>\n",
       "      <th>9996</th>\n",
       "      <td>0</td>\n",
       "      <td>2.456544e-15</td>\n",
       "      <td>0</td>\n",
       "      <td>2.039414</td>\n",
       "      <td>1.538107</td>\n",
       "      <td>0.069654</td>\n",
       "      <td>0</td>\n",
       "      <td>1</td>\n",
       "      <td>1.621174</td>\n",
       "      <td>1.0</td>\n",
       "      <td>...</td>\n",
       "      <td>1.0</td>\n",
       "      <td>0.0</td>\n",
       "      <td>0.0</td>\n",
       "      <td>0.0</td>\n",
       "      <td>1.0</td>\n",
       "      <td>0.0</td>\n",
       "      <td>0.0</td>\n",
       "      <td>0.0</td>\n",
       "      <td>0.0</td>\n",
       "      <td>-1.393547</td>\n",
       "    </tr>\n",
       "    <tr>\n",
       "      <th>9997</th>\n",
       "      <td>0</td>\n",
       "      <td>2.456544e-15</td>\n",
       "      <td>0</td>\n",
       "      <td>-0.514682</td>\n",
       "      <td>-0.361175</td>\n",
       "      <td>-0.006572</td>\n",
       "      <td>0</td>\n",
       "      <td>1</td>\n",
       "      <td>0.636488</td>\n",
       "      <td>0.0</td>\n",
       "      <td>...</td>\n",
       "      <td>0.0</td>\n",
       "      <td>0.0</td>\n",
       "      <td>1.0</td>\n",
       "      <td>0.0</td>\n",
       "      <td>0.0</td>\n",
       "      <td>0.0</td>\n",
       "      <td>1.0</td>\n",
       "      <td>0.0</td>\n",
       "      <td>0.0</td>\n",
       "      <td>0.428753</td>\n",
       "    </tr>\n",
       "    <tr>\n",
       "      <th>9998</th>\n",
       "      <td>0</td>\n",
       "      <td>2.456544e-15</td>\n",
       "      <td>0</td>\n",
       "      <td>-0.564709</td>\n",
       "      <td>0.477379</td>\n",
       "      <td>-0.311477</td>\n",
       "      <td>0</td>\n",
       "      <td>1</td>\n",
       "      <td>1.710691</td>\n",
       "      <td>0.0</td>\n",
       "      <td>...</td>\n",
       "      <td>1.0</td>\n",
       "      <td>0.0</td>\n",
       "      <td>0.0</td>\n",
       "      <td>0.0</td>\n",
       "      <td>0.0</td>\n",
       "      <td>1.0</td>\n",
       "      <td>0.0</td>\n",
       "      <td>0.0</td>\n",
       "      <td>0.0</td>\n",
       "      <td>0.137938</td>\n",
       "    </tr>\n",
       "    <tr>\n",
       "      <th>9999</th>\n",
       "      <td>0</td>\n",
       "      <td>1.179595e+00</td>\n",
       "      <td>0</td>\n",
       "      <td>0.447893</td>\n",
       "      <td>-1.035087</td>\n",
       "      <td>-0.311477</td>\n",
       "      <td>0</td>\n",
       "      <td>1</td>\n",
       "      <td>-0.616749</td>\n",
       "      <td>1.0</td>\n",
       "      <td>...</td>\n",
       "      <td>0.0</td>\n",
       "      <td>1.0</td>\n",
       "      <td>0.0</td>\n",
       "      <td>0.0</td>\n",
       "      <td>1.0</td>\n",
       "      <td>0.0</td>\n",
       "      <td>0.0</td>\n",
       "      <td>0.0</td>\n",
       "      <td>0.0</td>\n",
       "      <td>-0.713754</td>\n",
       "    </tr>\n",
       "  </tbody>\n",
       "</table>\n",
       "<p>10000 rows × 69 columns</p>\n",
       "</div>"
      ],
      "text/plain": [
       "      AADHAR VERIFIED   Cibil Score  MOBILE VERIFICATION  TOTAL ASSET COST  \\\n",
       "0                   0  4.233157e-01                    0         -0.080491   \n",
       "1                   0  2.456544e-15                    0         -0.132981   \n",
       "2                   0  6.610036e-01                    0          1.991511   \n",
       "3                   0  1.424118e-01                    0         -0.763458   \n",
       "4                   0 -8.083397e-01                    0         -0.132981   \n",
       "...               ...           ...                  ...               ...   \n",
       "9995                0  2.456544e-15                    0         -0.596135   \n",
       "9996                0  2.456544e-15                    0          2.039414   \n",
       "9997                0  2.456544e-15                    0         -0.514682   \n",
       "9998                0  2.456544e-15                    0         -0.564709   \n",
       "9999                0  1.179595e+00                    0          0.447893   \n",
       "\n",
       "      ASSET MODEL NO  APPLIED AMOUNT  MARITAL STATUS  GENDER       AGE  \\\n",
       "0          -0.537447       -0.311477               0       1  1.084073   \n",
       "1          -0.505701        0.069654               0       1 -0.616749   \n",
       "2           0.437767       -1.073739               1       1 -0.885300   \n",
       "3           0.477379       -0.806948               1       1 -0.706266   \n",
       "4           1.135609       -1.454871               0       1  0.099386   \n",
       "...              ...             ...             ...     ...       ...   \n",
       "9995        0.477379       -0.159025               0       1 -0.885300   \n",
       "9996        1.538107        0.069654               0       1  1.621174   \n",
       "9997       -0.361175       -0.006572               0       1  0.636488   \n",
       "9998        0.477379       -0.311477               0       1  1.710691   \n",
       "9999       -1.035087       -0.311477               0       1 -0.616749   \n",
       "\n",
       "      Phone Social Premium.amazon  ...  ADDRESS TYPE_OWNED  \\\n",
       "0                             1.0  ...                 0.0   \n",
       "1                             1.0  ...                 1.0   \n",
       "2                             0.0  ...                 1.0   \n",
       "3                             0.0  ...                 0.0   \n",
       "4                             1.0  ...                 1.0   \n",
       "...                           ...  ...                 ...   \n",
       "9995                          1.0  ...                 0.0   \n",
       "9996                          1.0  ...                 1.0   \n",
       "9997                          0.0  ...                 0.0   \n",
       "9998                          0.0  ...                 1.0   \n",
       "9999                          1.0  ...                 0.0   \n",
       "\n",
       "      ADDRESS TYPE_PARENTAL  ADDRESS TYPE_RENTED  ADDRESS TYPE_RESIDENCE  \\\n",
       "0                       1.0                  0.0                     0.0   \n",
       "1                       0.0                  0.0                     0.0   \n",
       "2                       0.0                  0.0                     0.0   \n",
       "3                       1.0                  0.0                     0.0   \n",
       "4                       0.0                  0.0                     0.0   \n",
       "...                     ...                  ...                     ...   \n",
       "9995                    1.0                  0.0                     0.0   \n",
       "9996                    0.0                  0.0                     0.0   \n",
       "9997                    0.0                  1.0                     0.0   \n",
       "9998                    0.0                  0.0                     0.0   \n",
       "9999                    1.0                  0.0                     0.0   \n",
       "\n",
       "      phone_phoneFootprintStrengthOverall_High  \\\n",
       "0                                          1.0   \n",
       "1                                          1.0   \n",
       "2                                          0.0   \n",
       "3                                          1.0   \n",
       "4                                          1.0   \n",
       "...                                        ...   \n",
       "9995                                       0.0   \n",
       "9996                                       1.0   \n",
       "9997                                       0.0   \n",
       "9998                                       0.0   \n",
       "9999                                       1.0   \n",
       "\n",
       "      phone_phoneFootprintStrengthOverall_Low  \\\n",
       "0                                         0.0   \n",
       "1                                         0.0   \n",
       "2                                         1.0   \n",
       "3                                         0.0   \n",
       "4                                         0.0   \n",
       "...                                       ...   \n",
       "9995                                      0.0   \n",
       "9996                                      0.0   \n",
       "9997                                      0.0   \n",
       "9998                                      1.0   \n",
       "9999                                      0.0   \n",
       "\n",
       "      phone_phoneFootprintStrengthOverall_Medium  \\\n",
       "0                                            0.0   \n",
       "1                                            0.0   \n",
       "2                                            0.0   \n",
       "3                                            0.0   \n",
       "4                                            0.0   \n",
       "...                                          ...   \n",
       "9995                                         1.0   \n",
       "9996                                         0.0   \n",
       "9997                                         1.0   \n",
       "9998                                         0.0   \n",
       "9999                                         0.0   \n",
       "\n",
       "      phone_phoneFootprintStrengthOverall_Very High  \\\n",
       "0                                               0.0   \n",
       "1                                               0.0   \n",
       "2                                               0.0   \n",
       "3                                               0.0   \n",
       "4                                               0.0   \n",
       "...                                             ...   \n",
       "9995                                            0.0   \n",
       "9996                                            0.0   \n",
       "9997                                            0.0   \n",
       "9998                                            0.0   \n",
       "9999                                            0.0   \n",
       "\n",
       "      phone_phoneFootprintStrengthOverall_Very Low  LOAN_TO_ASSET_RATIO  \n",
       "0                                              0.0            -0.295992  \n",
       "1                                              0.0             0.151138  \n",
       "2                                              0.0            -2.321529  \n",
       "3                                              0.0            -0.235561  \n",
       "4                                              0.0            -1.459355  \n",
       "...                                            ...                  ...  \n",
       "9995                                           0.0             0.338942  \n",
       "9996                                           0.0            -1.393547  \n",
       "9997                                           0.0             0.428753  \n",
       "9998                                           0.0             0.137938  \n",
       "9999                                           0.0            -0.713754  \n",
       "\n",
       "[10000 rows x 69 columns]"
      ]
     },
     "execution_count": 109,
     "metadata": {},
     "output_type": "execute_result"
    }
   ],
   "source": [
    "train_data"
   ]
  },
  {
   "cell_type": "markdown",
   "metadata": {},
   "source": [
    "### Creating the x and y variable for train data"
   ]
  },
  {
   "cell_type": "code",
   "execution_count": 110,
   "metadata": {},
   "outputs": [],
   "source": [
    "x=train_data"
   ]
  },
  {
   "cell_type": "code",
   "execution_count": 111,
   "metadata": {},
   "outputs": [],
   "source": [
    "y=df_train[target]"
   ]
  },
  {
   "cell_type": "code",
   "execution_count": 112,
   "metadata": {},
   "outputs": [
    {
     "data": {
      "text/plain": [
       "Application Status\n",
       "APPROVED    6677\n",
       "DECLINED    3323\n",
       "Name: count, dtype: int64"
      ]
     },
     "execution_count": 112,
     "metadata": {},
     "output_type": "execute_result"
    }
   ],
   "source": [
    "y.value_counts()"
   ]
  },
  {
   "cell_type": "code",
   "execution_count": 113,
   "metadata": {},
   "outputs": [
    {
     "data": {
      "text/plain": [
       "pandas.core.series.Series"
      ]
     },
     "execution_count": 113,
     "metadata": {},
     "output_type": "execute_result"
    }
   ],
   "source": [
    "type(y)"
   ]
  },
  {
   "cell_type": "markdown",
   "metadata": {},
   "source": [
    "### converting the categorical variables into numerical data in the target variable"
   ]
  },
  {
   "cell_type": "code",
   "execution_count": 114,
   "metadata": {},
   "outputs": [],
   "source": [
    "y = y.map({'APPROVED': 1, 'DECLINED': 0})"
   ]
  },
  {
   "cell_type": "code",
   "execution_count": 115,
   "metadata": {},
   "outputs": [],
   "source": [
    "from sklearn.model_selection import train_test_split\n",
    "from sklearn.ensemble import RandomForestClassifier\n",
    "from sklearn.metrics import classification_report, confusion_matrix,roc_auc_score,accuracy_score\n",
    "from imblearn.over_sampling import SMOTE\n",
    "from imblearn.under_sampling import RandomUnderSampler\n",
    "from imblearn.pipeline import Pipeline\n"
   ]
  },
  {
   "cell_type": "markdown",
   "metadata": {},
   "source": [
    "### spliting the data into training and testing"
   ]
  },
  {
   "cell_type": "code",
   "execution_count": 116,
   "metadata": {},
   "outputs": [],
   "source": [
    "X_train, X_test, y_train, y_test = train_test_split(x, y, test_size=0.2, random_state=42)\n"
   ]
  },
  {
   "cell_type": "markdown",
   "metadata": {},
   "source": [
    "### Trying with different models and also handling imbalanced data"
   ]
  },
  {
   "cell_type": "markdown",
   "metadata": {},
   "source": [
    "##### Creating a evaluation function so that we can use the same function for evauating different models"
   ]
  },
  {
   "cell_type": "code",
   "execution_count": 117,
   "metadata": {},
   "outputs": [],
   "source": [
    "def evaluate_model(model, X_test, y_test):\n",
    "    y_pred = model.predict(X_test)\n",
    "    print('accuracy score:',accuracy_score(y_test,y_pred))\n",
    "    print(classification_report(y_test, y_pred))\n",
    "    print(\"Confusion Matrix:\")\n",
    "    print(confusion_matrix(y_test, y_pred))\n",
    "    print(\"ROC AUC Score:\", roc_auc_score(y_test, model.predict_proba(X_test)[:,1]))"
   ]
  },
  {
   "cell_type": "markdown",
   "metadata": {},
   "source": [
    "#### 1. Random Forest with balanced subsample"
   ]
  },
  {
   "cell_type": "code",
   "execution_count": 118,
   "metadata": {},
   "outputs": [
    {
     "data": {
      "text/html": [
       "<style>#sk-container-id-1 {color: black;}#sk-container-id-1 pre{padding: 0;}#sk-container-id-1 div.sk-toggleable {background-color: white;}#sk-container-id-1 label.sk-toggleable__label {cursor: pointer;display: block;width: 100%;margin-bottom: 0;padding: 0.3em;box-sizing: border-box;text-align: center;}#sk-container-id-1 label.sk-toggleable__label-arrow:before {content: \"▸\";float: left;margin-right: 0.25em;color: #696969;}#sk-container-id-1 label.sk-toggleable__label-arrow:hover:before {color: black;}#sk-container-id-1 div.sk-estimator:hover label.sk-toggleable__label-arrow:before {color: black;}#sk-container-id-1 div.sk-toggleable__content {max-height: 0;max-width: 0;overflow: hidden;text-align: left;background-color: #f0f8ff;}#sk-container-id-1 div.sk-toggleable__content pre {margin: 0.2em;color: black;border-radius: 0.25em;background-color: #f0f8ff;}#sk-container-id-1 input.sk-toggleable__control:checked~div.sk-toggleable__content {max-height: 200px;max-width: 100%;overflow: auto;}#sk-container-id-1 input.sk-toggleable__control:checked~label.sk-toggleable__label-arrow:before {content: \"▾\";}#sk-container-id-1 div.sk-estimator input.sk-toggleable__control:checked~label.sk-toggleable__label {background-color: #d4ebff;}#sk-container-id-1 div.sk-label input.sk-toggleable__control:checked~label.sk-toggleable__label {background-color: #d4ebff;}#sk-container-id-1 input.sk-hidden--visually {border: 0;clip: rect(1px 1px 1px 1px);clip: rect(1px, 1px, 1px, 1px);height: 1px;margin: -1px;overflow: hidden;padding: 0;position: absolute;width: 1px;}#sk-container-id-1 div.sk-estimator {font-family: monospace;background-color: #f0f8ff;border: 1px dotted black;border-radius: 0.25em;box-sizing: border-box;margin-bottom: 0.5em;}#sk-container-id-1 div.sk-estimator:hover {background-color: #d4ebff;}#sk-container-id-1 div.sk-parallel-item::after {content: \"\";width: 100%;border-bottom: 1px solid gray;flex-grow: 1;}#sk-container-id-1 div.sk-label:hover label.sk-toggleable__label {background-color: #d4ebff;}#sk-container-id-1 div.sk-serial::before {content: \"\";position: absolute;border-left: 1px solid gray;box-sizing: border-box;top: 0;bottom: 0;left: 50%;z-index: 0;}#sk-container-id-1 div.sk-serial {display: flex;flex-direction: column;align-items: center;background-color: white;padding-right: 0.2em;padding-left: 0.2em;position: relative;}#sk-container-id-1 div.sk-item {position: relative;z-index: 1;}#sk-container-id-1 div.sk-parallel {display: flex;align-items: stretch;justify-content: center;background-color: white;position: relative;}#sk-container-id-1 div.sk-item::before, #sk-container-id-1 div.sk-parallel-item::before {content: \"\";position: absolute;border-left: 1px solid gray;box-sizing: border-box;top: 0;bottom: 0;left: 50%;z-index: -1;}#sk-container-id-1 div.sk-parallel-item {display: flex;flex-direction: column;z-index: 1;position: relative;background-color: white;}#sk-container-id-1 div.sk-parallel-item:first-child::after {align-self: flex-end;width: 50%;}#sk-container-id-1 div.sk-parallel-item:last-child::after {align-self: flex-start;width: 50%;}#sk-container-id-1 div.sk-parallel-item:only-child::after {width: 0;}#sk-container-id-1 div.sk-dashed-wrapped {border: 1px dashed gray;margin: 0 0.4em 0.5em 0.4em;box-sizing: border-box;padding-bottom: 0.4em;background-color: white;}#sk-container-id-1 div.sk-label label {font-family: monospace;font-weight: bold;display: inline-block;line-height: 1.2em;}#sk-container-id-1 div.sk-label-container {text-align: center;}#sk-container-id-1 div.sk-container {/* jupyter's `normalize.less` sets `[hidden] { display: none; }` but bootstrap.min.css set `[hidden] { display: none !important; }` so we also need the `!important` here to be able to override the default hidden behavior on the sphinx rendered scikit-learn.org. See: https://github.com/scikit-learn/scikit-learn/issues/21755 */display: inline-block !important;position: relative;}#sk-container-id-1 div.sk-text-repr-fallback {display: none;}</style><div id=\"sk-container-id-1\" class=\"sk-top-container\"><div class=\"sk-text-repr-fallback\"><pre>RandomForestClassifier(class_weight=&#x27;balanced_subsample&#x27;, random_state=42)</pre><b>In a Jupyter environment, please rerun this cell to show the HTML representation or trust the notebook. <br />On GitHub, the HTML representation is unable to render, please try loading this page with nbviewer.org.</b></div><div class=\"sk-container\" hidden><div class=\"sk-item\"><div class=\"sk-estimator sk-toggleable\"><input class=\"sk-toggleable__control sk-hidden--visually\" id=\"sk-estimator-id-1\" type=\"checkbox\" checked><label for=\"sk-estimator-id-1\" class=\"sk-toggleable__label sk-toggleable__label-arrow\">RandomForestClassifier</label><div class=\"sk-toggleable__content\"><pre>RandomForestClassifier(class_weight=&#x27;balanced_subsample&#x27;, random_state=42)</pre></div></div></div></div></div>"
      ],
      "text/plain": [
       "RandomForestClassifier(class_weight='balanced_subsample', random_state=42)"
      ]
     },
     "execution_count": 118,
     "metadata": {},
     "output_type": "execute_result"
    }
   ],
   "source": [
    "model = RandomForestClassifier(class_weight='balanced_subsample', random_state=42)\n",
    "model.fit(X_train, y_train)\n"
   ]
  },
  {
   "cell_type": "code",
   "execution_count": 119,
   "metadata": {},
   "outputs": [
    {
     "name": "stdout",
     "output_type": "stream",
     "text": [
      "accuracy score: 0.8655\n",
      "              precision    recall  f1-score   support\n",
      "\n",
      "           0       0.79      0.82      0.80       673\n",
      "           1       0.91      0.89      0.90      1327\n",
      "\n",
      "    accuracy                           0.87      2000\n",
      "   macro avg       0.85      0.85      0.85      2000\n",
      "weighted avg       0.87      0.87      0.87      2000\n",
      "\n",
      "Confusion Matrix:\n",
      "[[ 553  120]\n",
      " [ 149 1178]]\n",
      "ROC AUC Score: 0.9508017839567067\n"
     ]
    }
   ],
   "source": [
    "evaluate_model(model, X_test, y_test)"
   ]
  },
  {
   "cell_type": "code",
   "execution_count": 120,
   "metadata": {},
   "outputs": [],
   "source": [
    "from sklearn.linear_model import LogisticRegression"
   ]
  },
  {
   "cell_type": "markdown",
   "metadata": {},
   "source": [
    "#### 2. Resampling with SMOTE and using Logistic Regression"
   ]
  },
  {
   "cell_type": "code",
   "execution_count": 121,
   "metadata": {},
   "outputs": [
    {
     "name": "stdout",
     "output_type": "stream",
     "text": [
      "Results with SMOTE:\n",
      "accuracy score: 0.847\n",
      "              precision    recall  f1-score   support\n",
      "\n",
      "           0       0.71      0.93      0.80       673\n",
      "           1       0.96      0.80      0.87      1327\n",
      "\n",
      "    accuracy                           0.85      2000\n",
      "   macro avg       0.83      0.87      0.84      2000\n",
      "weighted avg       0.87      0.85      0.85      2000\n",
      "\n",
      "Confusion Matrix:\n",
      "[[ 628   45]\n",
      " [ 261 1066]]\n",
      "ROC AUC Score: 0.9427162006156284\n"
     ]
    },
    {
     "name": "stderr",
     "output_type": "stream",
     "text": [
      "c:\\Users\\Dell\\AppData\\Local\\Programs\\Python\\Python312\\Lib\\site-packages\\sklearn\\linear_model\\_logistic.py:460: ConvergenceWarning: lbfgs failed to converge (status=1):\n",
      "STOP: TOTAL NO. of ITERATIONS REACHED LIMIT.\n",
      "\n",
      "Increase the number of iterations (max_iter) or scale the data as shown in:\n",
      "    https://scikit-learn.org/stable/modules/preprocessing.html\n",
      "Please also refer to the documentation for alternative solver options:\n",
      "    https://scikit-learn.org/stable/modules/linear_model.html#logistic-regression\n",
      "  n_iter_i = _check_optimize_result(\n"
     ]
    }
   ],
   "source": [
    "smote = SMOTE(random_state=42)\n",
    "X_train_smote, y_train_smote = smote.fit_resample(X_train, y_train)\n",
    "\n",
    "model_smote = LogisticRegression()\n",
    "model_smote.fit(X_train_smote, y_train_smote)\n",
    "\n",
    "print(\"Results with SMOTE:\")\n",
    "evaluate_model(model_smote, X_test, y_test)"
   ]
  },
  {
   "cell_type": "markdown",
   "metadata": {},
   "source": [
    "#### 3. Class balancing with Logistic Regression"
   ]
  },
  {
   "cell_type": "code",
   "execution_count": 122,
   "metadata": {},
   "outputs": [
    {
     "name": "stdout",
     "output_type": "stream",
     "text": [
      "\n",
      "Results with Class Weighting:\n",
      "accuracy score: 0.8505\n",
      "              precision    recall  f1-score   support\n",
      "\n",
      "           0       0.71      0.95      0.81       673\n",
      "           1       0.97      0.80      0.88      1327\n",
      "\n",
      "    accuracy                           0.85      2000\n",
      "   macro avg       0.84      0.88      0.84      2000\n",
      "weighted avg       0.88      0.85      0.85      2000\n",
      "\n",
      "Confusion Matrix:\n",
      "[[ 641   32]\n",
      " [ 267 1060]]\n",
      "ROC AUC Score: 0.9427184400792322\n"
     ]
    },
    {
     "name": "stderr",
     "output_type": "stream",
     "text": [
      "c:\\Users\\Dell\\AppData\\Local\\Programs\\Python\\Python312\\Lib\\site-packages\\sklearn\\linear_model\\_logistic.py:460: ConvergenceWarning: lbfgs failed to converge (status=1):\n",
      "STOP: TOTAL NO. of ITERATIONS REACHED LIMIT.\n",
      "\n",
      "Increase the number of iterations (max_iter) or scale the data as shown in:\n",
      "    https://scikit-learn.org/stable/modules/preprocessing.html\n",
      "Please also refer to the documentation for alternative solver options:\n",
      "    https://scikit-learn.org/stable/modules/linear_model.html#logistic-regression\n",
      "  n_iter_i = _check_optimize_result(\n"
     ]
    }
   ],
   "source": [
    "model_weighted = LogisticRegression(class_weight='balanced')\n",
    "model_weighted.fit(X_train, y_train)\n",
    "\n",
    "print(\"\\nResults with Class Weighting:\")\n",
    "evaluate_model(model_weighted, X_test, y_test)"
   ]
  },
  {
   "cell_type": "markdown",
   "metadata": {},
   "source": [
    "#### 4. Combining techniques: SMOTE + Random Forest"
   ]
  },
  {
   "cell_type": "code",
   "execution_count": 123,
   "metadata": {},
   "outputs": [
    {
     "name": "stdout",
     "output_type": "stream",
     "text": [
      "\n",
      "Results with SMOTE + Random Forest:\n",
      "accuracy score: 0.8575\n",
      "              precision    recall  f1-score   support\n",
      "\n",
      "           0       0.75      0.87      0.80       673\n",
      "           1       0.93      0.85      0.89      1327\n",
      "\n",
      "    accuracy                           0.86      2000\n",
      "   macro avg       0.84      0.86      0.85      2000\n",
      "weighted avg       0.87      0.86      0.86      2000\n",
      "\n",
      "Confusion Matrix:\n",
      "[[ 584   89]\n",
      " [ 196 1131]]\n",
      "ROC AUC Score: 0.9469241527269389\n"
     ]
    }
   ],
   "source": [
    "pipeline = Pipeline([\n",
    "    ('smote', SMOTE(random_state=42)),\n",
    "    ('classifier', RandomForestClassifier(random_state=42))\n",
    "])\n",
    "\n",
    "pipeline.fit(X_train, y_train)\n",
    "\n",
    "print(\"\\nResults with SMOTE + Random Forest:\")\n",
    "evaluate_model(pipeline, X_test, y_test)"
   ]
  },
  {
   "cell_type": "code",
   "execution_count": 124,
   "metadata": {},
   "outputs": [],
   "source": [
    "from xgboost import XGBClassifier"
   ]
  },
  {
   "cell_type": "markdown",
   "metadata": {},
   "source": [
    "### 5. Using XGBoost and Smote"
   ]
  },
  {
   "cell_type": "code",
   "execution_count": 125,
   "metadata": {},
   "outputs": [],
   "source": [
    "smote = SMOTE(random_state=42)\n",
    "X_train_resampled, y_train_resampled = smote.fit_resample(X_train, y_train)"
   ]
  },
  {
   "cell_type": "code",
   "execution_count": 126,
   "metadata": {},
   "outputs": [],
   "source": [
    "xgb_model = XGBClassifier(\n",
    "    learning_rate=0.01,\n",
    "    n_estimators=1000,\n",
    ")\n"
   ]
  },
  {
   "cell_type": "code",
   "execution_count": 127,
   "metadata": {},
   "outputs": [
    {
     "data": {
      "text/html": [
       "<style>#sk-container-id-2 {color: black;}#sk-container-id-2 pre{padding: 0;}#sk-container-id-2 div.sk-toggleable {background-color: white;}#sk-container-id-2 label.sk-toggleable__label {cursor: pointer;display: block;width: 100%;margin-bottom: 0;padding: 0.3em;box-sizing: border-box;text-align: center;}#sk-container-id-2 label.sk-toggleable__label-arrow:before {content: \"▸\";float: left;margin-right: 0.25em;color: #696969;}#sk-container-id-2 label.sk-toggleable__label-arrow:hover:before {color: black;}#sk-container-id-2 div.sk-estimator:hover label.sk-toggleable__label-arrow:before {color: black;}#sk-container-id-2 div.sk-toggleable__content {max-height: 0;max-width: 0;overflow: hidden;text-align: left;background-color: #f0f8ff;}#sk-container-id-2 div.sk-toggleable__content pre {margin: 0.2em;color: black;border-radius: 0.25em;background-color: #f0f8ff;}#sk-container-id-2 input.sk-toggleable__control:checked~div.sk-toggleable__content {max-height: 200px;max-width: 100%;overflow: auto;}#sk-container-id-2 input.sk-toggleable__control:checked~label.sk-toggleable__label-arrow:before {content: \"▾\";}#sk-container-id-2 div.sk-estimator input.sk-toggleable__control:checked~label.sk-toggleable__label {background-color: #d4ebff;}#sk-container-id-2 div.sk-label input.sk-toggleable__control:checked~label.sk-toggleable__label {background-color: #d4ebff;}#sk-container-id-2 input.sk-hidden--visually {border: 0;clip: rect(1px 1px 1px 1px);clip: rect(1px, 1px, 1px, 1px);height: 1px;margin: -1px;overflow: hidden;padding: 0;position: absolute;width: 1px;}#sk-container-id-2 div.sk-estimator {font-family: monospace;background-color: #f0f8ff;border: 1px dotted black;border-radius: 0.25em;box-sizing: border-box;margin-bottom: 0.5em;}#sk-container-id-2 div.sk-estimator:hover {background-color: #d4ebff;}#sk-container-id-2 div.sk-parallel-item::after {content: \"\";width: 100%;border-bottom: 1px solid gray;flex-grow: 1;}#sk-container-id-2 div.sk-label:hover label.sk-toggleable__label {background-color: #d4ebff;}#sk-container-id-2 div.sk-serial::before {content: \"\";position: absolute;border-left: 1px solid gray;box-sizing: border-box;top: 0;bottom: 0;left: 50%;z-index: 0;}#sk-container-id-2 div.sk-serial {display: flex;flex-direction: column;align-items: center;background-color: white;padding-right: 0.2em;padding-left: 0.2em;position: relative;}#sk-container-id-2 div.sk-item {position: relative;z-index: 1;}#sk-container-id-2 div.sk-parallel {display: flex;align-items: stretch;justify-content: center;background-color: white;position: relative;}#sk-container-id-2 div.sk-item::before, #sk-container-id-2 div.sk-parallel-item::before {content: \"\";position: absolute;border-left: 1px solid gray;box-sizing: border-box;top: 0;bottom: 0;left: 50%;z-index: -1;}#sk-container-id-2 div.sk-parallel-item {display: flex;flex-direction: column;z-index: 1;position: relative;background-color: white;}#sk-container-id-2 div.sk-parallel-item:first-child::after {align-self: flex-end;width: 50%;}#sk-container-id-2 div.sk-parallel-item:last-child::after {align-self: flex-start;width: 50%;}#sk-container-id-2 div.sk-parallel-item:only-child::after {width: 0;}#sk-container-id-2 div.sk-dashed-wrapped {border: 1px dashed gray;margin: 0 0.4em 0.5em 0.4em;box-sizing: border-box;padding-bottom: 0.4em;background-color: white;}#sk-container-id-2 div.sk-label label {font-family: monospace;font-weight: bold;display: inline-block;line-height: 1.2em;}#sk-container-id-2 div.sk-label-container {text-align: center;}#sk-container-id-2 div.sk-container {/* jupyter's `normalize.less` sets `[hidden] { display: none; }` but bootstrap.min.css set `[hidden] { display: none !important; }` so we also need the `!important` here to be able to override the default hidden behavior on the sphinx rendered scikit-learn.org. See: https://github.com/scikit-learn/scikit-learn/issues/21755 */display: inline-block !important;position: relative;}#sk-container-id-2 div.sk-text-repr-fallback {display: none;}</style><div id=\"sk-container-id-2\" class=\"sk-top-container\"><div class=\"sk-text-repr-fallback\"><pre>XGBClassifier(base_score=None, booster=None, callbacks=None,\n",
       "              colsample_bylevel=None, colsample_bynode=None,\n",
       "              colsample_bytree=None, device=None, early_stopping_rounds=None,\n",
       "              enable_categorical=False, eval_metric=None, feature_types=None,\n",
       "              gamma=None, grow_policy=None, importance_type=None,\n",
       "              interaction_constraints=None, learning_rate=0.01, max_bin=None,\n",
       "              max_cat_threshold=None, max_cat_to_onehot=None,\n",
       "              max_delta_step=None, max_depth=None, max_leaves=None,\n",
       "              min_child_weight=None, missing=nan, monotone_constraints=None,\n",
       "              multi_strategy=None, n_estimators=1000, n_jobs=None,\n",
       "              num_parallel_tree=None, random_state=None, ...)</pre><b>In a Jupyter environment, please rerun this cell to show the HTML representation or trust the notebook. <br />On GitHub, the HTML representation is unable to render, please try loading this page with nbviewer.org.</b></div><div class=\"sk-container\" hidden><div class=\"sk-item\"><div class=\"sk-estimator sk-toggleable\"><input class=\"sk-toggleable__control sk-hidden--visually\" id=\"sk-estimator-id-2\" type=\"checkbox\" checked><label for=\"sk-estimator-id-2\" class=\"sk-toggleable__label sk-toggleable__label-arrow\">XGBClassifier</label><div class=\"sk-toggleable__content\"><pre>XGBClassifier(base_score=None, booster=None, callbacks=None,\n",
       "              colsample_bylevel=None, colsample_bynode=None,\n",
       "              colsample_bytree=None, device=None, early_stopping_rounds=None,\n",
       "              enable_categorical=False, eval_metric=None, feature_types=None,\n",
       "              gamma=None, grow_policy=None, importance_type=None,\n",
       "              interaction_constraints=None, learning_rate=0.01, max_bin=None,\n",
       "              max_cat_threshold=None, max_cat_to_onehot=None,\n",
       "              max_delta_step=None, max_depth=None, max_leaves=None,\n",
       "              min_child_weight=None, missing=nan, monotone_constraints=None,\n",
       "              multi_strategy=None, n_estimators=1000, n_jobs=None,\n",
       "              num_parallel_tree=None, random_state=None, ...)</pre></div></div></div></div></div>"
      ],
      "text/plain": [
       "XGBClassifier(base_score=None, booster=None, callbacks=None,\n",
       "              colsample_bylevel=None, colsample_bynode=None,\n",
       "              colsample_bytree=None, device=None, early_stopping_rounds=None,\n",
       "              enable_categorical=False, eval_metric=None, feature_types=None,\n",
       "              gamma=None, grow_policy=None, importance_type=None,\n",
       "              interaction_constraints=None, learning_rate=0.01, max_bin=None,\n",
       "              max_cat_threshold=None, max_cat_to_onehot=None,\n",
       "              max_delta_step=None, max_depth=None, max_leaves=None,\n",
       "              min_child_weight=None, missing=nan, monotone_constraints=None,\n",
       "              multi_strategy=None, n_estimators=1000, n_jobs=None,\n",
       "              num_parallel_tree=None, random_state=None, ...)"
      ]
     },
     "execution_count": 127,
     "metadata": {},
     "output_type": "execute_result"
    }
   ],
   "source": [
    "xgb_model.fit(\n",
    "    X_train_resampled, \n",
    "    y_train_resampled, \n",
    ")"
   ]
  },
  {
   "cell_type": "code",
   "execution_count": 128,
   "metadata": {},
   "outputs": [
    {
     "name": "stdout",
     "output_type": "stream",
     "text": [
      "accuracy score: 0.8585\n",
      "              precision    recall  f1-score   support\n",
      "\n",
      "           0       0.76      0.85      0.80       673\n",
      "           1       0.92      0.86      0.89      1327\n",
      "\n",
      "    accuracy                           0.86      2000\n",
      "   macro avg       0.84      0.86      0.85      2000\n",
      "weighted avg       0.87      0.86      0.86      2000\n",
      "\n",
      "Confusion Matrix:\n",
      "[[ 573  100]\n",
      " [ 183 1144]]\n",
      "ROC AUC Score: 0.9497296407564461\n"
     ]
    }
   ],
   "source": [
    "evaluate_model(xgb_model, X_test, y_test)"
   ]
  },
  {
   "cell_type": "markdown",
   "metadata": {},
   "source": [
    "### From all the above models Random Forest Classifier with balanced subsample gives the better accuracy so I am considering this model"
   ]
  },
  {
   "cell_type": "code",
   "execution_count": 129,
   "metadata": {},
   "outputs": [],
   "source": [
    "final_model= RandomForestClassifier(class_weight='balanced_subsample', random_state=42)"
   ]
  },
  {
   "cell_type": "code",
   "execution_count": 130,
   "metadata": {},
   "outputs": [
    {
     "data": {
      "text/html": [
       "<style>#sk-container-id-3 {color: black;}#sk-container-id-3 pre{padding: 0;}#sk-container-id-3 div.sk-toggleable {background-color: white;}#sk-container-id-3 label.sk-toggleable__label {cursor: pointer;display: block;width: 100%;margin-bottom: 0;padding: 0.3em;box-sizing: border-box;text-align: center;}#sk-container-id-3 label.sk-toggleable__label-arrow:before {content: \"▸\";float: left;margin-right: 0.25em;color: #696969;}#sk-container-id-3 label.sk-toggleable__label-arrow:hover:before {color: black;}#sk-container-id-3 div.sk-estimator:hover label.sk-toggleable__label-arrow:before {color: black;}#sk-container-id-3 div.sk-toggleable__content {max-height: 0;max-width: 0;overflow: hidden;text-align: left;background-color: #f0f8ff;}#sk-container-id-3 div.sk-toggleable__content pre {margin: 0.2em;color: black;border-radius: 0.25em;background-color: #f0f8ff;}#sk-container-id-3 input.sk-toggleable__control:checked~div.sk-toggleable__content {max-height: 200px;max-width: 100%;overflow: auto;}#sk-container-id-3 input.sk-toggleable__control:checked~label.sk-toggleable__label-arrow:before {content: \"▾\";}#sk-container-id-3 div.sk-estimator input.sk-toggleable__control:checked~label.sk-toggleable__label {background-color: #d4ebff;}#sk-container-id-3 div.sk-label input.sk-toggleable__control:checked~label.sk-toggleable__label {background-color: #d4ebff;}#sk-container-id-3 input.sk-hidden--visually {border: 0;clip: rect(1px 1px 1px 1px);clip: rect(1px, 1px, 1px, 1px);height: 1px;margin: -1px;overflow: hidden;padding: 0;position: absolute;width: 1px;}#sk-container-id-3 div.sk-estimator {font-family: monospace;background-color: #f0f8ff;border: 1px dotted black;border-radius: 0.25em;box-sizing: border-box;margin-bottom: 0.5em;}#sk-container-id-3 div.sk-estimator:hover {background-color: #d4ebff;}#sk-container-id-3 div.sk-parallel-item::after {content: \"\";width: 100%;border-bottom: 1px solid gray;flex-grow: 1;}#sk-container-id-3 div.sk-label:hover label.sk-toggleable__label {background-color: #d4ebff;}#sk-container-id-3 div.sk-serial::before {content: \"\";position: absolute;border-left: 1px solid gray;box-sizing: border-box;top: 0;bottom: 0;left: 50%;z-index: 0;}#sk-container-id-3 div.sk-serial {display: flex;flex-direction: column;align-items: center;background-color: white;padding-right: 0.2em;padding-left: 0.2em;position: relative;}#sk-container-id-3 div.sk-item {position: relative;z-index: 1;}#sk-container-id-3 div.sk-parallel {display: flex;align-items: stretch;justify-content: center;background-color: white;position: relative;}#sk-container-id-3 div.sk-item::before, #sk-container-id-3 div.sk-parallel-item::before {content: \"\";position: absolute;border-left: 1px solid gray;box-sizing: border-box;top: 0;bottom: 0;left: 50%;z-index: -1;}#sk-container-id-3 div.sk-parallel-item {display: flex;flex-direction: column;z-index: 1;position: relative;background-color: white;}#sk-container-id-3 div.sk-parallel-item:first-child::after {align-self: flex-end;width: 50%;}#sk-container-id-3 div.sk-parallel-item:last-child::after {align-self: flex-start;width: 50%;}#sk-container-id-3 div.sk-parallel-item:only-child::after {width: 0;}#sk-container-id-3 div.sk-dashed-wrapped {border: 1px dashed gray;margin: 0 0.4em 0.5em 0.4em;box-sizing: border-box;padding-bottom: 0.4em;background-color: white;}#sk-container-id-3 div.sk-label label {font-family: monospace;font-weight: bold;display: inline-block;line-height: 1.2em;}#sk-container-id-3 div.sk-label-container {text-align: center;}#sk-container-id-3 div.sk-container {/* jupyter's `normalize.less` sets `[hidden] { display: none; }` but bootstrap.min.css set `[hidden] { display: none !important; }` so we also need the `!important` here to be able to override the default hidden behavior on the sphinx rendered scikit-learn.org. See: https://github.com/scikit-learn/scikit-learn/issues/21755 */display: inline-block !important;position: relative;}#sk-container-id-3 div.sk-text-repr-fallback {display: none;}</style><div id=\"sk-container-id-3\" class=\"sk-top-container\"><div class=\"sk-text-repr-fallback\"><pre>RandomForestClassifier(class_weight=&#x27;balanced_subsample&#x27;, random_state=42)</pre><b>In a Jupyter environment, please rerun this cell to show the HTML representation or trust the notebook. <br />On GitHub, the HTML representation is unable to render, please try loading this page with nbviewer.org.</b></div><div class=\"sk-container\" hidden><div class=\"sk-item\"><div class=\"sk-estimator sk-toggleable\"><input class=\"sk-toggleable__control sk-hidden--visually\" id=\"sk-estimator-id-3\" type=\"checkbox\" checked><label for=\"sk-estimator-id-3\" class=\"sk-toggleable__label sk-toggleable__label-arrow\">RandomForestClassifier</label><div class=\"sk-toggleable__content\"><pre>RandomForestClassifier(class_weight=&#x27;balanced_subsample&#x27;, random_state=42)</pre></div></div></div></div></div>"
      ],
      "text/plain": [
       "RandomForestClassifier(class_weight='balanced_subsample', random_state=42)"
      ]
     },
     "execution_count": 130,
     "metadata": {},
     "output_type": "execute_result"
    }
   ],
   "source": [
    "final_model.fit(X_train,y_train)"
   ]
  },
  {
   "cell_type": "code",
   "execution_count": 131,
   "metadata": {},
   "outputs": [
    {
     "name": "stdout",
     "output_type": "stream",
     "text": [
      "accuracy score: 0.8655\n",
      "              precision    recall  f1-score   support\n",
      "\n",
      "           0       0.79      0.82      0.80       673\n",
      "           1       0.91      0.89      0.90      1327\n",
      "\n",
      "    accuracy                           0.87      2000\n",
      "   macro avg       0.85      0.85      0.85      2000\n",
      "weighted avg       0.87      0.87      0.87      2000\n",
      "\n",
      "Confusion Matrix:\n",
      "[[ 553  120]\n",
      " [ 149 1178]]\n",
      "ROC AUC Score: 0.9508017839567067\n"
     ]
    }
   ],
   "source": [
    "evaluate_model(final_model,X_test,y_test)"
   ]
  },
  {
   "cell_type": "markdown",
   "metadata": {},
   "source": [
    "### HYPERPARAMETER TUNING to better improve accuracy"
   ]
  },
  {
   "cell_type": "markdown",
   "metadata": {},
   "source": [
    "### using grid search for hyperparameter tuning"
   ]
  },
  {
   "cell_type": "markdown",
   "metadata": {},
   "source": [
    "#### Grid 1: Selecting n_estimators"
   ]
  },
  {
   "cell_type": "code",
   "execution_count": 132,
   "metadata": {},
   "outputs": [],
   "source": [
    "from sklearn.model_selection import GridSearchCV"
   ]
  },
  {
   "cell_type": "code",
   "execution_count": 133,
   "metadata": {},
   "outputs": [
    {
     "name": "stdout",
     "output_type": "stream",
     "text": [
      "Fitting 3 folds for each of 6 candidates, totalling 18 fits\n"
     ]
    },
    {
     "data": {
      "text/html": [
       "<style>#sk-container-id-4 {color: black;}#sk-container-id-4 pre{padding: 0;}#sk-container-id-4 div.sk-toggleable {background-color: white;}#sk-container-id-4 label.sk-toggleable__label {cursor: pointer;display: block;width: 100%;margin-bottom: 0;padding: 0.3em;box-sizing: border-box;text-align: center;}#sk-container-id-4 label.sk-toggleable__label-arrow:before {content: \"▸\";float: left;margin-right: 0.25em;color: #696969;}#sk-container-id-4 label.sk-toggleable__label-arrow:hover:before {color: black;}#sk-container-id-4 div.sk-estimator:hover label.sk-toggleable__label-arrow:before {color: black;}#sk-container-id-4 div.sk-toggleable__content {max-height: 0;max-width: 0;overflow: hidden;text-align: left;background-color: #f0f8ff;}#sk-container-id-4 div.sk-toggleable__content pre {margin: 0.2em;color: black;border-radius: 0.25em;background-color: #f0f8ff;}#sk-container-id-4 input.sk-toggleable__control:checked~div.sk-toggleable__content {max-height: 200px;max-width: 100%;overflow: auto;}#sk-container-id-4 input.sk-toggleable__control:checked~label.sk-toggleable__label-arrow:before {content: \"▾\";}#sk-container-id-4 div.sk-estimator input.sk-toggleable__control:checked~label.sk-toggleable__label {background-color: #d4ebff;}#sk-container-id-4 div.sk-label input.sk-toggleable__control:checked~label.sk-toggleable__label {background-color: #d4ebff;}#sk-container-id-4 input.sk-hidden--visually {border: 0;clip: rect(1px 1px 1px 1px);clip: rect(1px, 1px, 1px, 1px);height: 1px;margin: -1px;overflow: hidden;padding: 0;position: absolute;width: 1px;}#sk-container-id-4 div.sk-estimator {font-family: monospace;background-color: #f0f8ff;border: 1px dotted black;border-radius: 0.25em;box-sizing: border-box;margin-bottom: 0.5em;}#sk-container-id-4 div.sk-estimator:hover {background-color: #d4ebff;}#sk-container-id-4 div.sk-parallel-item::after {content: \"\";width: 100%;border-bottom: 1px solid gray;flex-grow: 1;}#sk-container-id-4 div.sk-label:hover label.sk-toggleable__label {background-color: #d4ebff;}#sk-container-id-4 div.sk-serial::before {content: \"\";position: absolute;border-left: 1px solid gray;box-sizing: border-box;top: 0;bottom: 0;left: 50%;z-index: 0;}#sk-container-id-4 div.sk-serial {display: flex;flex-direction: column;align-items: center;background-color: white;padding-right: 0.2em;padding-left: 0.2em;position: relative;}#sk-container-id-4 div.sk-item {position: relative;z-index: 1;}#sk-container-id-4 div.sk-parallel {display: flex;align-items: stretch;justify-content: center;background-color: white;position: relative;}#sk-container-id-4 div.sk-item::before, #sk-container-id-4 div.sk-parallel-item::before {content: \"\";position: absolute;border-left: 1px solid gray;box-sizing: border-box;top: 0;bottom: 0;left: 50%;z-index: -1;}#sk-container-id-4 div.sk-parallel-item {display: flex;flex-direction: column;z-index: 1;position: relative;background-color: white;}#sk-container-id-4 div.sk-parallel-item:first-child::after {align-self: flex-end;width: 50%;}#sk-container-id-4 div.sk-parallel-item:last-child::after {align-self: flex-start;width: 50%;}#sk-container-id-4 div.sk-parallel-item:only-child::after {width: 0;}#sk-container-id-4 div.sk-dashed-wrapped {border: 1px dashed gray;margin: 0 0.4em 0.5em 0.4em;box-sizing: border-box;padding-bottom: 0.4em;background-color: white;}#sk-container-id-4 div.sk-label label {font-family: monospace;font-weight: bold;display: inline-block;line-height: 1.2em;}#sk-container-id-4 div.sk-label-container {text-align: center;}#sk-container-id-4 div.sk-container {/* jupyter's `normalize.less` sets `[hidden] { display: none; }` but bootstrap.min.css set `[hidden] { display: none !important; }` so we also need the `!important` here to be able to override the default hidden behavior on the sphinx rendered scikit-learn.org. See: https://github.com/scikit-learn/scikit-learn/issues/21755 */display: inline-block !important;position: relative;}#sk-container-id-4 div.sk-text-repr-fallback {display: none;}</style><div id=\"sk-container-id-4\" class=\"sk-top-container\"><div class=\"sk-text-repr-fallback\"><pre>GridSearchCV(cv=3, estimator=RandomForestClassifier(), n_jobs=-1,\n",
       "             param_grid={&#x27;class_weight&#x27;: [&#x27;balanced_subsample&#x27;],\n",
       "                         &#x27;n_estimators&#x27;: [300, 500, 700, 900, 1100, 1300]},\n",
       "             scoring=&#x27;accuracy&#x27;, verbose=1)</pre><b>In a Jupyter environment, please rerun this cell to show the HTML representation or trust the notebook. <br />On GitHub, the HTML representation is unable to render, please try loading this page with nbviewer.org.</b></div><div class=\"sk-container\" hidden><div class=\"sk-item sk-dashed-wrapped\"><div class=\"sk-label-container\"><div class=\"sk-label sk-toggleable\"><input class=\"sk-toggleable__control sk-hidden--visually\" id=\"sk-estimator-id-4\" type=\"checkbox\" ><label for=\"sk-estimator-id-4\" class=\"sk-toggleable__label sk-toggleable__label-arrow\">GridSearchCV</label><div class=\"sk-toggleable__content\"><pre>GridSearchCV(cv=3, estimator=RandomForestClassifier(), n_jobs=-1,\n",
       "             param_grid={&#x27;class_weight&#x27;: [&#x27;balanced_subsample&#x27;],\n",
       "                         &#x27;n_estimators&#x27;: [300, 500, 700, 900, 1100, 1300]},\n",
       "             scoring=&#x27;accuracy&#x27;, verbose=1)</pre></div></div></div><div class=\"sk-parallel\"><div class=\"sk-parallel-item\"><div class=\"sk-item\"><div class=\"sk-label-container\"><div class=\"sk-label sk-toggleable\"><input class=\"sk-toggleable__control sk-hidden--visually\" id=\"sk-estimator-id-5\" type=\"checkbox\" ><label for=\"sk-estimator-id-5\" class=\"sk-toggleable__label sk-toggleable__label-arrow\">estimator: RandomForestClassifier</label><div class=\"sk-toggleable__content\"><pre>RandomForestClassifier()</pre></div></div></div><div class=\"sk-serial\"><div class=\"sk-item\"><div class=\"sk-estimator sk-toggleable\"><input class=\"sk-toggleable__control sk-hidden--visually\" id=\"sk-estimator-id-6\" type=\"checkbox\" ><label for=\"sk-estimator-id-6\" class=\"sk-toggleable__label sk-toggleable__label-arrow\">RandomForestClassifier</label><div class=\"sk-toggleable__content\"><pre>RandomForestClassifier()</pre></div></div></div></div></div></div></div></div></div></div>"
      ],
      "text/plain": [
       "GridSearchCV(cv=3, estimator=RandomForestClassifier(), n_jobs=-1,\n",
       "             param_grid={'class_weight': ['balanced_subsample'],\n",
       "                         'n_estimators': [300, 500, 700, 900, 1100, 1300]},\n",
       "             scoring='accuracy', verbose=1)"
      ]
     },
     "execution_count": 133,
     "metadata": {},
     "output_type": "execute_result"
    }
   ],
   "source": [
    "param_grid1 = {'class_weight':['balanced_subsample'],\n",
    "    \n",
    "          'n_estimators':[300, 500, 700, 900, 1100, 1300]\n",
    "         }\n",
    "\n",
    "final_model = RandomForestClassifier()\n",
    "grid1 = GridSearchCV(estimator=final_model, param_grid=param_grid1, n_jobs=-1, cv=3, verbose=1, scoring = 'accuracy')\n",
    "grid1.fit(X_train, y_train)"
   ]
  },
  {
   "cell_type": "code",
   "execution_count": 134,
   "metadata": {},
   "outputs": [
    {
     "data": {
      "text/plain": [
       "{'class_weight': 'balanced_subsample', 'n_estimators': 500}"
      ]
     },
     "execution_count": 134,
     "metadata": {},
     "output_type": "execute_result"
    }
   ],
   "source": [
    "grid1.best_params_"
   ]
  },
  {
   "cell_type": "code",
   "execution_count": 135,
   "metadata": {},
   "outputs": [
    {
     "data": {
      "text/plain": [
       "0.875125371144061"
      ]
     },
     "execution_count": 135,
     "metadata": {},
     "output_type": "execute_result"
    }
   ],
   "source": [
    "grid1.best_score_"
   ]
  },
  {
   "cell_type": "markdown",
   "metadata": {},
   "source": [
    "#### Grid 2: Selecting max depth and split criterion"
   ]
  },
  {
   "cell_type": "code",
   "execution_count": 138,
   "metadata": {},
   "outputs": [
    {
     "name": "stdout",
     "output_type": "stream",
     "text": [
      "Fitting 3 folds for each of 6 candidates, totalling 18 fits\n"
     ]
    },
    {
     "data": {
      "text/html": [
       "<style>#sk-container-id-5 {color: black;}#sk-container-id-5 pre{padding: 0;}#sk-container-id-5 div.sk-toggleable {background-color: white;}#sk-container-id-5 label.sk-toggleable__label {cursor: pointer;display: block;width: 100%;margin-bottom: 0;padding: 0.3em;box-sizing: border-box;text-align: center;}#sk-container-id-5 label.sk-toggleable__label-arrow:before {content: \"▸\";float: left;margin-right: 0.25em;color: #696969;}#sk-container-id-5 label.sk-toggleable__label-arrow:hover:before {color: black;}#sk-container-id-5 div.sk-estimator:hover label.sk-toggleable__label-arrow:before {color: black;}#sk-container-id-5 div.sk-toggleable__content {max-height: 0;max-width: 0;overflow: hidden;text-align: left;background-color: #f0f8ff;}#sk-container-id-5 div.sk-toggleable__content pre {margin: 0.2em;color: black;border-radius: 0.25em;background-color: #f0f8ff;}#sk-container-id-5 input.sk-toggleable__control:checked~div.sk-toggleable__content {max-height: 200px;max-width: 100%;overflow: auto;}#sk-container-id-5 input.sk-toggleable__control:checked~label.sk-toggleable__label-arrow:before {content: \"▾\";}#sk-container-id-5 div.sk-estimator input.sk-toggleable__control:checked~label.sk-toggleable__label {background-color: #d4ebff;}#sk-container-id-5 div.sk-label input.sk-toggleable__control:checked~label.sk-toggleable__label {background-color: #d4ebff;}#sk-container-id-5 input.sk-hidden--visually {border: 0;clip: rect(1px 1px 1px 1px);clip: rect(1px, 1px, 1px, 1px);height: 1px;margin: -1px;overflow: hidden;padding: 0;position: absolute;width: 1px;}#sk-container-id-5 div.sk-estimator {font-family: monospace;background-color: #f0f8ff;border: 1px dotted black;border-radius: 0.25em;box-sizing: border-box;margin-bottom: 0.5em;}#sk-container-id-5 div.sk-estimator:hover {background-color: #d4ebff;}#sk-container-id-5 div.sk-parallel-item::after {content: \"\";width: 100%;border-bottom: 1px solid gray;flex-grow: 1;}#sk-container-id-5 div.sk-label:hover label.sk-toggleable__label {background-color: #d4ebff;}#sk-container-id-5 div.sk-serial::before {content: \"\";position: absolute;border-left: 1px solid gray;box-sizing: border-box;top: 0;bottom: 0;left: 50%;z-index: 0;}#sk-container-id-5 div.sk-serial {display: flex;flex-direction: column;align-items: center;background-color: white;padding-right: 0.2em;padding-left: 0.2em;position: relative;}#sk-container-id-5 div.sk-item {position: relative;z-index: 1;}#sk-container-id-5 div.sk-parallel {display: flex;align-items: stretch;justify-content: center;background-color: white;position: relative;}#sk-container-id-5 div.sk-item::before, #sk-container-id-5 div.sk-parallel-item::before {content: \"\";position: absolute;border-left: 1px solid gray;box-sizing: border-box;top: 0;bottom: 0;left: 50%;z-index: -1;}#sk-container-id-5 div.sk-parallel-item {display: flex;flex-direction: column;z-index: 1;position: relative;background-color: white;}#sk-container-id-5 div.sk-parallel-item:first-child::after {align-self: flex-end;width: 50%;}#sk-container-id-5 div.sk-parallel-item:last-child::after {align-self: flex-start;width: 50%;}#sk-container-id-5 div.sk-parallel-item:only-child::after {width: 0;}#sk-container-id-5 div.sk-dashed-wrapped {border: 1px dashed gray;margin: 0 0.4em 0.5em 0.4em;box-sizing: border-box;padding-bottom: 0.4em;background-color: white;}#sk-container-id-5 div.sk-label label {font-family: monospace;font-weight: bold;display: inline-block;line-height: 1.2em;}#sk-container-id-5 div.sk-label-container {text-align: center;}#sk-container-id-5 div.sk-container {/* jupyter's `normalize.less` sets `[hidden] { display: none; }` but bootstrap.min.css set `[hidden] { display: none !important; }` so we also need the `!important` here to be able to override the default hidden behavior on the sphinx rendered scikit-learn.org. See: https://github.com/scikit-learn/scikit-learn/issues/21755 */display: inline-block !important;position: relative;}#sk-container-id-5 div.sk-text-repr-fallback {display: none;}</style><div id=\"sk-container-id-5\" class=\"sk-top-container\"><div class=\"sk-text-repr-fallback\"><pre>GridSearchCV(cv=3, estimator=RandomForestClassifier(), n_jobs=-1,\n",
       "             param_grid={&#x27;class_weight&#x27;: [&#x27;balanced_subsample&#x27;],\n",
       "                         &#x27;criterion&#x27;: [&#x27;entropy&#x27;, &#x27;gini&#x27;],\n",
       "                         &#x27;max_depth&#x27;: [23, 24, 25], &#x27;n_estimators&#x27;: [500]},\n",
       "             scoring=&#x27;accuracy&#x27;, verbose=1)</pre><b>In a Jupyter environment, please rerun this cell to show the HTML representation or trust the notebook. <br />On GitHub, the HTML representation is unable to render, please try loading this page with nbviewer.org.</b></div><div class=\"sk-container\" hidden><div class=\"sk-item sk-dashed-wrapped\"><div class=\"sk-label-container\"><div class=\"sk-label sk-toggleable\"><input class=\"sk-toggleable__control sk-hidden--visually\" id=\"sk-estimator-id-7\" type=\"checkbox\" ><label for=\"sk-estimator-id-7\" class=\"sk-toggleable__label sk-toggleable__label-arrow\">GridSearchCV</label><div class=\"sk-toggleable__content\"><pre>GridSearchCV(cv=3, estimator=RandomForestClassifier(), n_jobs=-1,\n",
       "             param_grid={&#x27;class_weight&#x27;: [&#x27;balanced_subsample&#x27;],\n",
       "                         &#x27;criterion&#x27;: [&#x27;entropy&#x27;, &#x27;gini&#x27;],\n",
       "                         &#x27;max_depth&#x27;: [23, 24, 25], &#x27;n_estimators&#x27;: [500]},\n",
       "             scoring=&#x27;accuracy&#x27;, verbose=1)</pre></div></div></div><div class=\"sk-parallel\"><div class=\"sk-parallel-item\"><div class=\"sk-item\"><div class=\"sk-label-container\"><div class=\"sk-label sk-toggleable\"><input class=\"sk-toggleable__control sk-hidden--visually\" id=\"sk-estimator-id-8\" type=\"checkbox\" ><label for=\"sk-estimator-id-8\" class=\"sk-toggleable__label sk-toggleable__label-arrow\">estimator: RandomForestClassifier</label><div class=\"sk-toggleable__content\"><pre>RandomForestClassifier()</pre></div></div></div><div class=\"sk-serial\"><div class=\"sk-item\"><div class=\"sk-estimator sk-toggleable\"><input class=\"sk-toggleable__control sk-hidden--visually\" id=\"sk-estimator-id-9\" type=\"checkbox\" ><label for=\"sk-estimator-id-9\" class=\"sk-toggleable__label sk-toggleable__label-arrow\">RandomForestClassifier</label><div class=\"sk-toggleable__content\"><pre>RandomForestClassifier()</pre></div></div></div></div></div></div></div></div></div></div>"
      ],
      "text/plain": [
       "GridSearchCV(cv=3, estimator=RandomForestClassifier(), n_jobs=-1,\n",
       "             param_grid={'class_weight': ['balanced_subsample'],\n",
       "                         'criterion': ['entropy', 'gini'],\n",
       "                         'max_depth': [23, 24, 25], 'n_estimators': [500]},\n",
       "             scoring='accuracy', verbose=1)"
      ]
     },
     "execution_count": 138,
     "metadata": {},
     "output_type": "execute_result"
    }
   ],
   "source": [
    "param_grid2 = {\n",
    "        'class_weight':['balanced_subsample'],\n",
    "          'n_estimators':[500],\n",
    "           'criterion': ['entropy', 'gini'],    \n",
    "          'max_depth': [23,24,25],\n",
    "         }\n",
    "\n",
    "final_model = RandomForestClassifier()\n",
    "grid2 = GridSearchCV(estimator=final_model, param_grid=param_grid2, n_jobs=-1, cv=3, verbose=1, scoring = 'accuracy')\n",
    "grid2.fit(X_train, y_train)"
   ]
  },
  {
   "cell_type": "code",
   "execution_count": 139,
   "metadata": {},
   "outputs": [
    {
     "data": {
      "text/plain": [
       "0.8736251366928721"
      ]
     },
     "execution_count": 139,
     "metadata": {},
     "output_type": "execute_result"
    }
   ],
   "source": [
    "grid2.best_score_"
   ]
  },
  {
   "cell_type": "code",
   "execution_count": 140,
   "metadata": {},
   "outputs": [
    {
     "data": {
      "text/plain": [
       "{'class_weight': 'balanced_subsample',\n",
       " 'criterion': 'entropy',\n",
       " 'max_depth': 24,\n",
       " 'n_estimators': 500}"
      ]
     },
     "execution_count": 140,
     "metadata": {},
     "output_type": "execute_result"
    }
   ],
   "source": [
    "grid2.best_params_"
   ]
  },
  {
   "cell_type": "markdown",
   "metadata": {},
   "source": [
    "#### Grid 3: Selecting minimum samples leaf and split"
   ]
  },
  {
   "cell_type": "code",
   "execution_count": 145,
   "metadata": {},
   "outputs": [
    {
     "name": "stdout",
     "output_type": "stream",
     "text": [
      "Fitting 3 folds for each of 6 candidates, totalling 18 fits\n"
     ]
    },
    {
     "data": {
      "text/html": [
       "<style>#sk-container-id-8 {color: black;}#sk-container-id-8 pre{padding: 0;}#sk-container-id-8 div.sk-toggleable {background-color: white;}#sk-container-id-8 label.sk-toggleable__label {cursor: pointer;display: block;width: 100%;margin-bottom: 0;padding: 0.3em;box-sizing: border-box;text-align: center;}#sk-container-id-8 label.sk-toggleable__label-arrow:before {content: \"▸\";float: left;margin-right: 0.25em;color: #696969;}#sk-container-id-8 label.sk-toggleable__label-arrow:hover:before {color: black;}#sk-container-id-8 div.sk-estimator:hover label.sk-toggleable__label-arrow:before {color: black;}#sk-container-id-8 div.sk-toggleable__content {max-height: 0;max-width: 0;overflow: hidden;text-align: left;background-color: #f0f8ff;}#sk-container-id-8 div.sk-toggleable__content pre {margin: 0.2em;color: black;border-radius: 0.25em;background-color: #f0f8ff;}#sk-container-id-8 input.sk-toggleable__control:checked~div.sk-toggleable__content {max-height: 200px;max-width: 100%;overflow: auto;}#sk-container-id-8 input.sk-toggleable__control:checked~label.sk-toggleable__label-arrow:before {content: \"▾\";}#sk-container-id-8 div.sk-estimator input.sk-toggleable__control:checked~label.sk-toggleable__label {background-color: #d4ebff;}#sk-container-id-8 div.sk-label input.sk-toggleable__control:checked~label.sk-toggleable__label {background-color: #d4ebff;}#sk-container-id-8 input.sk-hidden--visually {border: 0;clip: rect(1px 1px 1px 1px);clip: rect(1px, 1px, 1px, 1px);height: 1px;margin: -1px;overflow: hidden;padding: 0;position: absolute;width: 1px;}#sk-container-id-8 div.sk-estimator {font-family: monospace;background-color: #f0f8ff;border: 1px dotted black;border-radius: 0.25em;box-sizing: border-box;margin-bottom: 0.5em;}#sk-container-id-8 div.sk-estimator:hover {background-color: #d4ebff;}#sk-container-id-8 div.sk-parallel-item::after {content: \"\";width: 100%;border-bottom: 1px solid gray;flex-grow: 1;}#sk-container-id-8 div.sk-label:hover label.sk-toggleable__label {background-color: #d4ebff;}#sk-container-id-8 div.sk-serial::before {content: \"\";position: absolute;border-left: 1px solid gray;box-sizing: border-box;top: 0;bottom: 0;left: 50%;z-index: 0;}#sk-container-id-8 div.sk-serial {display: flex;flex-direction: column;align-items: center;background-color: white;padding-right: 0.2em;padding-left: 0.2em;position: relative;}#sk-container-id-8 div.sk-item {position: relative;z-index: 1;}#sk-container-id-8 div.sk-parallel {display: flex;align-items: stretch;justify-content: center;background-color: white;position: relative;}#sk-container-id-8 div.sk-item::before, #sk-container-id-8 div.sk-parallel-item::before {content: \"\";position: absolute;border-left: 1px solid gray;box-sizing: border-box;top: 0;bottom: 0;left: 50%;z-index: -1;}#sk-container-id-8 div.sk-parallel-item {display: flex;flex-direction: column;z-index: 1;position: relative;background-color: white;}#sk-container-id-8 div.sk-parallel-item:first-child::after {align-self: flex-end;width: 50%;}#sk-container-id-8 div.sk-parallel-item:last-child::after {align-self: flex-start;width: 50%;}#sk-container-id-8 div.sk-parallel-item:only-child::after {width: 0;}#sk-container-id-8 div.sk-dashed-wrapped {border: 1px dashed gray;margin: 0 0.4em 0.5em 0.4em;box-sizing: border-box;padding-bottom: 0.4em;background-color: white;}#sk-container-id-8 div.sk-label label {font-family: monospace;font-weight: bold;display: inline-block;line-height: 1.2em;}#sk-container-id-8 div.sk-label-container {text-align: center;}#sk-container-id-8 div.sk-container {/* jupyter's `normalize.less` sets `[hidden] { display: none; }` but bootstrap.min.css set `[hidden] { display: none !important; }` so we also need the `!important` here to be able to override the default hidden behavior on the sphinx rendered scikit-learn.org. See: https://github.com/scikit-learn/scikit-learn/issues/21755 */display: inline-block !important;position: relative;}#sk-container-id-8 div.sk-text-repr-fallback {display: none;}</style><div id=\"sk-container-id-8\" class=\"sk-top-container\"><div class=\"sk-text-repr-fallback\"><pre>GridSearchCV(cv=3, estimator=RandomForestClassifier(), n_jobs=-1,\n",
       "             param_grid={&#x27;class_weight&#x27;: [&#x27;balanced_subsample&#x27;],\n",
       "                         &#x27;criterion&#x27;: [&#x27;entropy&#x27;], &#x27;max_depth&#x27;: [24],\n",
       "                         &#x27;min_samples_leaf&#x27;: [1, 2, 3],\n",
       "                         &#x27;min_samples_split&#x27;: [2, 3], &#x27;n_estimators&#x27;: [500]},\n",
       "             scoring=&#x27;accuracy&#x27;, verbose=1)</pre><b>In a Jupyter environment, please rerun this cell to show the HTML representation or trust the notebook. <br />On GitHub, the HTML representation is unable to render, please try loading this page with nbviewer.org.</b></div><div class=\"sk-container\" hidden><div class=\"sk-item sk-dashed-wrapped\"><div class=\"sk-label-container\"><div class=\"sk-label sk-toggleable\"><input class=\"sk-toggleable__control sk-hidden--visually\" id=\"sk-estimator-id-16\" type=\"checkbox\" ><label for=\"sk-estimator-id-16\" class=\"sk-toggleable__label sk-toggleable__label-arrow\">GridSearchCV</label><div class=\"sk-toggleable__content\"><pre>GridSearchCV(cv=3, estimator=RandomForestClassifier(), n_jobs=-1,\n",
       "             param_grid={&#x27;class_weight&#x27;: [&#x27;balanced_subsample&#x27;],\n",
       "                         &#x27;criterion&#x27;: [&#x27;entropy&#x27;], &#x27;max_depth&#x27;: [24],\n",
       "                         &#x27;min_samples_leaf&#x27;: [1, 2, 3],\n",
       "                         &#x27;min_samples_split&#x27;: [2, 3], &#x27;n_estimators&#x27;: [500]},\n",
       "             scoring=&#x27;accuracy&#x27;, verbose=1)</pre></div></div></div><div class=\"sk-parallel\"><div class=\"sk-parallel-item\"><div class=\"sk-item\"><div class=\"sk-label-container\"><div class=\"sk-label sk-toggleable\"><input class=\"sk-toggleable__control sk-hidden--visually\" id=\"sk-estimator-id-17\" type=\"checkbox\" ><label for=\"sk-estimator-id-17\" class=\"sk-toggleable__label sk-toggleable__label-arrow\">estimator: RandomForestClassifier</label><div class=\"sk-toggleable__content\"><pre>RandomForestClassifier()</pre></div></div></div><div class=\"sk-serial\"><div class=\"sk-item\"><div class=\"sk-estimator sk-toggleable\"><input class=\"sk-toggleable__control sk-hidden--visually\" id=\"sk-estimator-id-18\" type=\"checkbox\" ><label for=\"sk-estimator-id-18\" class=\"sk-toggleable__label sk-toggleable__label-arrow\">RandomForestClassifier</label><div class=\"sk-toggleable__content\"><pre>RandomForestClassifier()</pre></div></div></div></div></div></div></div></div></div></div>"
      ],
      "text/plain": [
       "GridSearchCV(cv=3, estimator=RandomForestClassifier(), n_jobs=-1,\n",
       "             param_grid={'class_weight': ['balanced_subsample'],\n",
       "                         'criterion': ['entropy'], 'max_depth': [24],\n",
       "                         'min_samples_leaf': [1, 2, 3],\n",
       "                         'min_samples_split': [2, 3], 'n_estimators': [500]},\n",
       "             scoring='accuracy', verbose=1)"
      ]
     },
     "execution_count": 145,
     "metadata": {},
     "output_type": "execute_result"
    }
   ],
   "source": [
    "param_grid3 = {\n",
    "        'class_weight':['balanced_subsample'],\n",
    "          'n_estimators':[500],\n",
    "           'criterion': ['entropy'],    \n",
    "          'max_depth': [24],\n",
    "          'min_samples_leaf': [1,2,3],\n",
    "          'min_samples_split': [2,3]\n",
    "         }\n",
    "\n",
    "final_model = RandomForestClassifier()\n",
    "grid3 = GridSearchCV(estimator=final_model, param_grid=param_grid3, n_jobs=-1, cv=3, verbose=1, scoring = 'accuracy')\n",
    "grid3.fit(X_train, y_train)"
   ]
  },
  {
   "cell_type": "code",
   "execution_count": 146,
   "metadata": {},
   "outputs": [
    {
     "data": {
      "text/plain": [
       "0.8715000272377806"
      ]
     },
     "execution_count": 146,
     "metadata": {},
     "output_type": "execute_result"
    }
   ],
   "source": [
    "grid3.best_score_"
   ]
  },
  {
   "cell_type": "code",
   "execution_count": 147,
   "metadata": {},
   "outputs": [
    {
     "data": {
      "text/plain": [
       "{'class_weight': 'balanced_subsample',\n",
       " 'criterion': 'entropy',\n",
       " 'max_depth': 24,\n",
       " 'min_samples_leaf': 1,\n",
       " 'min_samples_split': 2,\n",
       " 'n_estimators': 500}"
      ]
     },
     "execution_count": 147,
     "metadata": {},
     "output_type": "execute_result"
    }
   ],
   "source": [
    "grid3.best_params_"
   ]
  },
  {
   "cell_type": "markdown",
   "metadata": {},
   "source": [
    "#### grid 4 :Selecting Class weight"
   ]
  },
  {
   "cell_type": "code",
   "execution_count": 148,
   "metadata": {},
   "outputs": [
    {
     "name": "stdout",
     "output_type": "stream",
     "text": [
      "Fitting 3 folds for each of 3 candidates, totalling 9 fits\n"
     ]
    },
    {
     "data": {
      "text/html": [
       "<style>#sk-container-id-9 {color: black;}#sk-container-id-9 pre{padding: 0;}#sk-container-id-9 div.sk-toggleable {background-color: white;}#sk-container-id-9 label.sk-toggleable__label {cursor: pointer;display: block;width: 100%;margin-bottom: 0;padding: 0.3em;box-sizing: border-box;text-align: center;}#sk-container-id-9 label.sk-toggleable__label-arrow:before {content: \"▸\";float: left;margin-right: 0.25em;color: #696969;}#sk-container-id-9 label.sk-toggleable__label-arrow:hover:before {color: black;}#sk-container-id-9 div.sk-estimator:hover label.sk-toggleable__label-arrow:before {color: black;}#sk-container-id-9 div.sk-toggleable__content {max-height: 0;max-width: 0;overflow: hidden;text-align: left;background-color: #f0f8ff;}#sk-container-id-9 div.sk-toggleable__content pre {margin: 0.2em;color: black;border-radius: 0.25em;background-color: #f0f8ff;}#sk-container-id-9 input.sk-toggleable__control:checked~div.sk-toggleable__content {max-height: 200px;max-width: 100%;overflow: auto;}#sk-container-id-9 input.sk-toggleable__control:checked~label.sk-toggleable__label-arrow:before {content: \"▾\";}#sk-container-id-9 div.sk-estimator input.sk-toggleable__control:checked~label.sk-toggleable__label {background-color: #d4ebff;}#sk-container-id-9 div.sk-label input.sk-toggleable__control:checked~label.sk-toggleable__label {background-color: #d4ebff;}#sk-container-id-9 input.sk-hidden--visually {border: 0;clip: rect(1px 1px 1px 1px);clip: rect(1px, 1px, 1px, 1px);height: 1px;margin: -1px;overflow: hidden;padding: 0;position: absolute;width: 1px;}#sk-container-id-9 div.sk-estimator {font-family: monospace;background-color: #f0f8ff;border: 1px dotted black;border-radius: 0.25em;box-sizing: border-box;margin-bottom: 0.5em;}#sk-container-id-9 div.sk-estimator:hover {background-color: #d4ebff;}#sk-container-id-9 div.sk-parallel-item::after {content: \"\";width: 100%;border-bottom: 1px solid gray;flex-grow: 1;}#sk-container-id-9 div.sk-label:hover label.sk-toggleable__label {background-color: #d4ebff;}#sk-container-id-9 div.sk-serial::before {content: \"\";position: absolute;border-left: 1px solid gray;box-sizing: border-box;top: 0;bottom: 0;left: 50%;z-index: 0;}#sk-container-id-9 div.sk-serial {display: flex;flex-direction: column;align-items: center;background-color: white;padding-right: 0.2em;padding-left: 0.2em;position: relative;}#sk-container-id-9 div.sk-item {position: relative;z-index: 1;}#sk-container-id-9 div.sk-parallel {display: flex;align-items: stretch;justify-content: center;background-color: white;position: relative;}#sk-container-id-9 div.sk-item::before, #sk-container-id-9 div.sk-parallel-item::before {content: \"\";position: absolute;border-left: 1px solid gray;box-sizing: border-box;top: 0;bottom: 0;left: 50%;z-index: -1;}#sk-container-id-9 div.sk-parallel-item {display: flex;flex-direction: column;z-index: 1;position: relative;background-color: white;}#sk-container-id-9 div.sk-parallel-item:first-child::after {align-self: flex-end;width: 50%;}#sk-container-id-9 div.sk-parallel-item:last-child::after {align-self: flex-start;width: 50%;}#sk-container-id-9 div.sk-parallel-item:only-child::after {width: 0;}#sk-container-id-9 div.sk-dashed-wrapped {border: 1px dashed gray;margin: 0 0.4em 0.5em 0.4em;box-sizing: border-box;padding-bottom: 0.4em;background-color: white;}#sk-container-id-9 div.sk-label label {font-family: monospace;font-weight: bold;display: inline-block;line-height: 1.2em;}#sk-container-id-9 div.sk-label-container {text-align: center;}#sk-container-id-9 div.sk-container {/* jupyter's `normalize.less` sets `[hidden] { display: none; }` but bootstrap.min.css set `[hidden] { display: none !important; }` so we also need the `!important` here to be able to override the default hidden behavior on the sphinx rendered scikit-learn.org. See: https://github.com/scikit-learn/scikit-learn/issues/21755 */display: inline-block !important;position: relative;}#sk-container-id-9 div.sk-text-repr-fallback {display: none;}</style><div id=\"sk-container-id-9\" class=\"sk-top-container\"><div class=\"sk-text-repr-fallback\"><pre>GridSearchCV(cv=3, estimator=RandomForestClassifier(), n_jobs=-1,\n",
       "             param_grid={&#x27;class_weight&#x27;: [{0: 1, 1: 1}, {0: 1, 1: 2},\n",
       "                                          {0: 1, 1: 3}],\n",
       "                         &#x27;criterion&#x27;: [&#x27;entropy&#x27;], &#x27;max_depth&#x27;: [224],\n",
       "                         &#x27;min_samples_leaf&#x27;: [1], &#x27;min_samples_split&#x27;: [2],\n",
       "                         &#x27;n_estimators&#x27;: [500]},\n",
       "             scoring=&#x27;accuracy&#x27;, verbose=1)</pre><b>In a Jupyter environment, please rerun this cell to show the HTML representation or trust the notebook. <br />On GitHub, the HTML representation is unable to render, please try loading this page with nbviewer.org.</b></div><div class=\"sk-container\" hidden><div class=\"sk-item sk-dashed-wrapped\"><div class=\"sk-label-container\"><div class=\"sk-label sk-toggleable\"><input class=\"sk-toggleable__control sk-hidden--visually\" id=\"sk-estimator-id-19\" type=\"checkbox\" ><label for=\"sk-estimator-id-19\" class=\"sk-toggleable__label sk-toggleable__label-arrow\">GridSearchCV</label><div class=\"sk-toggleable__content\"><pre>GridSearchCV(cv=3, estimator=RandomForestClassifier(), n_jobs=-1,\n",
       "             param_grid={&#x27;class_weight&#x27;: [{0: 1, 1: 1}, {0: 1, 1: 2},\n",
       "                                          {0: 1, 1: 3}],\n",
       "                         &#x27;criterion&#x27;: [&#x27;entropy&#x27;], &#x27;max_depth&#x27;: [224],\n",
       "                         &#x27;min_samples_leaf&#x27;: [1], &#x27;min_samples_split&#x27;: [2],\n",
       "                         &#x27;n_estimators&#x27;: [500]},\n",
       "             scoring=&#x27;accuracy&#x27;, verbose=1)</pre></div></div></div><div class=\"sk-parallel\"><div class=\"sk-parallel-item\"><div class=\"sk-item\"><div class=\"sk-label-container\"><div class=\"sk-label sk-toggleable\"><input class=\"sk-toggleable__control sk-hidden--visually\" id=\"sk-estimator-id-20\" type=\"checkbox\" ><label for=\"sk-estimator-id-20\" class=\"sk-toggleable__label sk-toggleable__label-arrow\">estimator: RandomForestClassifier</label><div class=\"sk-toggleable__content\"><pre>RandomForestClassifier()</pre></div></div></div><div class=\"sk-serial\"><div class=\"sk-item\"><div class=\"sk-estimator sk-toggleable\"><input class=\"sk-toggleable__control sk-hidden--visually\" id=\"sk-estimator-id-21\" type=\"checkbox\" ><label for=\"sk-estimator-id-21\" class=\"sk-toggleable__label sk-toggleable__label-arrow\">RandomForestClassifier</label><div class=\"sk-toggleable__content\"><pre>RandomForestClassifier()</pre></div></div></div></div></div></div></div></div></div></div>"
      ],
      "text/plain": [
       "GridSearchCV(cv=3, estimator=RandomForestClassifier(), n_jobs=-1,\n",
       "             param_grid={'class_weight': [{0: 1, 1: 1}, {0: 1, 1: 2},\n",
       "                                          {0: 1, 1: 3}],\n",
       "                         'criterion': ['entropy'], 'max_depth': [224],\n",
       "                         'min_samples_leaf': [1], 'min_samples_split': [2],\n",
       "                         'n_estimators': [500]},\n",
       "             scoring='accuracy', verbose=1)"
      ]
     },
     "execution_count": 148,
     "metadata": {},
     "output_type": "execute_result"
    }
   ],
   "source": [
    "param_grid4 = {\n",
    "\n",
    "        'class_weight':['balanced_subsample'],\n",
    "          'n_estimators':[500],\n",
    "           'criterion': ['entropy'],    \n",
    "          'max_depth': [224],\n",
    "          'min_samples_leaf': [1],\n",
    "          'min_samples_split': [2],\n",
    "          'class_weight':[{0:1, 1:1}, {0:1, 1:2}, {0:1, 1:3}],\n",
    "         }\n",
    "\n",
    "final_model = RandomForestClassifier()\n",
    "grid4 = GridSearchCV(estimator=final_model, param_grid=param_grid4, n_jobs=-1, cv=3, verbose=1, scoring = 'accuracy')\n",
    "grid4.fit(X_train, y_train)"
   ]
  },
  {
   "cell_type": "code",
   "execution_count": 149,
   "metadata": {},
   "outputs": [
    {
     "data": {
      "text/plain": [
       "{'class_weight': {0: 1, 1: 3},\n",
       " 'criterion': 'entropy',\n",
       " 'max_depth': 224,\n",
       " 'min_samples_leaf': 1,\n",
       " 'min_samples_split': 2,\n",
       " 'n_estimators': 500}"
      ]
     },
     "execution_count": 149,
     "metadata": {},
     "output_type": "execute_result"
    }
   ],
   "source": [
    "grid4.best_params_"
   ]
  },
  {
   "cell_type": "code",
   "execution_count": 150,
   "metadata": {},
   "outputs": [
    {
     "data": {
      "text/plain": [
       "0.8751252773823377"
      ]
     },
     "execution_count": 150,
     "metadata": {},
     "output_type": "execute_result"
    }
   ],
   "source": [
    "grid4.best_score_"
   ]
  },
  {
   "cell_type": "markdown",
   "metadata": {},
   "source": [
    "### Selecting the best parameters for Random forest classifier from the above method"
   ]
  },
  {
   "cell_type": "code",
   "execution_count": 151,
   "metadata": {},
   "outputs": [],
   "source": [
    "model = RandomForestClassifier( class_weight={0: 1, 1: 3},\n",
    "                       criterion='entropy', max_depth=25,\n",
    "                       max_leaf_nodes=None, max_samples=None,\n",
    "                       min_samples_leaf=1, min_samples_split=2,\n",
    "                       n_estimators=700,\n",
    "                     \n",
    "                      )"
   ]
  },
  {
   "cell_type": "code",
   "execution_count": 152,
   "metadata": {},
   "outputs": [
    {
     "data": {
      "text/html": [
       "<style>#sk-container-id-10 {color: black;}#sk-container-id-10 pre{padding: 0;}#sk-container-id-10 div.sk-toggleable {background-color: white;}#sk-container-id-10 label.sk-toggleable__label {cursor: pointer;display: block;width: 100%;margin-bottom: 0;padding: 0.3em;box-sizing: border-box;text-align: center;}#sk-container-id-10 label.sk-toggleable__label-arrow:before {content: \"▸\";float: left;margin-right: 0.25em;color: #696969;}#sk-container-id-10 label.sk-toggleable__label-arrow:hover:before {color: black;}#sk-container-id-10 div.sk-estimator:hover label.sk-toggleable__label-arrow:before {color: black;}#sk-container-id-10 div.sk-toggleable__content {max-height: 0;max-width: 0;overflow: hidden;text-align: left;background-color: #f0f8ff;}#sk-container-id-10 div.sk-toggleable__content pre {margin: 0.2em;color: black;border-radius: 0.25em;background-color: #f0f8ff;}#sk-container-id-10 input.sk-toggleable__control:checked~div.sk-toggleable__content {max-height: 200px;max-width: 100%;overflow: auto;}#sk-container-id-10 input.sk-toggleable__control:checked~label.sk-toggleable__label-arrow:before {content: \"▾\";}#sk-container-id-10 div.sk-estimator input.sk-toggleable__control:checked~label.sk-toggleable__label {background-color: #d4ebff;}#sk-container-id-10 div.sk-label input.sk-toggleable__control:checked~label.sk-toggleable__label {background-color: #d4ebff;}#sk-container-id-10 input.sk-hidden--visually {border: 0;clip: rect(1px 1px 1px 1px);clip: rect(1px, 1px, 1px, 1px);height: 1px;margin: -1px;overflow: hidden;padding: 0;position: absolute;width: 1px;}#sk-container-id-10 div.sk-estimator {font-family: monospace;background-color: #f0f8ff;border: 1px dotted black;border-radius: 0.25em;box-sizing: border-box;margin-bottom: 0.5em;}#sk-container-id-10 div.sk-estimator:hover {background-color: #d4ebff;}#sk-container-id-10 div.sk-parallel-item::after {content: \"\";width: 100%;border-bottom: 1px solid gray;flex-grow: 1;}#sk-container-id-10 div.sk-label:hover label.sk-toggleable__label {background-color: #d4ebff;}#sk-container-id-10 div.sk-serial::before {content: \"\";position: absolute;border-left: 1px solid gray;box-sizing: border-box;top: 0;bottom: 0;left: 50%;z-index: 0;}#sk-container-id-10 div.sk-serial {display: flex;flex-direction: column;align-items: center;background-color: white;padding-right: 0.2em;padding-left: 0.2em;position: relative;}#sk-container-id-10 div.sk-item {position: relative;z-index: 1;}#sk-container-id-10 div.sk-parallel {display: flex;align-items: stretch;justify-content: center;background-color: white;position: relative;}#sk-container-id-10 div.sk-item::before, #sk-container-id-10 div.sk-parallel-item::before {content: \"\";position: absolute;border-left: 1px solid gray;box-sizing: border-box;top: 0;bottom: 0;left: 50%;z-index: -1;}#sk-container-id-10 div.sk-parallel-item {display: flex;flex-direction: column;z-index: 1;position: relative;background-color: white;}#sk-container-id-10 div.sk-parallel-item:first-child::after {align-self: flex-end;width: 50%;}#sk-container-id-10 div.sk-parallel-item:last-child::after {align-self: flex-start;width: 50%;}#sk-container-id-10 div.sk-parallel-item:only-child::after {width: 0;}#sk-container-id-10 div.sk-dashed-wrapped {border: 1px dashed gray;margin: 0 0.4em 0.5em 0.4em;box-sizing: border-box;padding-bottom: 0.4em;background-color: white;}#sk-container-id-10 div.sk-label label {font-family: monospace;font-weight: bold;display: inline-block;line-height: 1.2em;}#sk-container-id-10 div.sk-label-container {text-align: center;}#sk-container-id-10 div.sk-container {/* jupyter's `normalize.less` sets `[hidden] { display: none; }` but bootstrap.min.css set `[hidden] { display: none !important; }` so we also need the `!important` here to be able to override the default hidden behavior on the sphinx rendered scikit-learn.org. See: https://github.com/scikit-learn/scikit-learn/issues/21755 */display: inline-block !important;position: relative;}#sk-container-id-10 div.sk-text-repr-fallback {display: none;}</style><div id=\"sk-container-id-10\" class=\"sk-top-container\"><div class=\"sk-text-repr-fallback\"><pre>RandomForestClassifier(class_weight={0: 1, 1: 3}, criterion=&#x27;entropy&#x27;,\n",
       "                       max_depth=25, n_estimators=700)</pre><b>In a Jupyter environment, please rerun this cell to show the HTML representation or trust the notebook. <br />On GitHub, the HTML representation is unable to render, please try loading this page with nbviewer.org.</b></div><div class=\"sk-container\" hidden><div class=\"sk-item\"><div class=\"sk-estimator sk-toggleable\"><input class=\"sk-toggleable__control sk-hidden--visually\" id=\"sk-estimator-id-22\" type=\"checkbox\" checked><label for=\"sk-estimator-id-22\" class=\"sk-toggleable__label sk-toggleable__label-arrow\">RandomForestClassifier</label><div class=\"sk-toggleable__content\"><pre>RandomForestClassifier(class_weight={0: 1, 1: 3}, criterion=&#x27;entropy&#x27;,\n",
       "                       max_depth=25, n_estimators=700)</pre></div></div></div></div></div>"
      ],
      "text/plain": [
       "RandomForestClassifier(class_weight={0: 1, 1: 3}, criterion='entropy',\n",
       "                       max_depth=25, n_estimators=700)"
      ]
     },
     "execution_count": 152,
     "metadata": {},
     "output_type": "execute_result"
    }
   ],
   "source": [
    "model.fit(X_train,y_train)"
   ]
  },
  {
   "cell_type": "code",
   "execution_count": 153,
   "metadata": {},
   "outputs": [],
   "source": [
    "from sklearn.metrics import roc_auc_score,roc_curve"
   ]
  },
  {
   "cell_type": "markdown",
   "metadata": {},
   "source": [
    "### Creating a Prediction function for the evaluation purpose"
   ]
  },
  {
   "cell_type": "code",
   "execution_count": 154,
   "metadata": {},
   "outputs": [],
   "source": [
    "\n",
    "def prediction(model, X_train,y_train ,X_test, y_test):\n",
    "    model.fit(X_train,y_train)\n",
    "    predictions = model.predict(X_test)\n",
    "    probabilities = model.predict_proba(X_test)[:,1]\n",
    "    print (model)\n",
    "    print (\"\\n Classification report : \\n\",classification_report(y_test,predictions))\n",
    "    print (\"Accuracy   Score : \",accuracy_score(y_test,predictions))\n",
    "    conf_matrix = confusion_matrix(y_test,predictions)\n",
    "    plt.figure(figsize=(12,12))\n",
    "    plt.subplot(221)\n",
    "    sns.heatmap(conf_matrix, fmt = \"d\",annot=True, cmap='Blues')\n",
    "    plt.title('Confuion Matrix')\n",
    "    plt.ylabel('True Values')\n",
    "    plt.xlabel('Predicted Values')\n",
    "    model_roc_auc = roc_auc_score(y_test,probabilities) \n",
    "    print (\"Area under curve : \",model_roc_auc,\"\\n\")\n",
    "    fpr,tpr,thresholds = roc_curve(y_test,probabilities)\n",
    "    plt.subplot(222)\n",
    "    plt.plot(fpr, tpr, color='darkorange', lw=1, label = \"Auc : %.3f\" %model_roc_auc)\n",
    "    plt.plot([0, 1], [0, 1], color='navy', lw=2, linestyle='--')\n",
    "    plt.xlim([0.0, 1.0])\n",
    "    plt.ylim([0.0, 1.05])\n",
    "    plt.xlabel('False Positive Rate')\n",
    "    plt.ylabel('True Positive Rate')\n",
    "    plt.title('Receiver operating characteristic')\n",
    "    plt.legend(loc=\"lower right\")\n",
    "   \n",
    "    plt.show()\n",
    "    \n",
    "    "
   ]
  },
  {
   "cell_type": "code",
   "execution_count": 155,
   "metadata": {},
   "outputs": [
    {
     "name": "stdout",
     "output_type": "stream",
     "text": [
      "RandomForestClassifier(class_weight={0: 1, 1: 3}, criterion='entropy',\n",
      "                       max_depth=25, n_estimators=700)\n",
      "\n",
      " Classification report : \n",
      "               precision    recall  f1-score   support\n",
      "\n",
      "           0       0.82      0.79      0.80       673\n",
      "           1       0.90      0.91      0.90      1327\n",
      "\n",
      "    accuracy                           0.87      2000\n",
      "   macro avg       0.86      0.85      0.85      2000\n",
      "weighted avg       0.87      0.87      0.87      2000\n",
      "\n",
      "Accuracy   Score :  0.8695\n",
      "Area under curve :  0.95087680598743 \n",
      "\n"
     ]
    },
    {
     "data": {
      "image/png": "[encoded data removed]",
      "text/plain": [
       "<Figure size 1200x1200 with 3 Axes>"
      ]
     },
     "metadata": {},
     "output_type": "display_data"
    }
   ],
   "source": [
    "prediction(model,X_train,y_train,X_test,y_test)"
   ]
  },
  {
   "cell_type": "markdown",
   "metadata": {},
   "source": [
    "### Getting a predtictions for Assignment_test data as i have preprocessed befor and stored in a test_data variable"
   ]
  },
  {
   "cell_type": "code",
   "execution_count": 156,
   "metadata": {},
   "outputs": [],
   "source": [
    "pred=model.predict(test_data)"
   ]
  },
  {
   "cell_type": "code",
   "execution_count": 157,
   "metadata": {},
   "outputs": [
    {
     "data": {
      "text/plain": [
       "array([1, 1, 1, ..., 0, 1, 1], dtype=int64)"
      ]
     },
     "execution_count": 157,
     "metadata": {},
     "output_type": "execute_result"
    }
   ],
   "source": [
    "pred"
   ]
  },
  {
   "cell_type": "code",
   "execution_count": 158,
   "metadata": {},
   "outputs": [
    {
     "data": {
      "text/plain": [
       "2000"
      ]
     },
     "execution_count": 158,
     "metadata": {},
     "output_type": "execute_result"
    }
   ],
   "source": [
    "len(pred)"
   ]
  },
  {
   "cell_type": "code",
   "execution_count": 159,
   "metadata": {},
   "outputs": [
    {
     "data": {
      "text/plain": [
       "0       1844045271814558464\n",
       "1       1840349097823778816\n",
       "2       1488102613362294272\n",
       "3        555529923942874624\n",
       "4       1010213070486150912\n",
       "               ...         \n",
       "1995    1595862360559879424\n",
       "1996     879889749720017664\n",
       "1997     242909456443720192\n",
       "1998     138725642700761856\n",
       "1999    1680321200653072640\n",
       "Name: UID, Length: 2000, dtype: int64"
      ]
     },
     "execution_count": 159,
     "metadata": {},
     "output_type": "execute_result"
    }
   ],
   "source": [
    "df_test['UID']"
   ]
  },
  {
   "cell_type": "code",
   "execution_count": 160,
   "metadata": {},
   "outputs": [],
   "source": [
    "uid=df_test['UID'].to_numpy()"
   ]
  },
  {
   "cell_type": "markdown",
   "metadata": {},
   "source": [
    "### creating a dataframe with UID and application status features"
   ]
  },
  {
   "cell_type": "code",
   "execution_count": 161,
   "metadata": {},
   "outputs": [],
   "source": [
    "new_df = pd.DataFrame({\n",
    "    'UID': uid,\n",
    "    'Prediction': pred\n",
    "})"
   ]
  },
  {
   "cell_type": "code",
   "execution_count": 162,
   "metadata": {},
   "outputs": [
    {
     "data": {
      "text/html": [
       "<div>\n",
       "<style scoped>\n",
       "    .dataframe tbody tr th:only-of-type {\n",
       "        vertical-align: middle;\n",
       "    }\n",
       "\n",
       "    .dataframe tbody tr th {\n",
       "        vertical-align: top;\n",
       "    }\n",
       "\n",
       "    .dataframe thead th {\n",
       "        text-align: right;\n",
       "    }\n",
       "</style>\n",
       "<table border=\"1\" class=\"dataframe\">\n",
       "  <thead>\n",
       "    <tr style=\"text-align: right;\">\n",
       "      <th></th>\n",
       "      <th>UID</th>\n",
       "      <th>Prediction</th>\n",
       "    </tr>\n",
       "  </thead>\n",
       "  <tbody>\n",
       "    <tr>\n",
       "      <th>0</th>\n",
       "      <td>1844045271814558464</td>\n",
       "      <td>1</td>\n",
       "    </tr>\n",
       "    <tr>\n",
       "      <th>1</th>\n",
       "      <td>1840349097823778816</td>\n",
       "      <td>1</td>\n",
       "    </tr>\n",
       "    <tr>\n",
       "      <th>2</th>\n",
       "      <td>1488102613362294272</td>\n",
       "      <td>1</td>\n",
       "    </tr>\n",
       "    <tr>\n",
       "      <th>3</th>\n",
       "      <td>555529923942874624</td>\n",
       "      <td>0</td>\n",
       "    </tr>\n",
       "    <tr>\n",
       "      <th>4</th>\n",
       "      <td>1010213070486150912</td>\n",
       "      <td>1</td>\n",
       "    </tr>\n",
       "  </tbody>\n",
       "</table>\n",
       "</div>"
      ],
      "text/plain": [
       "                   UID  Prediction\n",
       "0  1844045271814558464           1\n",
       "1  1840349097823778816           1\n",
       "2  1488102613362294272           1\n",
       "3   555529923942874624           0\n",
       "4  1010213070486150912           1"
      ]
     },
     "execution_count": 162,
     "metadata": {},
     "output_type": "execute_result"
    }
   ],
   "source": [
    "new_df.head()"
   ]
  },
  {
   "cell_type": "code",
   "execution_count": 163,
   "metadata": {},
   "outputs": [],
   "source": [
    "new_df['Prediction'] = new_df['Prediction'].map({1:'APPROVED', 0:'DECLINED'})"
   ]
  },
  {
   "cell_type": "code",
   "execution_count": 164,
   "metadata": {},
   "outputs": [
    {
     "data": {
      "text/html": [
       "<div>\n",
       "<style scoped>\n",
       "    .dataframe tbody tr th:only-of-type {\n",
       "        vertical-align: middle;\n",
       "    }\n",
       "\n",
       "    .dataframe tbody tr th {\n",
       "        vertical-align: top;\n",
       "    }\n",
       "\n",
       "    .dataframe thead th {\n",
       "        text-align: right;\n",
       "    }\n",
       "</style>\n",
       "<table border=\"1\" class=\"dataframe\">\n",
       "  <thead>\n",
       "    <tr style=\"text-align: right;\">\n",
       "      <th></th>\n",
       "      <th>UID</th>\n",
       "      <th>Prediction</th>\n",
       "    </tr>\n",
       "  </thead>\n",
       "  <tbody>\n",
       "    <tr>\n",
       "      <th>0</th>\n",
       "      <td>1844045271814558464</td>\n",
       "      <td>APPROVED</td>\n",
       "    </tr>\n",
       "    <tr>\n",
       "      <th>1</th>\n",
       "      <td>1840349097823778816</td>\n",
       "      <td>APPROVED</td>\n",
       "    </tr>\n",
       "    <tr>\n",
       "      <th>2</th>\n",
       "      <td>1488102613362294272</td>\n",
       "      <td>APPROVED</td>\n",
       "    </tr>\n",
       "    <tr>\n",
       "      <th>3</th>\n",
       "      <td>555529923942874624</td>\n",
       "      <td>DECLINED</td>\n",
       "    </tr>\n",
       "    <tr>\n",
       "      <th>4</th>\n",
       "      <td>1010213070486150912</td>\n",
       "      <td>APPROVED</td>\n",
       "    </tr>\n",
       "  </tbody>\n",
       "</table>\n",
       "</div>"
      ],
      "text/plain": [
       "                   UID Prediction\n",
       "0  1844045271814558464   APPROVED\n",
       "1  1840349097823778816   APPROVED\n",
       "2  1488102613362294272   APPROVED\n",
       "3   555529923942874624   DECLINED\n",
       "4  1010213070486150912   APPROVED"
      ]
     },
     "execution_count": 164,
     "metadata": {},
     "output_type": "execute_result"
    }
   ],
   "source": [
    "new_df.head()"
   ]
  },
  {
   "cell_type": "markdown",
   "metadata": {},
   "source": [
    "### Storing this dataframe to predictions.csv file as mentioned in the assignment with UID columns and Prediction"
   ]
  },
  {
   "cell_type": "code",
   "execution_count": 165,
   "metadata": {},
   "outputs": [],
   "source": [
    "new_df.to_csv('predictions.csv')"
   ]
  }
 ],
 "metadata": {
  "kernelspec": {
   "display_name": "Python 3",
   "language": "python",
   "name": "python3"
  },
  "language_info": {
   "codemirror_mode": {
    "name": "ipython",
    "version": 3
   },
   "file_extension": ".py",
   "mimetype": "text/x-python",
   "name": "python",
   "nbconvert_exporter": "python",
   "pygments_lexer": "ipython3",
   "version": "3.12.4"
  }
 },
 "nbformat": 4,
 "nbformat_minor": 2
}
